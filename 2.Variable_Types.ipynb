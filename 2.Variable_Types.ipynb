{
  "cells": [
    {
      "cell_type": "code",
      "execution_count": null,
      "id": "bdb4dae4",
      "metadata": {
        "id": "bdb4dae4"
      },
      "outputs": [],
      "source": [
        "x = 10\n",
        "y = 10.5\n",
        "z = \"Zara\"\n",
        "c = 3+4j"
      ]
    },
    {
      "cell_type": "code",
      "execution_count": null,
      "id": "ebb5e0f5",
      "metadata": {
        "colab": {
          "base_uri": "https://localhost:8080/"
        },
        "id": "ebb5e0f5",
        "outputId": "0aa151d7-abbb-41f8-e470-9783a51f1f00"
      },
      "outputs": [
        {
          "output_type": "execute_result",
          "data": {
            "text/plain": [
              "10"
            ]
          },
          "metadata": {},
          "execution_count": 2
        }
      ],
      "source": [
        "x"
      ]
    },
    {
      "cell_type": "code",
      "execution_count": null,
      "id": "07db9ae9",
      "metadata": {
        "colab": {
          "base_uri": "https://localhost:8080/"
        },
        "id": "07db9ae9",
        "outputId": "f9926dbc-0dec-42ee-b5ee-74097a4a9eec"
      },
      "outputs": [
        {
          "output_type": "execute_result",
          "data": {
            "text/plain": [
              "10.5"
            ]
          },
          "metadata": {},
          "execution_count": 3
        }
      ],
      "source": [
        "y"
      ]
    },
    {
      "cell_type": "code",
      "execution_count": null,
      "id": "6ce0c4ff",
      "metadata": {
        "colab": {
          "base_uri": "https://localhost:8080/",
          "height": 36
        },
        "id": "6ce0c4ff",
        "outputId": "1a129009-4ed8-421d-e00a-7c73a747ab76"
      },
      "outputs": [
        {
          "output_type": "execute_result",
          "data": {
            "text/plain": [
              "'Zara'"
            ],
            "application/vnd.google.colaboratory.intrinsic+json": {
              "type": "string"
            }
          },
          "metadata": {},
          "execution_count": 4
        }
      ],
      "source": [
        "z"
      ]
    },
    {
      "cell_type": "code",
      "execution_count": null,
      "id": "0bd59bb2",
      "metadata": {
        "colab": {
          "base_uri": "https://localhost:8080/"
        },
        "id": "0bd59bb2",
        "outputId": "77c1cd59-dcac-4c63-b6f9-b89c74b1d8ca"
      },
      "outputs": [
        {
          "output_type": "execute_result",
          "data": {
            "text/plain": [
              "(3+4j)"
            ]
          },
          "metadata": {},
          "execution_count": 5
        }
      ],
      "source": [
        "c"
      ]
    },
    {
      "cell_type": "markdown",
      "id": "deab8f1b",
      "metadata": {
        "id": "deab8f1b"
      },
      "source": [
        "# Multiple Assignments"
      ]
    },
    {
      "cell_type": "code",
      "execution_count": null,
      "id": "cf06e5c3",
      "metadata": {
        "id": "cf06e5c3"
      },
      "outputs": [],
      "source": [
        "a = b = c = 30"
      ]
    },
    {
      "cell_type": "code",
      "execution_count": null,
      "id": "d4d1a390",
      "metadata": {
        "colab": {
          "base_uri": "https://localhost:8080/"
        },
        "id": "d4d1a390",
        "outputId": "0ae6b77e-5214-4f1f-b985-729f08cc8b31"
      },
      "outputs": [
        {
          "output_type": "execute_result",
          "data": {
            "text/plain": [
              "30"
            ]
          },
          "metadata": {},
          "execution_count": 7
        }
      ],
      "source": [
        "a"
      ]
    },
    {
      "cell_type": "code",
      "execution_count": null,
      "id": "16df451c",
      "metadata": {
        "colab": {
          "base_uri": "https://localhost:8080/"
        },
        "id": "16df451c",
        "outputId": "6fc3dfa8-420a-41dd-bbca-e63bca9805a3"
      },
      "outputs": [
        {
          "output_type": "execute_result",
          "data": {
            "text/plain": [
              "30"
            ]
          },
          "metadata": {},
          "execution_count": 8
        }
      ],
      "source": [
        "b"
      ]
    },
    {
      "cell_type": "code",
      "execution_count": null,
      "id": "e8943f51",
      "metadata": {
        "colab": {
          "base_uri": "https://localhost:8080/"
        },
        "id": "e8943f51",
        "outputId": "6869336a-920c-4e15-824f-44d4db0d9fc6"
      },
      "outputs": [
        {
          "output_type": "execute_result",
          "data": {
            "text/plain": [
              "30"
            ]
          },
          "metadata": {},
          "execution_count": 9
        }
      ],
      "source": [
        "c"
      ]
    },
    {
      "cell_type": "code",
      "execution_count": null,
      "id": "bb15fe6c",
      "metadata": {
        "id": "bb15fe6c"
      },
      "outputs": [],
      "source": [
        "name , age , sub = \"krish\",21,\"Python\""
      ]
    },
    {
      "cell_type": "code",
      "execution_count": null,
      "id": "4873fe5f",
      "metadata": {
        "colab": {
          "base_uri": "https://localhost:8080/",
          "height": 36
        },
        "id": "4873fe5f",
        "outputId": "aaa0fe3e-69ea-4664-a2e8-3a19ae49c25b"
      },
      "outputs": [
        {
          "output_type": "execute_result",
          "data": {
            "text/plain": [
              "'krish'"
            ],
            "application/vnd.google.colaboratory.intrinsic+json": {
              "type": "string"
            }
          },
          "metadata": {},
          "execution_count": 11
        }
      ],
      "source": [
        "name"
      ]
    },
    {
      "cell_type": "code",
      "execution_count": null,
      "id": "8eee7b2b",
      "metadata": {
        "colab": {
          "base_uri": "https://localhost:8080/"
        },
        "id": "8eee7b2b",
        "outputId": "34c4393a-3b87-4ee2-dd69-707f96fabcb7"
      },
      "outputs": [
        {
          "output_type": "execute_result",
          "data": {
            "text/plain": [
              "21"
            ]
          },
          "metadata": {},
          "execution_count": 12
        }
      ],
      "source": [
        "age"
      ]
    },
    {
      "cell_type": "code",
      "execution_count": null,
      "id": "36930507",
      "metadata": {
        "colab": {
          "base_uri": "https://localhost:8080/",
          "height": 36
        },
        "id": "36930507",
        "outputId": "40d1990a-2320-4205-c0af-66a220e6ec1c"
      },
      "outputs": [
        {
          "output_type": "execute_result",
          "data": {
            "text/plain": [
              "'Python'"
            ],
            "application/vnd.google.colaboratory.intrinsic+json": {
              "type": "string"
            }
          },
          "metadata": {},
          "execution_count": 13
        }
      ],
      "source": [
        "sub"
      ]
    },
    {
      "cell_type": "markdown",
      "id": "83799568",
      "metadata": {
        "id": "83799568"
      },
      "source": [
        "# Standard Data Types"
      ]
    },
    {
      "cell_type": "raw",
      "id": "4aca0e59",
      "metadata": {
        "id": "4aca0e59"
      },
      "source": [
        "    numbers\n",
        "    strings\n",
        "    list\n",
        "    tuple\n",
        "    dictionary\n",
        "    sets"
      ]
    },
    {
      "cell_type": "markdown",
      "id": "e94a42ba",
      "metadata": {
        "id": "e94a42ba"
      },
      "source": [
        "# 1. Numeric"
      ]
    },
    {
      "cell_type": "code",
      "execution_count": null,
      "id": "761c22ee",
      "metadata": {
        "colab": {
          "base_uri": "https://localhost:8080/"
        },
        "id": "761c22ee",
        "outputId": "5313efbd-91a0-4377-fa8b-53a8bb5ab568"
      },
      "outputs": [
        {
          "output_type": "execute_result",
          "data": {
            "text/plain": [
              "10"
            ]
          },
          "metadata": {},
          "execution_count": 14
        }
      ],
      "source": [
        "x"
      ]
    },
    {
      "cell_type": "code",
      "execution_count": null,
      "id": "45f3ee11",
      "metadata": {
        "colab": {
          "base_uri": "https://localhost:8080/"
        },
        "id": "45f3ee11",
        "outputId": "4d325995-b75d-4a5a-e401-000220b47691"
      },
      "outputs": [
        {
          "output_type": "execute_result",
          "data": {
            "text/plain": [
              "10.5"
            ]
          },
          "metadata": {},
          "execution_count": 15
        }
      ],
      "source": [
        "y"
      ]
    },
    {
      "cell_type": "code",
      "execution_count": null,
      "id": "347f3fde",
      "metadata": {
        "id": "347f3fde"
      },
      "outputs": [],
      "source": [
        "c = 3+2j"
      ]
    },
    {
      "cell_type": "code",
      "execution_count": null,
      "id": "51d7fba9",
      "metadata": {
        "colab": {
          "base_uri": "https://localhost:8080/"
        },
        "id": "51d7fba9",
        "outputId": "733c5841-6acb-4e1c-9aeb-3132f24ada62"
      },
      "outputs": [
        {
          "output_type": "execute_result",
          "data": {
            "text/plain": [
              "(3+2j)"
            ]
          },
          "metadata": {},
          "execution_count": 18
        }
      ],
      "source": [
        "c"
      ]
    },
    {
      "cell_type": "code",
      "execution_count": null,
      "id": "ad75fb7d",
      "metadata": {
        "id": "ad75fb7d"
      },
      "outputs": [],
      "source": [
        "del x"
      ]
    },
    {
      "cell_type": "code",
      "execution_count": null,
      "id": "33b582e1",
      "metadata": {
        "colab": {
          "base_uri": "https://localhost:8080/",
          "height": 165
        },
        "id": "33b582e1",
        "outputId": "16d21c6b-b5aa-443a-dd46-1ab2c1c4e425"
      },
      "outputs": [
        {
          "output_type": "error",
          "ename": "NameError",
          "evalue": "ignored",
          "traceback": [
            "\u001b[0;31m---------------------------------------------------------------------------\u001b[0m",
            "\u001b[0;31mNameError\u001b[0m                                 Traceback (most recent call last)",
            "\u001b[0;32m<ipython-input-19-6fcf9dfbd479>\u001b[0m in \u001b[0;36m<module>\u001b[0;34m\u001b[0m\n\u001b[0;32m----> 1\u001b[0;31m \u001b[0mx\u001b[0m\u001b[0;34m\u001b[0m\u001b[0;34m\u001b[0m\u001b[0m\n\u001b[0m",
            "\u001b[0;31mNameError\u001b[0m: name 'x' is not defined"
          ]
        }
      ],
      "source": [
        "x"
      ]
    },
    {
      "cell_type": "markdown",
      "id": "4f2cf000",
      "metadata": {
        "id": "4f2cf000"
      },
      "source": [
        "# 2 . List"
      ]
    },
    {
      "cell_type": "code",
      "source": [
        "help(list)"
      ],
      "metadata": {
        "colab": {
          "base_uri": "https://localhost:8080/"
        },
        "id": "JiejBM_GC4DH",
        "outputId": "ec337d30-c791-470c-c78a-24fb9eed610e"
      },
      "id": "JiejBM_GC4DH",
      "execution_count": null,
      "outputs": [
        {
          "output_type": "stream",
          "name": "stdout",
          "text": [
            "Help on class list in module builtins:\n",
            "\n",
            "class list(object)\n",
            " |  list(iterable=(), /)\n",
            " |  \n",
            " |  Built-in mutable sequence.\n",
            " |  \n",
            " |  If no argument is given, the constructor creates a new empty list.\n",
            " |  The argument must be an iterable if specified.\n",
            " |  \n",
            " |  Methods defined here:\n",
            " |  \n",
            " |  __add__(self, value, /)\n",
            " |      Return self+value.\n",
            " |  \n",
            " |  __contains__(self, key, /)\n",
            " |      Return key in self.\n",
            " |  \n",
            " |  __delitem__(self, key, /)\n",
            " |      Delete self[key].\n",
            " |  \n",
            " |  __eq__(self, value, /)\n",
            " |      Return self==value.\n",
            " |  \n",
            " |  __ge__(self, value, /)\n",
            " |      Return self>=value.\n",
            " |  \n",
            " |  __getattribute__(self, name, /)\n",
            " |      Return getattr(self, name).\n",
            " |  \n",
            " |  __getitem__(...)\n",
            " |      x.__getitem__(y) <==> x[y]\n",
            " |  \n",
            " |  __gt__(self, value, /)\n",
            " |      Return self>value.\n",
            " |  \n",
            " |  __iadd__(self, value, /)\n",
            " |      Implement self+=value.\n",
            " |  \n",
            " |  __imul__(self, value, /)\n",
            " |      Implement self*=value.\n",
            " |  \n",
            " |  __init__(self, /, *args, **kwargs)\n",
            " |      Initialize self.  See help(type(self)) for accurate signature.\n",
            " |  \n",
            " |  __iter__(self, /)\n",
            " |      Implement iter(self).\n",
            " |  \n",
            " |  __le__(self, value, /)\n",
            " |      Return self<=value.\n",
            " |  \n",
            " |  __len__(self, /)\n",
            " |      Return len(self).\n",
            " |  \n",
            " |  __lt__(self, value, /)\n",
            " |      Return self<value.\n",
            " |  \n",
            " |  __mul__(self, value, /)\n",
            " |      Return self*value.\n",
            " |  \n",
            " |  __ne__(self, value, /)\n",
            " |      Return self!=value.\n",
            " |  \n",
            " |  __repr__(self, /)\n",
            " |      Return repr(self).\n",
            " |  \n",
            " |  __reversed__(self, /)\n",
            " |      Return a reverse iterator over the list.\n",
            " |  \n",
            " |  __rmul__(self, value, /)\n",
            " |      Return value*self.\n",
            " |  \n",
            " |  __setitem__(self, key, value, /)\n",
            " |      Set self[key] to value.\n",
            " |  \n",
            " |  __sizeof__(self, /)\n",
            " |      Return the size of the list in memory, in bytes.\n",
            " |  \n",
            " |  append(self, object, /)\n",
            " |      Append object to the end of the list.\n",
            " |  \n",
            " |  clear(self, /)\n",
            " |      Remove all items from list.\n",
            " |  \n",
            " |  copy(self, /)\n",
            " |      Return a shallow copy of the list.\n",
            " |  \n",
            " |  count(self, value, /)\n",
            " |      Return number of occurrences of value.\n",
            " |  \n",
            " |  extend(self, iterable, /)\n",
            " |      Extend list by appending elements from the iterable.\n",
            " |  \n",
            " |  index(self, value, start=0, stop=9223372036854775807, /)\n",
            " |      Return first index of value.\n",
            " |      \n",
            " |      Raises ValueError if the value is not present.\n",
            " |  \n",
            " |  insert(self, index, object, /)\n",
            " |      Insert object before index.\n",
            " |  \n",
            " |  pop(self, index=-1, /)\n",
            " |      Remove and return item at index (default last).\n",
            " |      \n",
            " |      Raises IndexError if list is empty or index is out of range.\n",
            " |  \n",
            " |  remove(self, value, /)\n",
            " |      Remove first occurrence of value.\n",
            " |      \n",
            " |      Raises ValueError if the value is not present.\n",
            " |  \n",
            " |  reverse(self, /)\n",
            " |      Reverse *IN PLACE*.\n",
            " |  \n",
            " |  sort(self, /, *, key=None, reverse=False)\n",
            " |      Sort the list in ascending order and return None.\n",
            " |      \n",
            " |      The sort is in-place (i.e. the list itself is modified) and stable (i.e. the\n",
            " |      order of two equal elements is maintained).\n",
            " |      \n",
            " |      If a key function is given, apply it once to each list item and sort them,\n",
            " |      ascending or descending, according to their function values.\n",
            " |      \n",
            " |      The reverse flag can be set to sort in descending order.\n",
            " |  \n",
            " |  ----------------------------------------------------------------------\n",
            " |  Static methods defined here:\n",
            " |  \n",
            " |  __new__(*args, **kwargs) from builtins.type\n",
            " |      Create and return a new object.  See help(type) for accurate signature.\n",
            " |  \n",
            " |  ----------------------------------------------------------------------\n",
            " |  Data and other attributes defined here:\n",
            " |  \n",
            " |  __hash__ = None\n",
            "\n"
          ]
        }
      ]
    },
    {
      "cell_type": "code",
      "execution_count": null,
      "id": "b68b47ac",
      "metadata": {
        "colab": {
          "base_uri": "https://localhost:8080/"
        },
        "id": "b68b47ac",
        "outputId": "07e29b0e-5820-4525-b488-38abf9835dd4"
      },
      "outputs": [
        {
          "output_type": "execute_result",
          "data": {
            "text/plain": [
              "['apple', 'banana', 'cherry', 'apple']"
            ]
          },
          "metadata": {},
          "execution_count": 101
        }
      ],
      "source": [
        "fruits = [\"apple\",\"banana\",\"cherry\",\"apple\"] # ordered ,accepts duplicates\n",
        "fruits"
      ]
    },
    {
      "cell_type": "code",
      "execution_count": null,
      "id": "d3286aa9",
      "metadata": {
        "colab": {
          "base_uri": "https://localhost:8080/"
        },
        "id": "d3286aa9",
        "outputId": "bf3c4555-eb8b-4b09-ad7a-02d6af60be49"
      },
      "outputs": [
        {
          "output_type": "execute_result",
          "data": {
            "text/plain": [
              "list"
            ]
          },
          "metadata": {},
          "execution_count": 102
        }
      ],
      "source": [
        "type(fruits)"
      ]
    },
    {
      "cell_type": "code",
      "execution_count": null,
      "id": "af11dfc6",
      "metadata": {
        "colab": {
          "base_uri": "https://localhost:8080/",
          "height": 36
        },
        "id": "af11dfc6",
        "outputId": "b49f22ed-1f55-4332-ea53-46cfb54f538d"
      },
      "outputs": [
        {
          "output_type": "execute_result",
          "data": {
            "text/plain": [
              "'apple'"
            ],
            "application/vnd.google.colaboratory.intrinsic+json": {
              "type": "string"
            }
          },
          "metadata": {},
          "execution_count": 103
        }
      ],
      "source": [
        "fruits[0]"
      ]
    },
    {
      "cell_type": "code",
      "execution_count": null,
      "id": "be2f9d91",
      "metadata": {
        "colab": {
          "base_uri": "https://localhost:8080/"
        },
        "id": "be2f9d91",
        "outputId": "513f8415-71d5-4564-eb9d-8898c425b660"
      },
      "outputs": [
        {
          "output_type": "execute_result",
          "data": {
            "text/plain": [
              "4"
            ]
          },
          "metadata": {},
          "execution_count": 104
        }
      ],
      "source": [
        "len(fruits)"
      ]
    },
    {
      "cell_type": "code",
      "execution_count": null,
      "id": "8db4b0b3",
      "metadata": {
        "colab": {
          "base_uri": "https://localhost:8080/",
          "height": 36
        },
        "id": "8db4b0b3",
        "outputId": "19edcad7-c9b6-4b36-c004-0402f6e56130"
      },
      "outputs": [
        {
          "output_type": "execute_result",
          "data": {
            "text/plain": [
              "'apple'"
            ],
            "application/vnd.google.colaboratory.intrinsic+json": {
              "type": "string"
            }
          },
          "metadata": {},
          "execution_count": 105
        }
      ],
      "source": [
        "fruits[3]"
      ]
    },
    {
      "cell_type": "code",
      "execution_count": null,
      "id": "9ec896ea",
      "metadata": {
        "colab": {
          "base_uri": "https://localhost:8080/"
        },
        "id": "9ec896ea",
        "outputId": "35e6f80d-ad6d-4fb5-c994-fc3d7c1c2be6"
      },
      "outputs": [
        {
          "output_type": "execute_result",
          "data": {
            "text/plain": [
              "['Ram', 21, 179.2, 65]"
            ]
          },
          "metadata": {},
          "execution_count": 106
        }
      ],
      "source": [
        "emp_rec = [\"Ram\",21,179.2,65]\n",
        "emp_rec"
      ]
    },
    {
      "cell_type": "code",
      "execution_count": null,
      "id": "229ae4ec",
      "metadata": {
        "colab": {
          "base_uri": "https://localhost:8080/"
        },
        "id": "229ae4ec",
        "outputId": "45ea0aa4-aa36-4e43-f848-c38c5bffbe21"
      },
      "outputs": [
        {
          "output_type": "execute_result",
          "data": {
            "text/plain": [
              "['red', 'green', 'blue']"
            ]
          },
          "metadata": {},
          "execution_count": 107
        }
      ],
      "source": [
        "rgb = list(('red','green','blue'))\n",
        "rgb"
      ]
    },
    {
      "cell_type": "code",
      "execution_count": null,
      "id": "5c5732b9",
      "metadata": {
        "colab": {
          "base_uri": "https://localhost:8080/"
        },
        "id": "5c5732b9",
        "outputId": "3add20c0-1227-437c-f822-ae0738e47440"
      },
      "outputs": [
        {
          "output_type": "execute_result",
          "data": {
            "text/plain": [
              "list"
            ]
          },
          "metadata": {},
          "execution_count": 108
        }
      ],
      "source": [
        "type(rgb)"
      ]
    },
    {
      "cell_type": "code",
      "source": [
        "fruits[0]"
      ],
      "metadata": {
        "colab": {
          "base_uri": "https://localhost:8080/",
          "height": 36
        },
        "id": "QvExZ_iAEUD6",
        "outputId": "c68e1d29-277d-4f29-97b0-e344ac0d3685"
      },
      "id": "QvExZ_iAEUD6",
      "execution_count": null,
      "outputs": [
        {
          "output_type": "execute_result",
          "data": {
            "text/plain": [
              "'apple'"
            ],
            "application/vnd.google.colaboratory.intrinsic+json": {
              "type": "string"
            }
          },
          "metadata": {},
          "execution_count": 109
        }
      ]
    },
    {
      "cell_type": "code",
      "execution_count": null,
      "id": "8f044c33",
      "metadata": {
        "colab": {
          "base_uri": "https://localhost:8080/"
        },
        "id": "8f044c33",
        "outputId": "d4bfb891-e9dd-432a-8368-3551d69c8867"
      },
      "outputs": [
        {
          "output_type": "execute_result",
          "data": {
            "text/plain": [
              "['mango', 'banana', 'cherry', 'apple']"
            ]
          },
          "metadata": {},
          "execution_count": 110
        }
      ],
      "source": [
        "fruits[0]=\"mango\"\n",
        "fruits"
      ]
    },
    {
      "cell_type": "code",
      "execution_count": null,
      "id": "dfd00adc",
      "metadata": {
        "colab": {
          "base_uri": "https://localhost:8080/"
        },
        "id": "dfd00adc",
        "outputId": "9b5f9c42-978c-483b-fabd-e72b735be94d"
      },
      "outputs": [
        {
          "output_type": "stream",
          "name": "stdout",
          "text": [
            "Looking in indexes: https://pypi.org/simple, https://us-python.pkg.dev/colab-wheels/public/simple/\n",
            "Requirement already satisfied: pillow in /usr/local/lib/python3.8/dist-packages (7.1.2)\n"
          ]
        }
      ],
      "source": [
        "! pip install pillow"
      ]
    },
    {
      "cell_type": "code",
      "execution_count": null,
      "id": "afa0c521",
      "metadata": {
        "id": "afa0c521",
        "outputId": "84239685-1e8e-450b-9ef0-f9c06c4d3603"
      },
      "outputs": [
        {
          "data": {
            "image/png": "[encoded data removed]",
            "text/plain": [
              "<PIL.JpegImagePlugin.JpegImageFile image mode=RGB size=570x243>"
            ]
          },
          "execution_count": 54,
          "metadata": {},
          "output_type": "execute_result"
        }
      ],
      "source": [
        "from PIL import Image\n",
        "\n",
        "img =Image.open('pic.jpg')\n",
        "\n",
        "img"
      ]
    },
    {
      "cell_type": "markdown",
      "id": "82bd9ead",
      "metadata": {
        "id": "82bd9ead"
      },
      "source": [
        "# Access List Items"
      ]
    },
    {
      "cell_type": "code",
      "source": [
        "fruits"
      ],
      "metadata": {
        "colab": {
          "base_uri": "https://localhost:8080/"
        },
        "id": "hsKX11z9Ew1b",
        "outputId": "0ccc96d5-8d11-4421-90e0-3747ded10980"
      },
      "id": "hsKX11z9Ew1b",
      "execution_count": null,
      "outputs": [
        {
          "output_type": "execute_result",
          "data": {
            "text/plain": [
              "['mango', 'banana', 'cherry', 'apple']"
            ]
          },
          "metadata": {},
          "execution_count": 112
        }
      ]
    },
    {
      "cell_type": "code",
      "execution_count": null,
      "id": "a56158d7",
      "metadata": {
        "colab": {
          "base_uri": "https://localhost:8080/",
          "height": 36
        },
        "id": "a56158d7",
        "outputId": "769d6e6b-9b2d-4020-dfcf-52fad2e3d545"
      },
      "outputs": [
        {
          "output_type": "execute_result",
          "data": {
            "text/plain": [
              "'apple'"
            ],
            "application/vnd.google.colaboratory.intrinsic+json": {
              "type": "string"
            }
          },
          "metadata": {},
          "execution_count": 113
        }
      ],
      "source": [
        "fruits[3]"
      ]
    },
    {
      "cell_type": "code",
      "execution_count": null,
      "id": "0707f510",
      "metadata": {
        "colab": {
          "base_uri": "https://localhost:8080/",
          "height": 36
        },
        "id": "0707f510",
        "outputId": "65b3dee8-e855-4632-fc12-9406996775e8"
      },
      "outputs": [
        {
          "output_type": "execute_result",
          "data": {
            "text/plain": [
              "'apple'"
            ],
            "application/vnd.google.colaboratory.intrinsic+json": {
              "type": "string"
            }
          },
          "metadata": {},
          "execution_count": 114
        }
      ],
      "source": [
        "fruits[-1]"
      ]
    },
    {
      "cell_type": "code",
      "execution_count": null,
      "id": "0f19b342",
      "metadata": {
        "colab": {
          "base_uri": "https://localhost:8080/",
          "height": 36
        },
        "id": "0f19b342",
        "outputId": "eab09a8d-5880-474b-fd36-6b81e8bfdfb0"
      },
      "outputs": [
        {
          "output_type": "execute_result",
          "data": {
            "text/plain": [
              "'cherry'"
            ],
            "application/vnd.google.colaboratory.intrinsic+json": {
              "type": "string"
            }
          },
          "metadata": {},
          "execution_count": 115
        }
      ],
      "source": [
        "fruits[2]"
      ]
    },
    {
      "cell_type": "markdown",
      "id": "4d41f730",
      "metadata": {
        "id": "4d41f730"
      },
      "source": [
        "# Slicing - Range of Indexes"
      ]
    },
    {
      "cell_type": "code",
      "execution_count": null,
      "id": "057c2c96",
      "metadata": {
        "id": "057c2c96"
      },
      "outputs": [],
      "source": [
        "# list[start : stop : step]\n",
        "\n",
        "# start --> def 0 , inclusive \n",
        "# stop  --> def end ==> len(fruits) , exclusive\n",
        "# step  --> def 1"
      ]
    },
    {
      "cell_type": "code",
      "execution_count": null,
      "id": "f7ef28c3",
      "metadata": {
        "colab": {
          "base_uri": "https://localhost:8080/"
        },
        "id": "f7ef28c3",
        "outputId": "08ea5aba-364c-462c-9e93-48a5463fb9ac"
      },
      "outputs": [
        {
          "output_type": "execute_result",
          "data": {
            "text/plain": [
              "['mango', 'banana', 'cherry', 'apple']"
            ]
          },
          "metadata": {},
          "execution_count": 117
        }
      ],
      "source": [
        "fruits"
      ]
    },
    {
      "cell_type": "code",
      "source": [
        "fruits[::]"
      ],
      "metadata": {
        "colab": {
          "base_uri": "https://localhost:8080/"
        },
        "id": "OpQ6Et60FQ0S",
        "outputId": "af3e0eba-7f19-4bfa-e718-b9434b164821"
      },
      "id": "OpQ6Et60FQ0S",
      "execution_count": null,
      "outputs": [
        {
          "output_type": "execute_result",
          "data": {
            "text/plain": [
              "['mango', 'banana', 'cherry', 'apple']"
            ]
          },
          "metadata": {},
          "execution_count": 118
        }
      ]
    },
    {
      "cell_type": "code",
      "execution_count": null,
      "id": "9f3cb8fd",
      "metadata": {
        "colab": {
          "base_uri": "https://localhost:8080/"
        },
        "id": "9f3cb8fd",
        "outputId": "7d60e614-6ffa-475e-da01-b8744d7d96e5"
      },
      "outputs": [
        {
          "output_type": "execute_result",
          "data": {
            "text/plain": [
              "['mango', 'banana', 'cherry']"
            ]
          },
          "metadata": {},
          "execution_count": 119
        }
      ],
      "source": [
        "fruits[0:3:1]\n"
      ]
    },
    {
      "cell_type": "code",
      "execution_count": null,
      "id": "4fd14a8d",
      "metadata": {
        "colab": {
          "base_uri": "https://localhost:8080/"
        },
        "id": "4fd14a8d",
        "outputId": "d99fcc59-ea77-489c-face-6ecb3c84facf"
      },
      "outputs": [
        {
          "output_type": "execute_result",
          "data": {
            "text/plain": [
              "['mango', 'banana', 'cherry', 'apple']"
            ]
          },
          "metadata": {},
          "execution_count": 120
        }
      ],
      "source": [
        "fruits[::]"
      ]
    },
    {
      "cell_type": "code",
      "source": [
        "fruits[1:4]\n",
        "# + ve\n",
        "# start < stop"
      ],
      "metadata": {
        "colab": {
          "base_uri": "https://localhost:8080/"
        },
        "id": "bdE0fiV5HhZk",
        "outputId": "e82e4942-0874-417a-f771-e680ecb2c0e1"
      },
      "id": "bdE0fiV5HhZk",
      "execution_count": null,
      "outputs": [
        {
          "output_type": "execute_result",
          "data": {
            "text/plain": [
              "['banana', 'cherry', 'apple']"
            ]
          },
          "metadata": {},
          "execution_count": 121
        }
      ]
    },
    {
      "cell_type": "code",
      "source": [
        "fruits[4:1]"
      ],
      "metadata": {
        "colab": {
          "base_uri": "https://localhost:8080/"
        },
        "id": "UojiQdyyHtdy",
        "outputId": "2a381102-eae7-4687-d159-443496b22086"
      },
      "id": "UojiQdyyHtdy",
      "execution_count": null,
      "outputs": [
        {
          "output_type": "execute_result",
          "data": {
            "text/plain": [
              "[]"
            ]
          },
          "metadata": {},
          "execution_count": 122
        }
      ]
    },
    {
      "cell_type": "code",
      "source": [
        "fruits"
      ],
      "metadata": {
        "colab": {
          "base_uri": "https://localhost:8080/"
        },
        "id": "TExyO423Iz1d",
        "outputId": "3ccb364a-b766-490d-838d-b61545a1a20a"
      },
      "id": "TExyO423Iz1d",
      "execution_count": null,
      "outputs": [
        {
          "output_type": "execute_result",
          "data": {
            "text/plain": [
              "['mango', 'banana', 'cherry', 'apple']"
            ]
          },
          "metadata": {},
          "execution_count": 123
        }
      ]
    },
    {
      "cell_type": "code",
      "source": [
        "fruits[::]"
      ],
      "metadata": {
        "colab": {
          "base_uri": "https://localhost:8080/"
        },
        "id": "9FCfxgPPIlCK",
        "outputId": "ede40ddc-dc65-4765-e5fc-695f8fbebf23"
      },
      "id": "9FCfxgPPIlCK",
      "execution_count": null,
      "outputs": [
        {
          "output_type": "execute_result",
          "data": {
            "text/plain": [
              "['mango', 'banana', 'cherry', 'apple']"
            ]
          },
          "metadata": {},
          "execution_count": 124
        }
      ]
    },
    {
      "cell_type": "code",
      "source": [
        "fruits[-1:-(len(fruits)+1):-1]"
      ],
      "metadata": {
        "colab": {
          "base_uri": "https://localhost:8080/"
        },
        "id": "iQpI713lG5Uq",
        "outputId": "13bb5310-1005-41f4-9c60-e8233ba9909e"
      },
      "id": "iQpI713lG5Uq",
      "execution_count": null,
      "outputs": [
        {
          "output_type": "execute_result",
          "data": {
            "text/plain": [
              "['apple', 'cherry', 'banana', 'mango']"
            ]
          },
          "metadata": {},
          "execution_count": 125
        }
      ]
    },
    {
      "cell_type": "code",
      "execution_count": null,
      "id": "792b6774",
      "metadata": {
        "colab": {
          "base_uri": "https://localhost:8080/"
        },
        "id": "792b6774",
        "outputId": "b832ec11-d24a-4c50-9c64-9286213c6397"
      },
      "outputs": [
        {
          "output_type": "execute_result",
          "data": {
            "text/plain": [
              "['apple', 'cherry', 'banana', 'mango']"
            ]
          },
          "metadata": {},
          "execution_count": 126
        }
      ],
      "source": [
        "fruits[::-1]\n",
        "# defaults\n",
        "# start = -1\n",
        "# stop = - (len(fruits)+1) = -5\n",
        "# step = -1\n",
        "# start > stop"
      ]
    },
    {
      "cell_type": "code",
      "execution_count": null,
      "id": "cef55f6c",
      "metadata": {
        "colab": {
          "base_uri": "https://localhost:8080/"
        },
        "id": "cef55f6c",
        "outputId": "ed6257a2-54a3-4494-a442-2a840b9bbe90"
      },
      "outputs": [
        {
          "output_type": "execute_result",
          "data": {
            "text/plain": [
              "['mango', 'banana', 'cherry', 'apple']"
            ]
          },
          "metadata": {},
          "execution_count": 127
        }
      ],
      "source": [
        "fruits"
      ]
    },
    {
      "cell_type": "code",
      "execution_count": null,
      "id": "6db5e5f3",
      "metadata": {
        "colab": {
          "base_uri": "https://localhost:8080/"
        },
        "id": "6db5e5f3",
        "outputId": "b36942ce-52c9-41ba-96c0-b48451b92bfa"
      },
      "outputs": [
        {
          "output_type": "execute_result",
          "data": {
            "text/plain": [
              "['mango', 'cherry']"
            ]
          },
          "metadata": {},
          "execution_count": 128
        }
      ],
      "source": [
        "fruits[::2]"
      ]
    },
    {
      "cell_type": "code",
      "execution_count": null,
      "id": "48cbd5af",
      "metadata": {
        "colab": {
          "base_uri": "https://localhost:8080/"
        },
        "id": "48cbd5af",
        "outputId": "d4d21130-2ebb-47c3-a28c-0d5ab86809d9"
      },
      "outputs": [
        {
          "output_type": "execute_result",
          "data": {
            "text/plain": [
              "[]"
            ]
          },
          "metadata": {},
          "execution_count": 129
        }
      ],
      "source": [
        "fruits[-4:-1:-1]  # start < stop in neg slicing"
      ]
    },
    {
      "cell_type": "code",
      "execution_count": null,
      "id": "9da56430",
      "metadata": {
        "colab": {
          "base_uri": "https://localhost:8080/"
        },
        "id": "9da56430",
        "outputId": "2a734103-069f-49b3-bc8e-e484c695b911"
      },
      "outputs": [
        {
          "output_type": "execute_result",
          "data": {
            "text/plain": [
              "[]"
            ]
          },
          "metadata": {},
          "execution_count": 130
        }
      ],
      "source": [
        "fruits[-1:-4] # cannot read from right to left"
      ]
    },
    {
      "cell_type": "markdown",
      "id": "0e565e08",
      "metadata": {
        "id": "0e565e08"
      },
      "source": [
        "# change / Modify"
      ]
    },
    {
      "cell_type": "code",
      "execution_count": null,
      "id": "0f11cddf",
      "metadata": {
        "id": "0f11cddf",
        "outputId": "ebcfec7d-aac4-4981-b651-caae68d3147a",
        "colab": {
          "base_uri": "https://localhost:8080/"
        }
      },
      "outputs": [
        {
          "output_type": "execute_result",
          "data": {
            "text/plain": [
              "['mango', 'banana', 'cherry', 'apple']"
            ]
          },
          "metadata": {},
          "execution_count": 131
        }
      ],
      "source": [
        "fruits"
      ]
    },
    {
      "cell_type": "code",
      "execution_count": null,
      "id": "266ad50f",
      "metadata": {
        "id": "266ad50f"
      },
      "outputs": [],
      "source": [
        "fruits[1] = \"blue berry\""
      ]
    },
    {
      "cell_type": "code",
      "execution_count": null,
      "id": "e0603a53",
      "metadata": {
        "id": "e0603a53",
        "outputId": "a07d9a9b-1bd2-451c-fd38-b04006dc664e",
        "colab": {
          "base_uri": "https://localhost:8080/"
        }
      },
      "outputs": [
        {
          "output_type": "execute_result",
          "data": {
            "text/plain": [
              "['mango', 'blue berry', 'cherry', 'apple']"
            ]
          },
          "metadata": {},
          "execution_count": 133
        }
      ],
      "source": [
        "fruits"
      ]
    },
    {
      "cell_type": "code",
      "source": [
        "fruits[2:4:1]"
      ],
      "metadata": {
        "colab": {
          "base_uri": "https://localhost:8080/"
        },
        "id": "W1rgxHu7yR7V",
        "outputId": "3aafa14b-492a-4bf8-b9cc-1db3d84b5db1"
      },
      "id": "W1rgxHu7yR7V",
      "execution_count": null,
      "outputs": [
        {
          "output_type": "execute_result",
          "data": {
            "text/plain": [
              "['cherry', 'apple']"
            ]
          },
          "metadata": {},
          "execution_count": 134
        }
      ]
    },
    {
      "cell_type": "code",
      "source": [
        "fruits[3:900]"
      ],
      "metadata": {
        "colab": {
          "base_uri": "https://localhost:8080/"
        },
        "id": "wOwzc0QIzAd8",
        "outputId": "5d6af845-3a4e-4684-af10-c29ecc99dc7d"
      },
      "id": "wOwzc0QIzAd8",
      "execution_count": null,
      "outputs": [
        {
          "output_type": "execute_result",
          "data": {
            "text/plain": [
              "['apple']"
            ]
          },
          "metadata": {},
          "execution_count": 135
        }
      ]
    },
    {
      "cell_type": "code",
      "execution_count": null,
      "id": "72166258",
      "metadata": {
        "id": "72166258"
      },
      "outputs": [],
      "source": [
        "fruits[2:4] = ['red cherry','green apple']"
      ]
    },
    {
      "cell_type": "code",
      "execution_count": null,
      "id": "80610802",
      "metadata": {
        "id": "80610802",
        "outputId": "82894f21-9af1-4af8-8678-1f3bd8a762bc",
        "colab": {
          "base_uri": "https://localhost:8080/"
        }
      },
      "outputs": [
        {
          "output_type": "execute_result",
          "data": {
            "text/plain": [
              "['mango', 'blue berry', 'red cherry', 'green apple']"
            ]
          },
          "metadata": {},
          "execution_count": 137
        }
      ],
      "source": [
        "fruits"
      ]
    },
    {
      "cell_type": "code",
      "execution_count": null,
      "id": "5aa98844",
      "metadata": {
        "id": "5aa98844"
      },
      "outputs": [],
      "source": [
        "fruits[0:2] = ['black currant']"
      ]
    },
    {
      "cell_type": "code",
      "execution_count": null,
      "id": "d9440130",
      "metadata": {
        "id": "d9440130",
        "outputId": "c2080b1c-76fc-4f62-ae09-c486a83c388b",
        "colab": {
          "base_uri": "https://localhost:8080/"
        }
      },
      "outputs": [
        {
          "output_type": "execute_result",
          "data": {
            "text/plain": [
              "['black currant', 'red cherry', 'green apple']"
            ]
          },
          "metadata": {},
          "execution_count": 139
        }
      ],
      "source": [
        "fruits"
      ]
    },
    {
      "cell_type": "code",
      "source": [
        "fruits[:]  = ['banana']\n",
        "fruits"
      ],
      "metadata": {
        "colab": {
          "base_uri": "https://localhost:8080/"
        },
        "id": "OKNWYyYJ0bJx",
        "outputId": "fbeb8add-82cd-4b85-ff45-b5ae4a84fac1"
      },
      "id": "OKNWYyYJ0bJx",
      "execution_count": null,
      "outputs": [
        {
          "output_type": "execute_result",
          "data": {
            "text/plain": [
              "['banana']"
            ]
          },
          "metadata": {},
          "execution_count": 140
        }
      ]
    },
    {
      "cell_type": "markdown",
      "id": "160fde45",
      "metadata": {
        "id": "160fde45"
      },
      "source": [
        "# Add List Items"
      ]
    },
    {
      "cell_type": "code",
      "execution_count": null,
      "id": "5d34909e",
      "metadata": {
        "id": "5d34909e"
      },
      "outputs": [],
      "source": [
        "fruits.append('orange') # append(element)"
      ]
    },
    {
      "cell_type": "code",
      "execution_count": null,
      "id": "29853d8f",
      "metadata": {
        "id": "29853d8f",
        "outputId": "dd5de327-95cb-4e65-cc01-ac0a49ec4b44",
        "colab": {
          "base_uri": "https://localhost:8080/"
        }
      },
      "outputs": [
        {
          "output_type": "execute_result",
          "data": {
            "text/plain": [
              "['banana', 'orange']"
            ]
          },
          "metadata": {},
          "execution_count": 142
        }
      ],
      "source": [
        "fruits"
      ]
    },
    {
      "cell_type": "code",
      "execution_count": null,
      "id": "88d9089c",
      "metadata": {
        "id": "88d9089c"
      },
      "outputs": [],
      "source": [
        "fruits.insert(2,'mango') # insert(index,element)"
      ]
    },
    {
      "cell_type": "code",
      "execution_count": null,
      "id": "5cebf9e3",
      "metadata": {
        "id": "5cebf9e3",
        "outputId": "06d72fe6-a1e1-4730-e529-1f149d804efa",
        "colab": {
          "base_uri": "https://localhost:8080/"
        }
      },
      "outputs": [
        {
          "output_type": "execute_result",
          "data": {
            "text/plain": [
              "['banana', 'orange', 'mango']"
            ]
          },
          "metadata": {},
          "execution_count": 144
        }
      ],
      "source": [
        "fruits"
      ]
    },
    {
      "cell_type": "code",
      "source": [
        "tropical = ('mango','papaya','pineapple') # tuple"
      ],
      "metadata": {
        "id": "D7bl8yWy2GkP"
      },
      "id": "D7bl8yWy2GkP",
      "execution_count": null,
      "outputs": []
    },
    {
      "cell_type": "code",
      "execution_count": null,
      "id": "8ab69424",
      "metadata": {
        "id": "8ab69424",
        "outputId": "18fb1498-a89d-4f28-ddcb-3cfda0350322",
        "colab": {
          "base_uri": "https://localhost:8080/"
        }
      },
      "outputs": [
        {
          "output_type": "execute_result",
          "data": {
            "text/plain": [
              "['banana', 'orange', 'mango', 'mango', 'papaya', 'pineapple']"
            ]
          },
          "metadata": {},
          "execution_count": 146
        }
      ],
      "source": [
        "fruits.extend(tropical)  # extend(iterable)\n",
        "fruits"
      ]
    },
    {
      "cell_type": "code",
      "source": [
        "fruit = ['kiwi','orange']\n",
        "fruit"
      ],
      "metadata": {
        "colab": {
          "base_uri": "https://localhost:8080/"
        },
        "id": "Q9qJGqft2liT",
        "outputId": "7d38b848-79a2-46e2-eb87-a84ffa4648f0"
      },
      "id": "Q9qJGqft2liT",
      "execution_count": null,
      "outputs": [
        {
          "output_type": "execute_result",
          "data": {
            "text/plain": [
              "['kiwi', 'orange']"
            ]
          },
          "metadata": {},
          "execution_count": 147
        }
      ]
    },
    {
      "cell_type": "code",
      "source": [
        "fruits"
      ],
      "metadata": {
        "id": "6e9szbxN2LB5"
      },
      "id": "6e9szbxN2LB5",
      "execution_count": null,
      "outputs": []
    },
    {
      "cell_type": "code",
      "source": [
        "colors = ['white','pink']\n",
        "rgb = ['red','green','blue']\n",
        "\n",
        "colors.extend(['mave','lavendour'])\n",
        "colors"
      ],
      "metadata": {
        "colab": {
          "base_uri": "https://localhost:8080/"
        },
        "id": "FBtbhMHJ21kb",
        "outputId": "9d29ea3c-e21d-4bf2-fbb1-2deb9f22cf8e"
      },
      "id": "FBtbhMHJ21kb",
      "execution_count": null,
      "outputs": [
        {
          "output_type": "execute_result",
          "data": {
            "text/plain": [
              "['white', 'pink', 'mave', 'lavendour']"
            ]
          },
          "metadata": {},
          "execution_count": 100
        }
      ]
    },
    {
      "cell_type": "markdown",
      "id": "3e274014",
      "metadata": {
        "id": "3e274014"
      },
      "source": [
        "# Remove List Items"
      ]
    },
    {
      "cell_type": "code",
      "execution_count": null,
      "id": "9579dabb",
      "metadata": {
        "id": "9579dabb"
      },
      "outputs": [],
      "source": [
        "fruits.remove('papaya')"
      ]
    },
    {
      "cell_type": "code",
      "execution_count": null,
      "id": "5fc58698",
      "metadata": {
        "id": "5fc58698",
        "outputId": "a2de32f1-7763-452e-96e0-f8ff175ee055",
        "colab": {
          "base_uri": "https://localhost:8080/"
        }
      },
      "outputs": [
        {
          "output_type": "execute_result",
          "data": {
            "text/plain": [
              "['banana', 'orange', 'mango', 'mango', 'pineapple']"
            ]
          },
          "metadata": {},
          "execution_count": 150
        }
      ],
      "source": [
        "fruits"
      ]
    },
    {
      "cell_type": "code",
      "execution_count": null,
      "id": "b50e8f29",
      "metadata": {
        "id": "b50e8f29",
        "outputId": "fe385c9c-5f97-4e99-8d95-7baaeb3848e4",
        "colab": {
          "base_uri": "https://localhost:8080/",
          "height": 36
        }
      },
      "outputs": [
        {
          "output_type": "execute_result",
          "data": {
            "text/plain": [
              "'banana'"
            ],
            "application/vnd.google.colaboratory.intrinsic+json": {
              "type": "string"
            }
          },
          "metadata": {},
          "execution_count": 151
        }
      ],
      "source": [
        "fruits.pop(0)"
      ]
    },
    {
      "cell_type": "code",
      "execution_count": null,
      "id": "7020d9c9",
      "metadata": {
        "id": "7020d9c9",
        "outputId": "8c4e42f1-4df6-4c4b-dc39-8ad65077a6de",
        "colab": {
          "base_uri": "https://localhost:8080/"
        }
      },
      "outputs": [
        {
          "output_type": "execute_result",
          "data": {
            "text/plain": [
              "['orange', 'mango', 'mango', 'pineapple']"
            ]
          },
          "metadata": {},
          "execution_count": 152
        }
      ],
      "source": [
        "fruits"
      ]
    },
    {
      "cell_type": "code",
      "execution_count": null,
      "id": "f2e61901",
      "metadata": {
        "id": "f2e61901",
        "outputId": "edea2870-0e18-418f-89a5-6a8dea1f4d15",
        "colab": {
          "base_uri": "https://localhost:8080/",
          "height": 36
        }
      },
      "outputs": [
        {
          "output_type": "execute_result",
          "data": {
            "text/plain": [
              "'pineapple'"
            ],
            "application/vnd.google.colaboratory.intrinsic+json": {
              "type": "string"
            }
          },
          "metadata": {},
          "execution_count": 153
        }
      ],
      "source": [
        "fruits.pop()"
      ]
    },
    {
      "cell_type": "code",
      "source": [
        "help(list)"
      ],
      "metadata": {
        "colab": {
          "base_uri": "https://localhost:8080/"
        },
        "id": "AqNM-NYJ4oZS",
        "outputId": "367bc4ec-c5ee-45d8-a0fb-c53f6f90a67c"
      },
      "id": "AqNM-NYJ4oZS",
      "execution_count": null,
      "outputs": [
        {
          "output_type": "stream",
          "name": "stdout",
          "text": [
            "Help on class list in module builtins:\n",
            "\n",
            "class list(object)\n",
            " |  list(iterable=(), /)\n",
            " |  \n",
            " |  Built-in mutable sequence.\n",
            " |  \n",
            " |  If no argument is given, the constructor creates a new empty list.\n",
            " |  The argument must be an iterable if specified.\n",
            " |  \n",
            " |  Methods defined here:\n",
            " |  \n",
            " |  __add__(self, value, /)\n",
            " |      Return self+value.\n",
            " |  \n",
            " |  __contains__(self, key, /)\n",
            " |      Return key in self.\n",
            " |  \n",
            " |  __delitem__(self, key, /)\n",
            " |      Delete self[key].\n",
            " |  \n",
            " |  __eq__(self, value, /)\n",
            " |      Return self==value.\n",
            " |  \n",
            " |  __ge__(self, value, /)\n",
            " |      Return self>=value.\n",
            " |  \n",
            " |  __getattribute__(self, name, /)\n",
            " |      Return getattr(self, name).\n",
            " |  \n",
            " |  __getitem__(...)\n",
            " |      x.__getitem__(y) <==> x[y]\n",
            " |  \n",
            " |  __gt__(self, value, /)\n",
            " |      Return self>value.\n",
            " |  \n",
            " |  __iadd__(self, value, /)\n",
            " |      Implement self+=value.\n",
            " |  \n",
            " |  __imul__(self, value, /)\n",
            " |      Implement self*=value.\n",
            " |  \n",
            " |  __init__(self, /, *args, **kwargs)\n",
            " |      Initialize self.  See help(type(self)) for accurate signature.\n",
            " |  \n",
            " |  __iter__(self, /)\n",
            " |      Implement iter(self).\n",
            " |  \n",
            " |  __le__(self, value, /)\n",
            " |      Return self<=value.\n",
            " |  \n",
            " |  __len__(self, /)\n",
            " |      Return len(self).\n",
            " |  \n",
            " |  __lt__(self, value, /)\n",
            " |      Return self<value.\n",
            " |  \n",
            " |  __mul__(self, value, /)\n",
            " |      Return self*value.\n",
            " |  \n",
            " |  __ne__(self, value, /)\n",
            " |      Return self!=value.\n",
            " |  \n",
            " |  __repr__(self, /)\n",
            " |      Return repr(self).\n",
            " |  \n",
            " |  __reversed__(self, /)\n",
            " |      Return a reverse iterator over the list.\n",
            " |  \n",
            " |  __rmul__(self, value, /)\n",
            " |      Return value*self.\n",
            " |  \n",
            " |  __setitem__(self, key, value, /)\n",
            " |      Set self[key] to value.\n",
            " |  \n",
            " |  __sizeof__(self, /)\n",
            " |      Return the size of the list in memory, in bytes.\n",
            " |  \n",
            " |  append(self, object, /)\n",
            " |      Append object to the end of the list.\n",
            " |  \n",
            " |  clear(self, /)\n",
            " |      Remove all items from list.\n",
            " |  \n",
            " |  copy(self, /)\n",
            " |      Return a shallow copy of the list.\n",
            " |  \n",
            " |  count(self, value, /)\n",
            " |      Return number of occurrences of value.\n",
            " |  \n",
            " |  extend(self, iterable, /)\n",
            " |      Extend list by appending elements from the iterable.\n",
            " |  \n",
            " |  index(self, value, start=0, stop=9223372036854775807, /)\n",
            " |      Return first index of value.\n",
            " |      \n",
            " |      Raises ValueError if the value is not present.\n",
            " |  \n",
            " |  insert(self, index, object, /)\n",
            " |      Insert object before index.\n",
            " |  \n",
            " |  pop(self, index=-1, /)\n",
            " |      Remove and return item at index (default last).\n",
            " |      \n",
            " |      Raises IndexError if list is empty or index is out of range.\n",
            " |  \n",
            " |  remove(self, value, /)\n",
            " |      Remove first occurrence of value.\n",
            " |      \n",
            " |      Raises ValueError if the value is not present.\n",
            " |  \n",
            " |  reverse(self, /)\n",
            " |      Reverse *IN PLACE*.\n",
            " |  \n",
            " |  sort(self, /, *, key=None, reverse=False)\n",
            " |      Sort the list in ascending order and return None.\n",
            " |      \n",
            " |      The sort is in-place (i.e. the list itself is modified) and stable (i.e. the\n",
            " |      order of two equal elements is maintained).\n",
            " |      \n",
            " |      If a key function is given, apply it once to each list item and sort them,\n",
            " |      ascending or descending, according to their function values.\n",
            " |      \n",
            " |      The reverse flag can be set to sort in descending order.\n",
            " |  \n",
            " |  ----------------------------------------------------------------------\n",
            " |  Static methods defined here:\n",
            " |  \n",
            " |  __new__(*args, **kwargs) from builtins.type\n",
            " |      Create and return a new object.  See help(type) for accurate signature.\n",
            " |  \n",
            " |  ----------------------------------------------------------------------\n",
            " |  Data and other attributes defined here:\n",
            " |  \n",
            " |  __hash__ = None\n",
            "\n"
          ]
        }
      ]
    },
    {
      "cell_type": "code",
      "execution_count": null,
      "id": "1a00ae61",
      "metadata": {
        "id": "1a00ae61",
        "outputId": "7592e111-f515-409e-c543-37092fc200bb",
        "colab": {
          "base_uri": "https://localhost:8080/"
        }
      },
      "outputs": [
        {
          "output_type": "execute_result",
          "data": {
            "text/plain": [
              "['orange', 'mango', 'mango']"
            ]
          },
          "metadata": {},
          "execution_count": 154
        }
      ],
      "source": [
        "fruits"
      ]
    },
    {
      "cell_type": "code",
      "execution_count": null,
      "id": "44ac1c6a",
      "metadata": {
        "id": "44ac1c6a"
      },
      "outputs": [],
      "source": [
        "del fruits[0]"
      ]
    },
    {
      "cell_type": "code",
      "execution_count": null,
      "id": "768ab0e1",
      "metadata": {
        "id": "768ab0e1",
        "outputId": "6446f46d-e617-469d-bfbe-f86c0b44bb08",
        "colab": {
          "base_uri": "https://localhost:8080/"
        }
      },
      "outputs": [
        {
          "output_type": "execute_result",
          "data": {
            "text/plain": [
              "['mango', 'mango']"
            ]
          },
          "metadata": {},
          "execution_count": 157
        }
      ],
      "source": [
        "fruits"
      ]
    },
    {
      "cell_type": "code",
      "execution_count": null,
      "id": "729ce3f6",
      "metadata": {
        "id": "729ce3f6"
      },
      "outputs": [],
      "source": [
        "del fruits[1:2]"
      ]
    },
    {
      "cell_type": "code",
      "execution_count": null,
      "id": "c02b6c59",
      "metadata": {
        "id": "c02b6c59",
        "outputId": "0fcbf358-d155-4cef-d0a5-90f3274060ba",
        "colab": {
          "base_uri": "https://localhost:8080/"
        }
      },
      "outputs": [
        {
          "output_type": "execute_result",
          "data": {
            "text/plain": [
              "['mango']"
            ]
          },
          "metadata": {},
          "execution_count": 159
        }
      ],
      "source": [
        "fruits"
      ]
    },
    {
      "cell_type": "code",
      "execution_count": null,
      "id": "8aebbd1c",
      "metadata": {
        "id": "8aebbd1c"
      },
      "outputs": [],
      "source": [
        "fruits.clear()"
      ]
    },
    {
      "cell_type": "code",
      "execution_count": null,
      "id": "0cc8bf9e",
      "metadata": {
        "id": "0cc8bf9e",
        "outputId": "cee07bc2-7f87-45de-8daa-99e800a65702",
        "colab": {
          "base_uri": "https://localhost:8080/"
        }
      },
      "outputs": [
        {
          "output_type": "execute_result",
          "data": {
            "text/plain": [
              "[]"
            ]
          },
          "metadata": {},
          "execution_count": 161
        }
      ],
      "source": [
        "fruits"
      ]
    },
    {
      "cell_type": "code",
      "execution_count": null,
      "id": "076dec7e",
      "metadata": {
        "id": "076dec7e"
      },
      "outputs": [],
      "source": [
        "del fruits"
      ]
    },
    {
      "cell_type": "code",
      "execution_count": null,
      "id": "42a43d24",
      "metadata": {
        "id": "42a43d24",
        "outputId": "b1842da3-7fd8-45f9-84b4-62e5a0bb08af",
        "colab": {
          "base_uri": "https://localhost:8080/",
          "height": 165
        }
      },
      "outputs": [
        {
          "output_type": "error",
          "ename": "NameError",
          "evalue": "ignored",
          "traceback": [
            "\u001b[0;31m---------------------------------------------------------------------------\u001b[0m",
            "\u001b[0;31mNameError\u001b[0m                                 Traceback (most recent call last)",
            "\u001b[0;32m<ipython-input-163-5842b46f59fb>\u001b[0m in \u001b[0;36m<module>\u001b[0;34m\u001b[0m\n\u001b[0;32m----> 1\u001b[0;31m \u001b[0mfruits\u001b[0m\u001b[0;34m\u001b[0m\u001b[0;34m\u001b[0m\u001b[0m\n\u001b[0m",
            "\u001b[0;31mNameError\u001b[0m: name 'fruits' is not defined"
          ]
        }
      ],
      "source": [
        "fruits"
      ]
    },
    {
      "cell_type": "markdown",
      "id": "b882e35f",
      "metadata": {
        "id": "b882e35f"
      },
      "source": [
        "# Join Lists"
      ]
    },
    {
      "cell_type": "code",
      "execution_count": null,
      "id": "c342b1ef",
      "metadata": {
        "id": "c342b1ef",
        "outputId": "4ad6c8a9-2ecc-4f04-be5b-f8b9fae6b4a5",
        "colab": {
          "base_uri": "https://localhost:8080/"
        }
      },
      "outputs": [
        {
          "output_type": "execute_result",
          "data": {
            "text/plain": [
              "['@', '@', '@', '*', '*', '*']"
            ]
          },
          "metadata": {},
          "execution_count": 164
        }
      ],
      "source": [
        "list1 = ['@','@','@']\n",
        "list2 = ['*','*','*']\n",
        "\n",
        "list3 = list1 + list2\n",
        "list3\n",
        "         "
      ]
    },
    {
      "cell_type": "code",
      "source": [
        "list1.count('@')"
      ],
      "metadata": {
        "colab": {
          "base_uri": "https://localhost:8080/"
        },
        "id": "kizs8HoS6Cc_",
        "outputId": "d253466d-c89f-46dd-8326-6a1021569b24"
      },
      "id": "kizs8HoS6Cc_",
      "execution_count": null,
      "outputs": [
        {
          "output_type": "execute_result",
          "data": {
            "text/plain": [
              "3"
            ]
          },
          "metadata": {},
          "execution_count": 168
        }
      ]
    },
    {
      "cell_type": "code",
      "source": [
        "list1.index('@')"
      ],
      "metadata": {
        "colab": {
          "base_uri": "https://localhost:8080/"
        },
        "id": "pKaAsIMr6beq",
        "outputId": "d725d257-dfcc-44e9-fbd0-1d36231d79c1"
      },
      "id": "pKaAsIMr6beq",
      "execution_count": null,
      "outputs": [
        {
          "output_type": "execute_result",
          "data": {
            "text/plain": [
              "0"
            ]
          },
          "metadata": {},
          "execution_count": 169
        }
      ]
    },
    {
      "cell_type": "code",
      "execution_count": null,
      "id": "bce3441f",
      "metadata": {
        "id": "bce3441f",
        "outputId": "fab43d62-a560-4405-be4a-d95f011be187",
        "colab": {
          "base_uri": "https://localhost:8080/"
        }
      },
      "outputs": [
        {
          "output_type": "execute_result",
          "data": {
            "text/plain": [
              "['@', '@', '@', '*', '*', '*']"
            ]
          },
          "metadata": {},
          "execution_count": 165
        }
      ],
      "source": [
        "list1 = ['@','@','@']\n",
        "list2 = ['*','*','*']\n",
        "\n",
        "list1.extend(list2)\n",
        "list1"
      ]
    },
    {
      "cell_type": "code",
      "execution_count": null,
      "id": "29c8587c",
      "metadata": {
        "id": "29c8587c",
        "outputId": "487437a7-4d57-4afd-946e-c201a3260be1",
        "colab": {
          "base_uri": "https://localhost:8080/"
        }
      },
      "outputs": [
        {
          "output_type": "execute_result",
          "data": {
            "text/plain": [
              "['*', '*', '*', '*', '*', '*']"
            ]
          },
          "metadata": {},
          "execution_count": 166
        }
      ],
      "source": [
        "list2 * 2"
      ]
    },
    {
      "cell_type": "markdown",
      "id": "2c1d4b1d",
      "metadata": {
        "id": "2c1d4b1d"
      },
      "source": [
        "# Tuples"
      ]
    },
    {
      "cell_type": "raw",
      "id": "100b9e9f",
      "metadata": {
        "id": "100b9e9f"
      },
      "source": [
        "1 . creation"
      ]
    },
    {
      "cell_type": "code",
      "execution_count": null,
      "id": "56a54f24",
      "metadata": {
        "id": "56a54f24"
      },
      "outputs": [],
      "source": [
        "colors = 'pink','mave'"
      ]
    },
    {
      "cell_type": "code",
      "execution_count": null,
      "id": "8e4e24f9",
      "metadata": {
        "id": "8e4e24f9",
        "outputId": "a216b659-a18d-466a-9246-4800b82c7de7",
        "colab": {
          "base_uri": "https://localhost:8080/"
        }
      },
      "outputs": [
        {
          "output_type": "execute_result",
          "data": {
            "text/plain": [
              "tuple"
            ]
          },
          "metadata": {},
          "execution_count": 177
        }
      ],
      "source": [
        "type(colors)"
      ]
    },
    {
      "cell_type": "code",
      "source": [
        "colors"
      ],
      "metadata": {
        "colab": {
          "base_uri": "https://localhost:8080/"
        },
        "id": "xrjFBzgL7Y1V",
        "outputId": "84bb4e81-a8f7-48df-93a0-ea507d4a23c0"
      },
      "id": "xrjFBzgL7Y1V",
      "execution_count": null,
      "outputs": [
        {
          "output_type": "execute_result",
          "data": {
            "text/plain": [
              "('pink', 'mave')"
            ]
          },
          "metadata": {},
          "execution_count": 178
        }
      ]
    },
    {
      "cell_type": "code",
      "execution_count": null,
      "id": "4d92da1c",
      "metadata": {
        "id": "4d92da1c"
      },
      "outputs": [],
      "source": [
        "rgb = ('red',)"
      ]
    },
    {
      "cell_type": "code",
      "execution_count": null,
      "id": "0ef308c8",
      "metadata": {
        "id": "0ef308c8",
        "outputId": "9c95977c-792c-425b-e6a9-7cbfd6f9a028",
        "colab": {
          "base_uri": "https://localhost:8080/"
        }
      },
      "outputs": [
        {
          "output_type": "execute_result",
          "data": {
            "text/plain": [
              "tuple"
            ]
          },
          "metadata": {},
          "execution_count": 182
        }
      ],
      "source": [
        "type(rgb)"
      ]
    },
    {
      "cell_type": "code",
      "execution_count": null,
      "id": "0918b850",
      "metadata": {
        "id": "0918b850"
      },
      "outputs": [],
      "source": [
        "pleasent_col = tuple(('mauve','peach','lavender'))"
      ]
    },
    {
      "cell_type": "code",
      "execution_count": null,
      "id": "62320941",
      "metadata": {
        "id": "62320941",
        "outputId": "e638515f-58ed-4334-94c3-273b4344a495",
        "colab": {
          "base_uri": "https://localhost:8080/"
        }
      },
      "outputs": [
        {
          "output_type": "execute_result",
          "data": {
            "text/plain": [
              "('mauve', 'peach', 'lavender')"
            ]
          },
          "metadata": {},
          "execution_count": 184
        }
      ],
      "source": [
        "pleasent_col"
      ]
    },
    {
      "cell_type": "code",
      "execution_count": null,
      "id": "0c40b65c",
      "metadata": {
        "id": "0c40b65c"
      },
      "outputs": [],
      "source": [
        "colors = 'pink','mauve','peach','lavender','pink' # ordered ,accepts duplicates"
      ]
    },
    {
      "cell_type": "code",
      "execution_count": null,
      "id": "f7e428df",
      "metadata": {
        "id": "f7e428df",
        "outputId": "f94fd29a-4f1e-4744-8ad2-b996e33a35b2",
        "colab": {
          "base_uri": "https://localhost:8080/"
        }
      },
      "outputs": [
        {
          "output_type": "execute_result",
          "data": {
            "text/plain": [
              "('pink', 'mauve', 'peach', 'lavender', 'pink')"
            ]
          },
          "metadata": {},
          "execution_count": 186
        }
      ],
      "source": [
        "colors"
      ]
    },
    {
      "cell_type": "code",
      "execution_count": null,
      "id": "daa50d8c",
      "metadata": {
        "id": "daa50d8c",
        "outputId": "372812e2-ec3f-4a46-95af-012ca060a420",
        "colab": {
          "base_uri": "https://localhost:8080/",
          "height": 36
        }
      },
      "outputs": [
        {
          "output_type": "execute_result",
          "data": {
            "text/plain": [
              "'lavender'"
            ],
            "application/vnd.google.colaboratory.intrinsic+json": {
              "type": "string"
            }
          },
          "metadata": {},
          "execution_count": 187
        }
      ],
      "source": [
        "colors[3]"
      ]
    },
    {
      "cell_type": "code",
      "execution_count": null,
      "id": "4b740211",
      "metadata": {
        "id": "4b740211",
        "outputId": "54123fa9-5565-4429-fd60-4dfe79eceb28",
        "colab": {
          "base_uri": "https://localhost:8080/"
        }
      },
      "outputs": [
        {
          "output_type": "execute_result",
          "data": {
            "text/plain": [
              "('mauve', 'peach', 'lavender', 'pink')"
            ]
          },
          "metadata": {},
          "execution_count": 188
        }
      ],
      "source": [
        "colors[1:5]"
      ]
    },
    {
      "cell_type": "code",
      "execution_count": null,
      "id": "cee2bc50",
      "metadata": {
        "id": "cee2bc50",
        "outputId": "53b52466-e588-40c7-980b-65c26207fdb1",
        "colab": {
          "base_uri": "https://localhost:8080/"
        }
      },
      "outputs": [
        {
          "output_type": "execute_result",
          "data": {
            "text/plain": [
              "('pink', 'mauve', 'peach', 'lavender')"
            ]
          },
          "metadata": {},
          "execution_count": 189
        }
      ],
      "source": [
        "colors[-5:-1]"
      ]
    },
    {
      "cell_type": "code",
      "execution_count": null,
      "id": "de902a16",
      "metadata": {
        "id": "de902a16",
        "outputId": "01e326f6-9bda-4f84-a2bf-f52da9bc2e17",
        "colab": {
          "base_uri": "https://localhost:8080/"
        }
      },
      "outputs": [
        {
          "output_type": "execute_result",
          "data": {
            "text/plain": [
              "5"
            ]
          },
          "metadata": {},
          "execution_count": 190
        }
      ],
      "source": [
        "len(colors)"
      ]
    },
    {
      "cell_type": "code",
      "execution_count": null,
      "id": "387bda4e",
      "metadata": {
        "id": "387bda4e",
        "outputId": "f914e7b5-a190-4a19-cd10-3e931523f61b",
        "colab": {
          "base_uri": "https://localhost:8080/"
        }
      },
      "outputs": [
        {
          "output_type": "execute_result",
          "data": {
            "text/plain": [
              "('Ram', 3, 4.2, True)"
            ]
          },
          "metadata": {},
          "execution_count": 191
        }
      ],
      "source": [
        "t1 = ('Ram',3,4.2,True)\n",
        "t1"
      ]
    },
    {
      "cell_type": "markdown",
      "id": "0fc07851",
      "metadata": {
        "id": "0fc07851"
      },
      "source": [
        "# Modify"
      ]
    },
    {
      "cell_type": "code",
      "execution_count": null,
      "id": "d2fcd2bc",
      "metadata": {
        "id": "d2fcd2bc",
        "outputId": "dbece344-0170-4746-ef7a-41dd9e13365d",
        "colab": {
          "base_uri": "https://localhost:8080/",
          "height": 165
        }
      },
      "outputs": [
        {
          "output_type": "error",
          "ename": "TypeError",
          "evalue": "ignored",
          "traceback": [
            "\u001b[0;31m---------------------------------------------------------------------------\u001b[0m",
            "\u001b[0;31mTypeError\u001b[0m                                 Traceback (most recent call last)",
            "\u001b[0;32m<ipython-input-192-a527081d8c8d>\u001b[0m in \u001b[0;36m<module>\u001b[0;34m\u001b[0m\n\u001b[0;32m----> 1\u001b[0;31m \u001b[0mcolors\u001b[0m\u001b[0;34m[\u001b[0m\u001b[0;36m3\u001b[0m\u001b[0;34m]\u001b[0m \u001b[0;34m=\u001b[0m \u001b[0;34m'baby pink'\u001b[0m\u001b[0;34m\u001b[0m\u001b[0;34m\u001b[0m\u001b[0m\n\u001b[0m",
            "\u001b[0;31mTypeError\u001b[0m: 'tuple' object does not support item assignment"
          ]
        }
      ],
      "source": [
        "colors[3] = 'baby pink'"
      ]
    },
    {
      "cell_type": "code",
      "execution_count": null,
      "id": "933f0ee9",
      "metadata": {
        "id": "933f0ee9",
        "outputId": "2f68d1a2-1a45-437c-da9a-ec2220d1eddf",
        "colab": {
          "base_uri": "https://localhost:8080/"
        }
      },
      "outputs": [
        {
          "output_type": "execute_result",
          "data": {
            "text/plain": [
              "('baby pink', 'mauve', 'peach', 'lavender', 'pink')"
            ]
          },
          "metadata": {},
          "execution_count": 195
        }
      ],
      "source": [
        "x = list(colors)\n",
        "x[0] = 'baby pink'\n",
        "colors = tuple(x)\n",
        "colors"
      ]
    },
    {
      "cell_type": "markdown",
      "id": "50d6677f",
      "metadata": {
        "id": "50d6677f"
      },
      "source": [
        "# Packing / Un Packing"
      ]
    },
    {
      "cell_type": "code",
      "execution_count": null,
      "id": "6f8bc722",
      "metadata": {
        "id": "6f8bc722"
      },
      "outputs": [],
      "source": [
        "bag = 'mobile','head set','charger','laptop - charger', 'pen drive', 'E-disk','cash'"
      ]
    },
    {
      "cell_type": "code",
      "execution_count": null,
      "id": "2da8aa4a",
      "metadata": {
        "id": "2da8aa4a",
        "outputId": "0a32f600-a27f-4587-cdc9-b40d92076554",
        "colab": {
          "base_uri": "https://localhost:8080/"
        }
      },
      "outputs": [
        {
          "output_type": "execute_result",
          "data": {
            "text/plain": [
              "('mobile',\n",
              " 'head set',\n",
              " 'charger',\n",
              " 'laptop - charger',\n",
              " 'pen drive',\n",
              " 'E-disk',\n",
              " 'cash')"
            ]
          },
          "metadata": {},
          "execution_count": 197
        }
      ],
      "source": [
        "bag"
      ]
    },
    {
      "cell_type": "markdown",
      "source": [
        "**Unpacking**"
      ],
      "metadata": {
        "id": "5zvbbaCV969Z"
      },
      "id": "5zvbbaCV969Z"
    },
    {
      "cell_type": "code",
      "execution_count": null,
      "id": "840e7521",
      "metadata": {
        "id": "840e7521"
      },
      "outputs": [],
      "source": [
        "case,*electronics,purse = bag  # electronics ---> arbitrary variable"
      ]
    },
    {
      "cell_type": "code",
      "execution_count": null,
      "id": "decb5fc8",
      "metadata": {
        "id": "decb5fc8",
        "outputId": "6920e92c-c01c-4a58-b093-a11621f479e9",
        "colab": {
          "base_uri": "https://localhost:8080/",
          "height": 36
        }
      },
      "outputs": [
        {
          "output_type": "execute_result",
          "data": {
            "text/plain": [
              "'mobile'"
            ],
            "application/vnd.google.colaboratory.intrinsic+json": {
              "type": "string"
            }
          },
          "metadata": {},
          "execution_count": 215
        }
      ],
      "source": [
        "case"
      ]
    },
    {
      "cell_type": "code",
      "execution_count": null,
      "id": "d0cd6f57",
      "metadata": {
        "id": "d0cd6f57",
        "outputId": "685cb4db-b9dc-445c-c3e1-aa7ed98471cf",
        "colab": {
          "base_uri": "https://localhost:8080/"
        }
      },
      "outputs": [
        {
          "output_type": "execute_result",
          "data": {
            "text/plain": [
              "['head set', 'charger', 'laptop - charger', 'pen drive', 'E-disk']"
            ]
          },
          "metadata": {},
          "execution_count": 216
        }
      ],
      "source": [
        "electronics"
      ]
    },
    {
      "cell_type": "code",
      "execution_count": null,
      "id": "819b70f4",
      "metadata": {
        "id": "819b70f4",
        "outputId": "a08bb923-6bf2-4578-870d-77df669d205b",
        "colab": {
          "base_uri": "https://localhost:8080/",
          "height": 36
        }
      },
      "outputs": [
        {
          "output_type": "execute_result",
          "data": {
            "text/plain": [
              "'cash'"
            ],
            "application/vnd.google.colaboratory.intrinsic+json": {
              "type": "string"
            }
          },
          "metadata": {},
          "execution_count": 201
        }
      ],
      "source": [
        "purse"
      ]
    },
    {
      "cell_type": "code",
      "execution_count": null,
      "id": "ffbcf2f7",
      "metadata": {
        "id": "ffbcf2f7"
      },
      "outputs": [],
      "source": [
        "rgb = ('red','green','blue')"
      ]
    },
    {
      "cell_type": "code",
      "execution_count": null,
      "id": "31cd0d19",
      "metadata": {
        "id": "31cd0d19"
      },
      "outputs": [],
      "source": [
        "r,g,b = rgb"
      ]
    },
    {
      "cell_type": "code",
      "execution_count": null,
      "id": "f7a8ddfb",
      "metadata": {
        "id": "f7a8ddfb",
        "outputId": "f41c3bd8-955f-499e-a2d2-bf3b0c02bd3a",
        "colab": {
          "base_uri": "https://localhost:8080/",
          "height": 36
        }
      },
      "outputs": [
        {
          "output_type": "execute_result",
          "data": {
            "text/plain": [
              "'red'"
            ],
            "application/vnd.google.colaboratory.intrinsic+json": {
              "type": "string"
            }
          },
          "metadata": {},
          "execution_count": 205
        }
      ],
      "source": [
        "r"
      ]
    },
    {
      "cell_type": "code",
      "execution_count": null,
      "id": "ff8825ca",
      "metadata": {
        "id": "ff8825ca",
        "outputId": "2a5b368d-aa4e-4747-aa2b-102f72aad145",
        "colab": {
          "base_uri": "https://localhost:8080/",
          "height": 36
        }
      },
      "outputs": [
        {
          "output_type": "execute_result",
          "data": {
            "text/plain": [
              "'green'"
            ],
            "application/vnd.google.colaboratory.intrinsic+json": {
              "type": "string"
            }
          },
          "metadata": {},
          "execution_count": 206
        }
      ],
      "source": [
        "g"
      ]
    },
    {
      "cell_type": "code",
      "execution_count": null,
      "id": "d718c6fd",
      "metadata": {
        "id": "d718c6fd",
        "outputId": "75635b50-1e34-4919-ef2f-b4d90adc4729",
        "colab": {
          "base_uri": "https://localhost:8080/",
          "height": 36
        }
      },
      "outputs": [
        {
          "output_type": "execute_result",
          "data": {
            "text/plain": [
              "'blue'"
            ],
            "application/vnd.google.colaboratory.intrinsic+json": {
              "type": "string"
            }
          },
          "metadata": {},
          "execution_count": 207
        }
      ],
      "source": [
        "b"
      ]
    },
    {
      "cell_type": "markdown",
      "id": "1f073529",
      "metadata": {
        "id": "1f073529"
      },
      "source": [
        "# join Tuples"
      ]
    },
    {
      "cell_type": "code",
      "execution_count": null,
      "id": "8251631b",
      "metadata": {
        "id": "8251631b",
        "outputId": "29c79ddc-504f-44e2-c116-1fced538ea1c",
        "colab": {
          "base_uri": "https://localhost:8080/"
        }
      },
      "outputs": [
        {
          "output_type": "execute_result",
          "data": {
            "text/plain": [
              "('vishnu', 'rakesh', 'ratna', 'suresh', 'vijay')"
            ]
          },
          "metadata": {},
          "execution_count": 217
        }
      ],
      "source": [
        "names = ('vishnu','rakesh','ratna')\n",
        "name2 = ('suresh','vijay')\n",
        "\n",
        "names+name2"
      ]
    },
    {
      "cell_type": "code",
      "execution_count": null,
      "id": "85fa1864",
      "metadata": {
        "id": "85fa1864",
        "outputId": "4e686e00-6adb-4c54-faa3-978b8249e067",
        "colab": {
          "base_uri": "https://localhost:8080/"
        }
      },
      "outputs": [
        {
          "output_type": "execute_result",
          "data": {
            "text/plain": [
              "('*', '*', '*', '*', '*')"
            ]
          },
          "metadata": {},
          "execution_count": 218
        }
      ],
      "source": [
        "sym = ('*',)\n",
        "sym *5"
      ]
    },
    {
      "cell_type": "markdown",
      "id": "91324728",
      "metadata": {
        "id": "91324728"
      },
      "source": [
        "# Methods"
      ]
    },
    {
      "cell_type": "code",
      "execution_count": null,
      "id": "7959367b",
      "metadata": {
        "id": "7959367b",
        "outputId": "a4c882b3-88f4-4460-af92-a65dc8e8ef5a",
        "colab": {
          "base_uri": "https://localhost:8080/"
        }
      },
      "outputs": [
        {
          "output_type": "execute_result",
          "data": {
            "text/plain": [
              "2"
            ]
          },
          "metadata": {},
          "execution_count": 219
        }
      ],
      "source": [
        "numbers = (1,3,5,2,5,7,6)\n",
        "x = numbers.count(5)\n",
        "x"
      ]
    },
    {
      "cell_type": "code",
      "execution_count": null,
      "id": "d8ddc899",
      "metadata": {
        "id": "d8ddc899",
        "outputId": "3f38be2c-afa7-45e0-8ece-813cf9d6cfeb"
      },
      "outputs": [
        {
          "data": {
            "text/plain": [
              "1"
            ]
          },
          "execution_count": 135,
          "metadata": {},
          "output_type": "execute_result"
        }
      ],
      "source": [
        "x = numbers.index(3)\n",
        "x"
      ]
    },
    {
      "cell_type": "code",
      "source": [
        "del numbers[3]"
      ],
      "metadata": {
        "id": "ik6JGVNuAicz",
        "outputId": "ba9249db-987b-474a-e373-6f182f514f40",
        "colab": {
          "base_uri": "https://localhost:8080/",
          "height": 165
        }
      },
      "id": "ik6JGVNuAicz",
      "execution_count": null,
      "outputs": [
        {
          "output_type": "error",
          "ename": "TypeError",
          "evalue": "ignored",
          "traceback": [
            "\u001b[0;31m---------------------------------------------------------------------------\u001b[0m",
            "\u001b[0;31mTypeError\u001b[0m                                 Traceback (most recent call last)",
            "\u001b[0;32m<ipython-input-220-eb1d623725f5>\u001b[0m in \u001b[0;36m<module>\u001b[0;34m\u001b[0m\n\u001b[0;32m----> 1\u001b[0;31m \u001b[0;32mdel\u001b[0m \u001b[0mnumbers\u001b[0m\u001b[0;34m[\u001b[0m\u001b[0;36m3\u001b[0m\u001b[0;34m]\u001b[0m\u001b[0;34m\u001b[0m\u001b[0;34m\u001b[0m\u001b[0m\n\u001b[0m",
            "\u001b[0;31mTypeError\u001b[0m: 'tuple' object doesn't support item deletion"
          ]
        }
      ]
    },
    {
      "cell_type": "markdown",
      "id": "fe48c1cd",
      "metadata": {
        "id": "fe48c1cd"
      },
      "source": [
        "# Dictionary"
      ]
    },
    {
      "cell_type": "code",
      "execution_count": null,
      "id": "65cae3b0",
      "metadata": {
        "id": "65cae3b0"
      },
      "outputs": [],
      "source": [
        "car = {\n",
        "    'brand':'Ford',\n",
        "    'model':'Mustang',\n",
        "    'year' : 1964,\n",
        "    'year' : 2000\n",
        "}"
      ]
    },
    {
      "cell_type": "code",
      "execution_count": null,
      "id": "e11fe45e",
      "metadata": {
        "id": "e11fe45e",
        "outputId": "f4d7127c-4eec-45cc-9c16-1a9f810bc4ae"
      },
      "outputs": [
        {
          "data": {
            "text/plain": [
              "dict"
            ]
          },
          "execution_count": 6,
          "metadata": {},
          "output_type": "execute_result"
        }
      ],
      "source": [
        "type(car)"
      ]
    },
    {
      "cell_type": "code",
      "execution_count": null,
      "id": "fff440c7",
      "metadata": {
        "id": "fff440c7",
        "outputId": "ef09b7fd-e347-4779-82da-0f55a86bcbd9"
      },
      "outputs": [
        {
          "data": {
            "text/plain": [
              "{'brand': 'Ford', 'model': 'Mustang', 'year': 2000}"
            ]
          },
          "execution_count": 7,
          "metadata": {},
          "output_type": "execute_result"
        }
      ],
      "source": [
        "car"
      ]
    },
    {
      "cell_type": "code",
      "execution_count": null,
      "id": "5ae96c40",
      "metadata": {
        "id": "5ae96c40",
        "outputId": "c90e7b12-136b-43aa-9fd8-9218cd73ccd1"
      },
      "outputs": [
        {
          "data": {
            "text/plain": [
              "'Ford'"
            ]
          },
          "execution_count": 8,
          "metadata": {},
          "output_type": "execute_result"
        }
      ],
      "source": [
        "car['brand']"
      ]
    },
    {
      "cell_type": "code",
      "execution_count": null,
      "id": "0f468ea2",
      "metadata": {
        "id": "0f468ea2",
        "outputId": "dd87b1e8-085b-4336-8637-b1800fe9c692"
      },
      "outputs": [
        {
          "data": {
            "text/plain": [
              "3"
            ]
          },
          "execution_count": 9,
          "metadata": {},
          "output_type": "execute_result"
        }
      ],
      "source": [
        "len(car)"
      ]
    },
    {
      "cell_type": "code",
      "execution_count": null,
      "id": "972aa889",
      "metadata": {
        "id": "972aa889"
      },
      "outputs": [],
      "source": [
        "car['color'] = ['red','white','blue']"
      ]
    },
    {
      "cell_type": "code",
      "execution_count": null,
      "id": "641b8b2b",
      "metadata": {
        "id": "641b8b2b",
        "outputId": "dfe70310-b493-4d1a-d095-86f816269ba7"
      },
      "outputs": [
        {
          "data": {
            "text/plain": [
              "{'brand': 'Ford',\n",
              " 'model': 'Mustang',\n",
              " 'year': 2000,\n",
              " 'color': ['red', 'white', 'blue']}"
            ]
          },
          "execution_count": 11,
          "metadata": {},
          "output_type": "execute_result"
        }
      ],
      "source": [
        "car"
      ]
    },
    {
      "cell_type": "code",
      "execution_count": null,
      "id": "6283fae9",
      "metadata": {
        "id": "6283fae9"
      },
      "outputs": [],
      "source": [
        "emp = dict()"
      ]
    },
    {
      "cell_type": "code",
      "execution_count": null,
      "id": "bfadd170",
      "metadata": {
        "id": "bfadd170",
        "outputId": "625c2ff4-1fad-4e34-83c0-0eea9d5a5f3d"
      },
      "outputs": [
        {
          "data": {
            "text/plain": [
              "dict"
            ]
          },
          "execution_count": 13,
          "metadata": {},
          "output_type": "execute_result"
        }
      ],
      "source": [
        "type(emp)"
      ]
    },
    {
      "cell_type": "code",
      "execution_count": null,
      "id": "4446abd4",
      "metadata": {
        "id": "4446abd4",
        "outputId": "3a3ca478-8d65-4fc0-ff67-94682701f8fa"
      },
      "outputs": [
        {
          "data": {
            "text/plain": [
              "{}"
            ]
          },
          "execution_count": 14,
          "metadata": {},
          "output_type": "execute_result"
        }
      ],
      "source": [
        "emp"
      ]
    },
    {
      "cell_type": "code",
      "execution_count": null,
      "id": "8037e11a",
      "metadata": {
        "id": "8037e11a"
      },
      "outputs": [],
      "source": [
        "emp['name'] = 'Rathna'\n",
        "emp['empid'] = 'er101'\n",
        "emp['desig'] = 'Developer'\n",
        "emp['salary'] = 40000"
      ]
    },
    {
      "cell_type": "code",
      "execution_count": null,
      "id": "d78d9f7e",
      "metadata": {
        "id": "d78d9f7e",
        "outputId": "7cb573cd-ad7f-47f1-e9c2-46c1429b75b9"
      },
      "outputs": [
        {
          "data": {
            "text/plain": [
              "{'name': 'Rathna', 'empid': 'er101', 'desig': 'Developer', 'salary': 40000}"
            ]
          },
          "execution_count": 16,
          "metadata": {},
          "output_type": "execute_result"
        }
      ],
      "source": [
        "emp"
      ]
    },
    {
      "cell_type": "markdown",
      "id": "0f6569f7",
      "metadata": {
        "id": "0f6569f7"
      },
      "source": [
        "# Access"
      ]
    },
    {
      "cell_type": "code",
      "execution_count": null,
      "id": "12a287ad",
      "metadata": {
        "id": "12a287ad",
        "outputId": "450deaff-75ed-42c1-f908-bb370609b583"
      },
      "outputs": [
        {
          "data": {
            "text/plain": [
              "dict_keys(['brand', 'model', 'year', 'color'])"
            ]
          },
          "execution_count": 17,
          "metadata": {},
          "output_type": "execute_result"
        }
      ],
      "source": [
        "car.keys()"
      ]
    },
    {
      "cell_type": "code",
      "execution_count": null,
      "id": "cad7c222",
      "metadata": {
        "id": "cad7c222",
        "outputId": "4940b3df-631c-4e55-b9d3-2f97b2c06f18"
      },
      "outputs": [
        {
          "data": {
            "text/plain": [
              "dict_values(['Ford', 'Mustang', 2000, ['red', 'white', 'blue']])"
            ]
          },
          "execution_count": 18,
          "metadata": {},
          "output_type": "execute_result"
        }
      ],
      "source": [
        "car.values()"
      ]
    },
    {
      "cell_type": "code",
      "execution_count": null,
      "id": "36d8af9c",
      "metadata": {
        "id": "36d8af9c",
        "outputId": "01a12c8f-d92d-4771-c84e-780db41ecf5f"
      },
      "outputs": [
        {
          "data": {
            "text/plain": [
              "dict_items([('brand', 'Ford'), ('model', 'Mustang'), ('year', 2000), ('color', ['red', 'white', 'blue'])])"
            ]
          },
          "execution_count": 19,
          "metadata": {},
          "output_type": "execute_result"
        }
      ],
      "source": [
        "car.items()"
      ]
    },
    {
      "cell_type": "code",
      "execution_count": null,
      "id": "90149e0b",
      "metadata": {
        "id": "90149e0b",
        "outputId": "23ec0876-1dd4-4be9-a531-d16b951f2b0b"
      },
      "outputs": [
        {
          "data": {
            "text/plain": [
              "'Ford'"
            ]
          },
          "execution_count": 20,
          "metadata": {},
          "output_type": "execute_result"
        }
      ],
      "source": [
        "car.get('brand')"
      ]
    },
    {
      "cell_type": "code",
      "execution_count": null,
      "id": "99278648",
      "metadata": {
        "id": "99278648",
        "outputId": "c0ede02e-ce53-42f9-e26f-1504ae0721ff"
      },
      "outputs": [
        {
          "data": {
            "text/plain": [
              "['red', 'white', 'blue']"
            ]
          },
          "execution_count": 21,
          "metadata": {},
          "output_type": "execute_result"
        }
      ],
      "source": [
        "car['color']"
      ]
    },
    {
      "cell_type": "code",
      "execution_count": null,
      "id": "f253c734",
      "metadata": {
        "id": "f253c734",
        "outputId": "a590827c-58dd-49c4-b0c7-2af938c73862"
      },
      "outputs": [
        {
          "data": {
            "text/plain": [
              "True"
            ]
          },
          "execution_count": 22,
          "metadata": {},
          "output_type": "execute_result"
        }
      ],
      "source": [
        "\"name\" in emp"
      ]
    },
    {
      "cell_type": "markdown",
      "id": "240c4181",
      "metadata": {
        "id": "240c4181"
      },
      "source": [
        "# Modify"
      ]
    },
    {
      "cell_type": "code",
      "execution_count": null,
      "id": "33a9ebf8",
      "metadata": {
        "id": "33a9ebf8"
      },
      "outputs": [],
      "source": [
        "car['year'] = 2020"
      ]
    },
    {
      "cell_type": "code",
      "execution_count": null,
      "id": "3ff84fb9",
      "metadata": {
        "id": "3ff84fb9",
        "outputId": "48e4a3c4-fcf3-441e-8a2a-0059694ecb57"
      },
      "outputs": [
        {
          "data": {
            "text/plain": [
              "{'brand': 'Ford',\n",
              " 'model': 'Mustang',\n",
              " 'year': 2020,\n",
              " 'color': ['red', 'white', 'blue']}"
            ]
          },
          "execution_count": 24,
          "metadata": {},
          "output_type": "execute_result"
        }
      ],
      "source": [
        "car"
      ]
    },
    {
      "cell_type": "code",
      "execution_count": null,
      "id": "5c574865",
      "metadata": {
        "id": "5c574865"
      },
      "outputs": [],
      "source": [
        "emp.update({'doj':'12/nov/2022'})"
      ]
    },
    {
      "cell_type": "code",
      "execution_count": null,
      "id": "09d7436d",
      "metadata": {
        "id": "09d7436d",
        "outputId": "4f15d9c3-b0f1-4d68-f86c-c82d2263caa9"
      },
      "outputs": [
        {
          "data": {
            "text/plain": [
              "{'name': 'Rathna',\n",
              " 'empid': 'er101',\n",
              " 'desig': 'Developer',\n",
              " 'salary': 40000,\n",
              " 'doj': '12/nov/2022'}"
            ]
          },
          "execution_count": 26,
          "metadata": {},
          "output_type": "execute_result"
        }
      ],
      "source": [
        "emp"
      ]
    },
    {
      "cell_type": "code",
      "execution_count": null,
      "id": "b1dde67b",
      "metadata": {
        "id": "b1dde67b"
      },
      "outputs": [],
      "source": [
        "car.update({'year':2022})"
      ]
    },
    {
      "cell_type": "code",
      "execution_count": null,
      "id": "34411091",
      "metadata": {
        "id": "34411091",
        "outputId": "0d506645-c49e-44c6-eee0-89244c3564d6"
      },
      "outputs": [
        {
          "data": {
            "text/plain": [
              "{'brand': 'Ford',\n",
              " 'model': 'Mustang',\n",
              " 'year': 2022,\n",
              " 'color': ['red', 'white', 'blue']}"
            ]
          },
          "execution_count": 28,
          "metadata": {},
          "output_type": "execute_result"
        }
      ],
      "source": [
        "car"
      ]
    },
    {
      "cell_type": "markdown",
      "id": "03934704",
      "metadata": {
        "id": "03934704"
      },
      "source": [
        "# Add Items"
      ]
    },
    {
      "cell_type": "code",
      "execution_count": null,
      "id": "c18e63c3",
      "metadata": {
        "id": "c18e63c3"
      },
      "outputs": [],
      "source": [
        "emp['blood_group'] = 'O+'"
      ]
    },
    {
      "cell_type": "code",
      "execution_count": null,
      "id": "a3b8e507",
      "metadata": {
        "id": "a3b8e507",
        "outputId": "7c8ec6bf-f4e2-4990-e834-219cb3afc5e0"
      },
      "outputs": [
        {
          "data": {
            "text/plain": [
              "{'name': 'Rathna',\n",
              " 'empid': 'er101',\n",
              " 'desig': 'Developer',\n",
              " 'salary': 40000,\n",
              " 'doj': '12/nov/2022',\n",
              " 'blood_group': 'O+'}"
            ]
          },
          "execution_count": 30,
          "metadata": {},
          "output_type": "execute_result"
        }
      ],
      "source": [
        "emp"
      ]
    },
    {
      "cell_type": "code",
      "execution_count": null,
      "id": "f525b01b",
      "metadata": {
        "id": "f525b01b"
      },
      "outputs": [],
      "source": [
        "car.update({'fuel':'petrol'})"
      ]
    },
    {
      "cell_type": "code",
      "execution_count": null,
      "id": "9b92d62c",
      "metadata": {
        "id": "9b92d62c",
        "outputId": "4eb1ee4c-8c37-445c-8e2f-8ba7cf5b616a"
      },
      "outputs": [
        {
          "data": {
            "text/plain": [
              "{'brand': 'Ford',\n",
              " 'model': 'Mustang',\n",
              " 'year': 2022,\n",
              " 'color': ['red', 'white', 'blue'],\n",
              " 'fuel': 'petrol'}"
            ]
          },
          "execution_count": 32,
          "metadata": {},
          "output_type": "execute_result"
        }
      ],
      "source": [
        "car"
      ]
    },
    {
      "cell_type": "markdown",
      "id": "c8078642",
      "metadata": {
        "id": "c8078642"
      },
      "source": [
        "# Remove items"
      ]
    },
    {
      "cell_type": "code",
      "execution_count": null,
      "id": "e5b485f6",
      "metadata": {
        "id": "e5b485f6",
        "outputId": "2d47d2cd-34e4-447f-e4b4-66912f54e476"
      },
      "outputs": [
        {
          "data": {
            "text/plain": [
              "'er101'"
            ]
          },
          "execution_count": 33,
          "metadata": {},
          "output_type": "execute_result"
        }
      ],
      "source": [
        "emp.pop('empid')"
      ]
    },
    {
      "cell_type": "code",
      "execution_count": null,
      "id": "d7b390be",
      "metadata": {
        "id": "d7b390be",
        "outputId": "6da45150-b0fd-40d3-8b3e-1971f88652b8"
      },
      "outputs": [
        {
          "data": {
            "text/plain": [
              "{'name': 'Rathna',\n",
              " 'desig': 'Developer',\n",
              " 'salary': 40000,\n",
              " 'doj': '12/nov/2022',\n",
              " 'blood_group': 'O+'}"
            ]
          },
          "execution_count": 34,
          "metadata": {},
          "output_type": "execute_result"
        }
      ],
      "source": [
        "emp"
      ]
    },
    {
      "cell_type": "code",
      "execution_count": null,
      "id": "bbdf0939",
      "metadata": {
        "id": "bbdf0939",
        "outputId": "ec760032-dfd2-4cf7-877d-10f139a702e0"
      },
      "outputs": [
        {
          "data": {
            "text/plain": [
              "('fuel', 'petrol')"
            ]
          },
          "execution_count": 35,
          "metadata": {},
          "output_type": "execute_result"
        }
      ],
      "source": [
        "car.popitem()"
      ]
    },
    {
      "cell_type": "code",
      "execution_count": null,
      "id": "cd1a1b45",
      "metadata": {
        "id": "cd1a1b45"
      },
      "outputs": [],
      "source": [
        "del car['year']"
      ]
    },
    {
      "cell_type": "code",
      "execution_count": null,
      "id": "896a6926",
      "metadata": {
        "id": "896a6926",
        "outputId": "02c50575-8a3d-44cb-c9e1-5ab18e6109f9"
      },
      "outputs": [
        {
          "data": {
            "text/plain": [
              "{'brand': 'Ford', 'model': 'Mustang', 'color': ['red', 'white', 'blue']}"
            ]
          },
          "execution_count": 37,
          "metadata": {},
          "output_type": "execute_result"
        }
      ],
      "source": [
        "car"
      ]
    },
    {
      "cell_type": "code",
      "execution_count": null,
      "id": "e799219d",
      "metadata": {
        "id": "e799219d"
      },
      "outputs": [],
      "source": [
        "car.clear()"
      ]
    },
    {
      "cell_type": "code",
      "execution_count": null,
      "id": "f7a8274d",
      "metadata": {
        "id": "f7a8274d"
      },
      "outputs": [],
      "source": [
        "del car"
      ]
    },
    {
      "cell_type": "code",
      "execution_count": null,
      "id": "0d0190bc",
      "metadata": {
        "id": "0d0190bc",
        "outputId": "931406bd-f9a4-4520-f299-a8bb871a48cd"
      },
      "outputs": [
        {
          "ename": "NameError",
          "evalue": "name 'car' is not defined",
          "output_type": "error",
          "traceback": [
            "\u001b[1;31m---------------------------------------------------------------------------\u001b[0m",
            "\u001b[1;31mNameError\u001b[0m                                 Traceback (most recent call last)",
            "Cell \u001b[1;32mIn [40], line 1\u001b[0m\n\u001b[1;32m----> 1\u001b[0m \u001b[43mcar\u001b[49m\n",
            "\u001b[1;31mNameError\u001b[0m: name 'car' is not defined"
          ]
        }
      ],
      "source": [
        "car"
      ]
    },
    {
      "cell_type": "markdown",
      "id": "119a16ae",
      "metadata": {
        "id": "119a16ae"
      },
      "source": [
        "# Nested Dictionary"
      ]
    },
    {
      "cell_type": "code",
      "execution_count": null,
      "id": "9f42cc06",
      "metadata": {
        "id": "9f42cc06"
      },
      "outputs": [],
      "source": [
        "myfamily = {\n",
        "    \"child1\": {\n",
        "        'name' : 'Hiranya',\n",
        "        'year' : 2020\n",
        "    },\n",
        "    \"child2\" : {\n",
        "        'name' : 'Shakti Vel',\n",
        "        'year' : 2022\n",
        "    }\n",
        "    \n",
        "}"
      ]
    },
    {
      "cell_type": "code",
      "execution_count": null,
      "id": "01f7a558",
      "metadata": {
        "id": "01f7a558",
        "outputId": "c1eee3f7-8b5e-453e-8c88-ae5b91be3f73"
      },
      "outputs": [
        {
          "data": {
            "text/plain": [
              "{'child1': {'name': 'Hiranya', 'year': 2020},\n",
              " 'child2': {'name': 'Shakti Vel', 'year': 2022}}"
            ]
          },
          "execution_count": 42,
          "metadata": {},
          "output_type": "execute_result"
        }
      ],
      "source": [
        "myfamily"
      ]
    },
    {
      "cell_type": "code",
      "execution_count": null,
      "id": "95e94f02",
      "metadata": {
        "id": "95e94f02",
        "outputId": "b5aa39cc-5e12-43b5-8c9d-ae47e2615829"
      },
      "outputs": [
        {
          "data": {
            "text/plain": [
              "{'name': 'Hiranya', 'year': 2020}"
            ]
          },
          "execution_count": 43,
          "metadata": {},
          "output_type": "execute_result"
        }
      ],
      "source": [
        "myfamily['child1']"
      ]
    },
    {
      "cell_type": "code",
      "execution_count": null,
      "id": "0709e826",
      "metadata": {
        "id": "0709e826",
        "outputId": "c7aa488a-c779-40e8-e934-b95718b6e323"
      },
      "outputs": [
        {
          "data": {
            "text/plain": [
              "'Hiranya'"
            ]
          },
          "execution_count": 44,
          "metadata": {},
          "output_type": "execute_result"
        }
      ],
      "source": [
        "myfamily['child1']['name']"
      ]
    },
    {
      "cell_type": "markdown",
      "id": "9268048c",
      "metadata": {
        "id": "9268048c"
      },
      "source": [
        "# Methods"
      ]
    },
    {
      "cell_type": "code",
      "execution_count": null,
      "id": "b0edb53e",
      "metadata": {
        "id": "b0edb53e",
        "outputId": "a5284883-4b37-4edd-80c3-0a90d559a8e3"
      },
      "outputs": [
        {
          "data": {
            "text/plain": [
              "{'name': 'Rathna',\n",
              " 'desig': 'Developer',\n",
              " 'salary': 40000,\n",
              " 'doj': '12/nov/2022',\n",
              " 'blood_group': 'O+'}"
            ]
          },
          "execution_count": 45,
          "metadata": {},
          "output_type": "execute_result"
        }
      ],
      "source": [
        "emp"
      ]
    },
    {
      "cell_type": "code",
      "execution_count": null,
      "id": "cb801dd6",
      "metadata": {
        "id": "cb801dd6",
        "outputId": "aa706011-556a-47b3-95ee-fa00b0f84333"
      },
      "outputs": [
        {
          "data": {
            "text/plain": [
              "'LNT'"
            ]
          },
          "execution_count": 46,
          "metadata": {},
          "output_type": "execute_result"
        }
      ],
      "source": [
        "emp.setdefault('company','LNT')"
      ]
    },
    {
      "cell_type": "code",
      "execution_count": null,
      "id": "efacdc5e",
      "metadata": {
        "id": "efacdc5e",
        "outputId": "b8460e9c-d492-486a-f3cf-dc1f98dad708"
      },
      "outputs": [
        {
          "data": {
            "text/plain": [
              "{'name': 'Rathna',\n",
              " 'desig': 'Developer',\n",
              " 'salary': 40000,\n",
              " 'doj': '12/nov/2022',\n",
              " 'blood_group': 'O+',\n",
              " 'company': 'LNT'}"
            ]
          },
          "execution_count": 47,
          "metadata": {},
          "output_type": "execute_result"
        }
      ],
      "source": [
        "emp"
      ]
    },
    {
      "cell_type": "code",
      "execution_count": null,
      "id": "7916eb09",
      "metadata": {
        "id": "7916eb09",
        "outputId": "36779f1d-b76e-4a90-a2ec-468694aeb529"
      },
      "outputs": [
        {
          "data": {
            "text/plain": [
              "'LNT'"
            ]
          },
          "execution_count": 48,
          "metadata": {},
          "output_type": "execute_result"
        }
      ],
      "source": [
        "emp.setdefault('company','HCL')"
      ]
    },
    {
      "cell_type": "code",
      "execution_count": null,
      "id": "b2ef782b",
      "metadata": {
        "id": "b2ef782b",
        "outputId": "09eee2f1-8438-45cf-ee30-cfe29d686568"
      },
      "outputs": [
        {
          "data": {
            "text/plain": [
              "{'name': 'Rathna',\n",
              " 'desig': 'Developer',\n",
              " 'salary': 40000,\n",
              " 'doj': '12/nov/2022',\n",
              " 'blood_group': 'O+',\n",
              " 'company': 'LNT'}"
            ]
          },
          "execution_count": 49,
          "metadata": {},
          "output_type": "execute_result"
        }
      ],
      "source": [
        "emp"
      ]
    },
    {
      "cell_type": "code",
      "execution_count": null,
      "id": "d7a2717b",
      "metadata": {
        "id": "d7a2717b"
      },
      "outputs": [],
      "source": [
        "emp['company'] = 'ZOHO'"
      ]
    },
    {
      "cell_type": "code",
      "execution_count": null,
      "id": "d7c20d78",
      "metadata": {
        "id": "d7c20d78",
        "outputId": "d31240c0-aa99-4f95-d6df-cce403b7ea31"
      },
      "outputs": [
        {
          "data": {
            "text/plain": [
              "{'name': 'Rathna',\n",
              " 'desig': 'Developer',\n",
              " 'salary': 40000,\n",
              " 'doj': '12/nov/2022',\n",
              " 'blood_group': 'O+',\n",
              " 'company': 'ZOHO'}"
            ]
          },
          "execution_count": 52,
          "metadata": {},
          "output_type": "execute_result"
        }
      ],
      "source": [
        "emp"
      ]
    },
    {
      "cell_type": "code",
      "execution_count": null,
      "id": "8e144ec7",
      "metadata": {
        "id": "8e144ec7"
      },
      "outputs": [],
      "source": [
        "x = (1,2,3,4,5)\n",
        "y = 'number'"
      ]
    },
    {
      "cell_type": "code",
      "execution_count": null,
      "id": "2ec9a029",
      "metadata": {
        "id": "2ec9a029"
      },
      "outputs": [],
      "source": [
        "num = dict.fromkeys(x,y)"
      ]
    },
    {
      "cell_type": "markdown",
      "id": "9a82d3bc",
      "metadata": {
        "id": "9a82d3bc"
      },
      "source": [
        "num"
      ]
    },
    {
      "cell_type": "code",
      "execution_count": null,
      "id": "7c56c168",
      "metadata": {
        "id": "7c56c168",
        "outputId": "dff4f3fe-a193-43b8-8077-1f6ccd67269e"
      },
      "outputs": [
        {
          "data": {
            "text/plain": [
              "{1: 'number', 2: 'number', 3: 'number', 4: 'number', 5: 'number'}"
            ]
          },
          "execution_count": 55,
          "metadata": {},
          "output_type": "execute_result"
        }
      ],
      "source": [
        "num"
      ]
    },
    {
      "cell_type": "markdown",
      "id": "20ee319a",
      "metadata": {
        "id": "20ee319a"
      },
      "source": [
        "# Task"
      ]
    },
    {
      "cell_type": "code",
      "execution_count": null,
      "id": "f2d88d9a",
      "metadata": {
        "id": "f2d88d9a"
      },
      "outputs": [],
      "source": [
        "stud = dict()"
      ]
    },
    {
      "cell_type": "code",
      "execution_count": null,
      "id": "d4831bcf",
      "metadata": {
        "id": "d4831bcf"
      },
      "outputs": [],
      "source": [
        "stud['name'] = 'Ratna'\n",
        "stud['reg_no'] = 'btechit112022'\n",
        "stud['marks'] = [99,92,89]\n",
        "stud['course'] = 'Python'"
      ]
    },
    {
      "cell_type": "code",
      "execution_count": null,
      "id": "684875cc",
      "metadata": {
        "id": "684875cc",
        "outputId": "64a42f3f-cfc2-4c2b-c5cb-1ee0d68d8e20"
      },
      "outputs": [
        {
          "data": {
            "text/plain": [
              "{'name': 'Ratna',\n",
              " 'reg_no': 'btechit112022',\n",
              " 'marks': [99, 92, 89],\n",
              " 'course': 'Python'}"
            ]
          },
          "execution_count": 4,
          "metadata": {},
          "output_type": "execute_result"
        }
      ],
      "source": [
        "stud"
      ]
    },
    {
      "cell_type": "code",
      "execution_count": null,
      "id": "befb9f11",
      "metadata": {
        "id": "befb9f11",
        "outputId": "67b15cc2-8706-47b8-f74d-3e23c6cec940"
      },
      "outputs": [
        {
          "data": {
            "text/plain": [
              "[99, 92, 89]"
            ]
          },
          "execution_count": 5,
          "metadata": {},
          "output_type": "execute_result"
        }
      ],
      "source": [
        "mark_list = stud['marks']\n",
        "mark_list"
      ]
    },
    {
      "cell_type": "code",
      "execution_count": null,
      "id": "5d1b56d3",
      "metadata": {
        "id": "5d1b56d3",
        "outputId": "353ef9e0-6566-4a46-cbee-66bbbd3d3861"
      },
      "outputs": [
        {
          "data": {
            "text/plain": [
              "280"
            ]
          },
          "execution_count": 7,
          "metadata": {},
          "output_type": "execute_result"
        }
      ],
      "source": [
        "total = sum(mark_list)\n",
        "total"
      ]
    },
    {
      "cell_type": "code",
      "execution_count": null,
      "id": "7f549b69",
      "metadata": {
        "id": "7f549b69",
        "outputId": "3ec017bf-0cea-4d3f-b38b-8494d6916d29"
      },
      "outputs": [
        {
          "data": {
            "text/plain": [
              "93.33333333333333"
            ]
          },
          "execution_count": 8,
          "metadata": {},
          "output_type": "execute_result"
        }
      ],
      "source": [
        "avg = total/len(mark_list)\n",
        "avg"
      ]
    },
    {
      "cell_type": "code",
      "execution_count": null,
      "id": "47150323",
      "metadata": {
        "id": "47150323"
      },
      "outputs": [],
      "source": [
        "stud['total'] = total\n",
        "stud['average'] = avg"
      ]
    },
    {
      "cell_type": "code",
      "execution_count": null,
      "id": "9baa88d8",
      "metadata": {
        "id": "9baa88d8",
        "outputId": "e4ade647-51d2-4791-bdd2-8911b9b00460"
      },
      "outputs": [
        {
          "data": {
            "text/plain": [
              "{'name': 'Ratna',\n",
              " 'reg_no': 'btechit112022',\n",
              " 'marks': [99, 92, 89],\n",
              " 'course': 'Python',\n",
              " 'total': 280,\n",
              " 'average': 93.33333333333333}"
            ]
          },
          "execution_count": 10,
          "metadata": {},
          "output_type": "execute_result"
        }
      ],
      "source": [
        "stud"
      ]
    },
    {
      "cell_type": "markdown",
      "id": "baceb07d",
      "metadata": {
        "id": "baceb07d"
      },
      "source": [
        "# task 2"
      ]
    },
    {
      "cell_type": "code",
      "execution_count": null,
      "id": "d5db8575",
      "metadata": {
        "id": "d5db8575"
      },
      "outputs": [],
      "source": [
        "# convert 2 list into dict\n",
        "keys = ['Ten','Twenty','Thirty']\n",
        "values = [10,20,30]"
      ]
    },
    {
      "cell_type": "code",
      "execution_count": null,
      "id": "b4aed2f6",
      "metadata": {
        "id": "b4aed2f6",
        "outputId": "967e7800-dbde-4df3-e3e8-bf3b702dbf1c"
      },
      "outputs": [
        {
          "data": {
            "text/plain": [
              "{'Ten': 10, 'Twenty': 20, 'Thirty': 30}"
            ]
          },
          "execution_count": 13,
          "metadata": {},
          "output_type": "execute_result"
        }
      ],
      "source": [
        "result = dict(zip(keys,values))\n",
        "result"
      ]
    },
    {
      "cell_type": "code",
      "execution_count": null,
      "id": "1c230302",
      "metadata": {
        "id": "1c230302",
        "outputId": "57858925-447e-464d-8d50-6395302003f9"
      },
      "outputs": [
        {
          "data": {
            "text/plain": [
              "(('Anu', 'Radha'), ('radha', 'Krishnana'), ('senthamari', 'Kannan'))"
            ]
          },
          "execution_count": 15,
          "metadata": {},
          "output_type": "execute_result"
        }
      ],
      "source": [
        "first_name = ('Anu','radha','senthamari')\n",
        "last_name = ('Radha','Krishnana','Kannan')\n",
        "x = zip(first_name,last_name)\n",
        "tuple(x)"
      ]
    },
    {
      "cell_type": "markdown",
      "id": "55036eb3",
      "metadata": {
        "id": "55036eb3"
      },
      "source": [
        "# task 3"
      ]
    },
    {
      "cell_type": "code",
      "execution_count": null,
      "id": "2604634f",
      "metadata": {
        "id": "2604634f",
        "outputId": "c00e9328-9208-47a9-9643-7619afb9edf3"
      },
      "outputs": [
        {
          "data": {
            "text/plain": [
              "{'Ten': 10, 'Twenty': 20, 'Thirty': 30, 'Fourty': 40}"
            ]
          },
          "execution_count": 16,
          "metadata": {},
          "output_type": "execute_result"
        }
      ],
      "source": [
        "dict1 = {'Ten':10,'Twenty':20}\n",
        "dict2 = {'Thirty':30,'Fourty':40}\n",
        "\n",
        "dict3 = dict1.copy()\n",
        "dict3.update(dict2)\n",
        "dict3"
      ]
    },
    {
      "cell_type": "code",
      "execution_count": null,
      "id": "6a3166d4",
      "metadata": {
        "id": "6a3166d4",
        "outputId": "895f29aa-c16d-4873-cb1d-7aca417e8914"
      },
      "outputs": [
        {
          "data": {
            "text/plain": [
              "{'Ten': 10, 'Twenty': 20, 'Thirty': 30, 'Fourty': 40}"
            ]
          },
          "execution_count": 18,
          "metadata": {},
          "output_type": "execute_result"
        }
      ],
      "source": [
        "dict3 = {**dict1,**dict2}\n",
        "dict3"
      ]
    },
    {
      "cell_type": "markdown",
      "id": "d4fb7a27",
      "metadata": {
        "id": "d4fb7a27"
      },
      "source": [
        "# Set"
      ]
    },
    {
      "cell_type": "code",
      "execution_count": null,
      "id": "3dbd0115",
      "metadata": {
        "id": "3dbd0115"
      },
      "outputs": [],
      "source": [
        "basket = {'pineapple','apple','banana','apple','cherry','mango'} # unordered ,no duplicates, immutable"
      ]
    },
    {
      "cell_type": "code",
      "execution_count": null,
      "id": "8ccf2d9d",
      "metadata": {
        "id": "8ccf2d9d",
        "outputId": "db93ca2e-3e23-4b80-fff9-298d2edad0c9"
      },
      "outputs": [
        {
          "data": {
            "text/plain": [
              "set"
            ]
          },
          "execution_count": 63,
          "metadata": {},
          "output_type": "execute_result"
        }
      ],
      "source": [
        "type(basket)"
      ]
    },
    {
      "cell_type": "code",
      "execution_count": null,
      "id": "099ee433",
      "metadata": {
        "id": "099ee433",
        "outputId": "a1cec355-8b71-43e9-f792-42fae39c997b"
      },
      "outputs": [
        {
          "data": {
            "text/plain": [
              "{'apple', 'banana', 'cherry', 'mango', 'pineapple'}"
            ]
          },
          "execution_count": 64,
          "metadata": {},
          "output_type": "execute_result"
        }
      ],
      "source": [
        "basket"
      ]
    },
    {
      "cell_type": "code",
      "execution_count": null,
      "id": "2d596097",
      "metadata": {
        "id": "2d596097",
        "outputId": "424f38ad-8fd6-484f-9431-46b9a2a62e8f"
      },
      "outputs": [
        {
          "data": {
            "text/plain": [
              "{'custard apple', 'kiwi', 'orange'}"
            ]
          },
          "execution_count": 67,
          "metadata": {},
          "output_type": "execute_result"
        }
      ],
      "source": [
        "fruits = set(('orange','kiwi','custard apple'))\n",
        "fruits"
      ]
    },
    {
      "cell_type": "code",
      "execution_count": null,
      "id": "f551551f",
      "metadata": {
        "id": "f551551f",
        "outputId": "de5d0cf3-95e7-43d7-cd34-ecf3d519f513"
      },
      "outputs": [
        {
          "data": {
            "text/plain": [
              "3"
            ]
          },
          "execution_count": 68,
          "metadata": {},
          "output_type": "execute_result"
        }
      ],
      "source": [
        "len(fruits)"
      ]
    },
    {
      "cell_type": "code",
      "execution_count": null,
      "id": "0eb39bc8",
      "metadata": {
        "id": "0eb39bc8",
        "outputId": "46c810a2-038d-4330-9c65-6d21a1240b82"
      },
      "outputs": [
        {
          "data": {
            "text/plain": [
              "{1, 3, 5, 7, 9}"
            ]
          },
          "execution_count": 61,
          "metadata": {},
          "output_type": "execute_result"
        }
      ],
      "source": [
        "s1 = {1,3,5,7,9}\n",
        "s1"
      ]
    },
    {
      "cell_type": "code",
      "execution_count": null,
      "id": "9f3367ef",
      "metadata": {
        "id": "9f3367ef",
        "outputId": "7d11fdd3-0ca8-4933-bddb-d1fb32cc2a79"
      },
      "outputs": [
        {
          "data": {
            "text/plain": [
              "{0, 1}"
            ]
          },
          "execution_count": 62,
          "metadata": {},
          "output_type": "execute_result"
        }
      ],
      "source": [
        "s2 = {1,0,True,True,False,1,0}\n",
        "s2"
      ]
    },
    {
      "cell_type": "code",
      "execution_count": null,
      "id": "08e6bec6",
      "metadata": {
        "id": "08e6bec6",
        "outputId": "692262e6-1a6c-4c36-ccf3-7003f8d3cc03"
      },
      "outputs": [
        {
          "data": {
            "text/plain": [
              "{0, 1, 30, 70.5, 'apple'}"
            ]
          },
          "execution_count": 70,
          "metadata": {},
          "output_type": "execute_result"
        }
      ],
      "source": [
        "set3 = {'apple', 30, 70.5,1 , True ,0 , False}\n",
        "set3"
      ]
    },
    {
      "cell_type": "code",
      "execution_count": null,
      "id": "360129fa",
      "metadata": {
        "id": "360129fa",
        "outputId": "0113eff9-271a-41ff-9de8-d75202e17ee0"
      },
      "outputs": [
        {
          "data": {
            "text/plain": [
              "True"
            ]
          },
          "execution_count": 71,
          "metadata": {},
          "output_type": "execute_result"
        }
      ],
      "source": [
        "'apple' in set3"
      ]
    },
    {
      "cell_type": "code",
      "execution_count": null,
      "id": "6f260300",
      "metadata": {
        "id": "6f260300",
        "outputId": "fb326cde-e1c1-452d-d4fa-b54b18020c0d"
      },
      "outputs": [
        {
          "data": {
            "text/plain": [
              "False"
            ]
          },
          "execution_count": 72,
          "metadata": {},
          "output_type": "execute_result"
        }
      ],
      "source": [
        "'orange' in set3"
      ]
    },
    {
      "cell_type": "markdown",
      "id": "511f244a",
      "metadata": {
        "id": "511f244a"
      },
      "source": [
        "# Add"
      ]
    },
    {
      "cell_type": "code",
      "execution_count": null,
      "id": "3f0d088f",
      "metadata": {
        "id": "3f0d088f",
        "outputId": "c36ac799-03cb-4811-870a-dc9832cde36c"
      },
      "outputs": [
        {
          "data": {
            "text/plain": [
              "{'apple', 'banana', 'cherry', 'mango', 'melon', 'pineapple'}"
            ]
          },
          "execution_count": 73,
          "metadata": {},
          "output_type": "execute_result"
        }
      ],
      "source": [
        "basket.add('melon')\n",
        "basket"
      ]
    },
    {
      "cell_type": "code",
      "execution_count": null,
      "id": "a816a395",
      "metadata": {
        "id": "a816a395",
        "outputId": "9c2be37b-81de-431a-9d18-58241fe96b50"
      },
      "outputs": [
        {
          "data": {
            "text/plain": [
              "{'apple',\n",
              " 'banana',\n",
              " 'cherry',\n",
              " 'custard apple',\n",
              " 'kiwi',\n",
              " 'mango',\n",
              " 'melon',\n",
              " 'orange',\n",
              " 'pineapple'}"
            ]
          },
          "execution_count": 74,
          "metadata": {},
          "output_type": "execute_result"
        }
      ],
      "source": [
        "basket.update(fruits)\n",
        "basket"
      ]
    },
    {
      "cell_type": "code",
      "execution_count": null,
      "id": "d8a7bfce",
      "metadata": {
        "id": "d8a7bfce",
        "outputId": "bef6bdb9-1803-4519-cce8-195fa168c5df"
      },
      "outputs": [
        {
          "data": {
            "text/plain": [
              "{'apple',\n",
              " 'avacado',\n",
              " 'banana',\n",
              " 'cherry',\n",
              " 'custard apple',\n",
              " 'grapes',\n",
              " 'kiwi',\n",
              " 'mango',\n",
              " 'melon',\n",
              " 'orange',\n",
              " 'pineapple'}"
            ]
          },
          "execution_count": 75,
          "metadata": {},
          "output_type": "execute_result"
        }
      ],
      "source": [
        "fruit = ['avacado','grapes']\n",
        "basket.update(fruit)\n",
        "basket"
      ]
    },
    {
      "cell_type": "markdown",
      "id": "5189e099",
      "metadata": {
        "id": "5189e099"
      },
      "source": [
        "# Remove"
      ]
    },
    {
      "cell_type": "code",
      "execution_count": null,
      "id": "7cbd8c98",
      "metadata": {
        "id": "7cbd8c98"
      },
      "outputs": [],
      "source": [
        "basket.remove('grapes')"
      ]
    },
    {
      "cell_type": "code",
      "execution_count": null,
      "id": "3940ee49",
      "metadata": {
        "id": "3940ee49",
        "outputId": "b20d01c8-912e-4e42-be26-c79f67f83d13"
      },
      "outputs": [
        {
          "data": {
            "text/plain": [
              "{'apple',\n",
              " 'avacado',\n",
              " 'banana',\n",
              " 'cherry',\n",
              " 'custard apple',\n",
              " 'kiwi',\n",
              " 'mango',\n",
              " 'melon',\n",
              " 'orange',\n",
              " 'pineapple'}"
            ]
          },
          "execution_count": 77,
          "metadata": {},
          "output_type": "execute_result"
        }
      ],
      "source": [
        "basket"
      ]
    },
    {
      "cell_type": "code",
      "execution_count": null,
      "id": "f6aca43d",
      "metadata": {
        "id": "f6aca43d",
        "outputId": "3141190c-ae61-4b43-a384-5c140c1329bf"
      },
      "outputs": [
        {
          "data": {
            "text/plain": [
              "{'apple',\n",
              " 'avacado',\n",
              " 'banana',\n",
              " 'cherry',\n",
              " 'custard apple',\n",
              " 'mango',\n",
              " 'melon',\n",
              " 'orange',\n",
              " 'pineapple'}"
            ]
          },
          "execution_count": 78,
          "metadata": {},
          "output_type": "execute_result"
        }
      ],
      "source": [
        "basket.discard('kiwi')\n",
        "basket"
      ]
    },
    {
      "cell_type": "code",
      "execution_count": null,
      "id": "854dc14b",
      "metadata": {
        "id": "854dc14b",
        "outputId": "97f41fe2-055c-4f36-bacb-522d911ab95e"
      },
      "outputs": [
        {
          "ename": "KeyError",
          "evalue": "'grapes'",
          "output_type": "error",
          "traceback": [
            "\u001b[1;31m---------------------------------------------------------------------------\u001b[0m",
            "\u001b[1;31mKeyError\u001b[0m                                  Traceback (most recent call last)",
            "Cell \u001b[1;32mIn [79], line 1\u001b[0m\n\u001b[1;32m----> 1\u001b[0m \u001b[43mbasket\u001b[49m\u001b[38;5;241;43m.\u001b[39;49m\u001b[43mremove\u001b[49m\u001b[43m(\u001b[49m\u001b[38;5;124;43m'\u001b[39;49m\u001b[38;5;124;43mgrapes\u001b[39;49m\u001b[38;5;124;43m'\u001b[39;49m\u001b[43m)\u001b[49m\n",
            "\u001b[1;31mKeyError\u001b[0m: 'grapes'"
          ]
        }
      ],
      "source": [
        "basket.remove('grapes')"
      ]
    },
    {
      "cell_type": "code",
      "execution_count": null,
      "id": "2107678f",
      "metadata": {
        "id": "2107678f"
      },
      "outputs": [],
      "source": [
        "basket.discard('kiwi')"
      ]
    },
    {
      "cell_type": "code",
      "execution_count": null,
      "id": "f935c894",
      "metadata": {
        "id": "f935c894",
        "outputId": "82d17a7b-2ded-4163-c993-e281953123d8"
      },
      "outputs": [
        {
          "data": {
            "text/plain": [
              "'custard apple'"
            ]
          },
          "execution_count": 81,
          "metadata": {},
          "output_type": "execute_result"
        }
      ],
      "source": [
        "rm = basket.pop()\n",
        "rm"
      ]
    },
    {
      "cell_type": "code",
      "execution_count": null,
      "id": "43de9808",
      "metadata": {
        "id": "43de9808",
        "outputId": "60946141-8d19-47ce-e2cb-77f96895347d"
      },
      "outputs": [
        {
          "data": {
            "text/plain": [
              "'cherry'"
            ]
          },
          "execution_count": 82,
          "metadata": {},
          "output_type": "execute_result"
        }
      ],
      "source": [
        "rm = basket.pop()\n",
        "rm"
      ]
    },
    {
      "cell_type": "code",
      "execution_count": null,
      "id": "aa09cc37",
      "metadata": {
        "id": "aa09cc37",
        "outputId": "2f788c34-e9a7-494b-ba20-1d66f327a6e6"
      },
      "outputs": [
        {
          "data": {
            "text/plain": [
              "{'apple', 'avacado', 'banana', 'mango', 'melon', 'orange', 'pineapple'}"
            ]
          },
          "execution_count": 83,
          "metadata": {},
          "output_type": "execute_result"
        }
      ],
      "source": [
        "basket"
      ]
    },
    {
      "cell_type": "code",
      "execution_count": null,
      "id": "0821b90d",
      "metadata": {
        "id": "0821b90d"
      },
      "outputs": [],
      "source": [
        "basket.clear()"
      ]
    },
    {
      "cell_type": "code",
      "execution_count": null,
      "id": "34998628",
      "metadata": {
        "id": "34998628",
        "outputId": "d9439e9d-1d04-49a1-a505-e8138037b003"
      },
      "outputs": [
        {
          "data": {
            "text/plain": [
              "set()"
            ]
          },
          "execution_count": 85,
          "metadata": {},
          "output_type": "execute_result"
        }
      ],
      "source": [
        "basket"
      ]
    },
    {
      "cell_type": "code",
      "execution_count": null,
      "id": "a1614637",
      "metadata": {
        "id": "a1614637"
      },
      "outputs": [],
      "source": [
        "del basket"
      ]
    },
    {
      "cell_type": "code",
      "execution_count": null,
      "id": "3056290f",
      "metadata": {
        "id": "3056290f",
        "outputId": "1e1a42b0-a251-48db-bb07-24996be7729a"
      },
      "outputs": [
        {
          "ename": "NameError",
          "evalue": "name 'basket' is not defined",
          "output_type": "error",
          "traceback": [
            "\u001b[1;31m---------------------------------------------------------------------------\u001b[0m",
            "\u001b[1;31mNameError\u001b[0m                                 Traceback (most recent call last)",
            "Cell \u001b[1;32mIn [87], line 1\u001b[0m\n\u001b[1;32m----> 1\u001b[0m \u001b[43mbasket\u001b[49m\n",
            "\u001b[1;31mNameError\u001b[0m: name 'basket' is not defined"
          ]
        }
      ],
      "source": [
        "basket"
      ]
    },
    {
      "cell_type": "markdown",
      "id": "ac4f00aa",
      "metadata": {
        "id": "ac4f00aa"
      },
      "source": [
        "# Join Sets"
      ]
    },
    {
      "cell_type": "code",
      "execution_count": null,
      "id": "4d5899c4",
      "metadata": {
        "id": "4d5899c4",
        "outputId": "0ebe61ff-6a53-4475-f7d0-04a76f232499"
      },
      "outputs": [
        {
          "data": {
            "text/plain": [
              "{1, 2, 3, 4, 5, 6}"
            ]
          },
          "execution_count": 88,
          "metadata": {},
          "output_type": "execute_result"
        }
      ],
      "source": [
        "set1 = {1,2,3,4}\n",
        "set2 = {4,5,6}\n",
        "\n",
        "set3 = set1.union(set2)\n",
        "set3"
      ]
    },
    {
      "cell_type": "code",
      "execution_count": null,
      "id": "0fe1f869",
      "metadata": {
        "id": "0fe1f869",
        "outputId": "80170290-45d6-42a3-ec59-94fb4c447208"
      },
      "outputs": [
        {
          "data": {
            "text/plain": [
              "{1, 2, 3, 4, 5, 6}"
            ]
          },
          "execution_count": 89,
          "metadata": {},
          "output_type": "execute_result"
        }
      ],
      "source": [
        "set1 = {1,2,3,4}\n",
        "set2 = {4,5,6}\n",
        "\n",
        "set1.update(set2)\n",
        "set1"
      ]
    },
    {
      "cell_type": "code",
      "execution_count": null,
      "id": "7bf33fcb",
      "metadata": {
        "id": "7bf33fcb",
        "outputId": "7b32740e-82ec-4fb2-cfa5-49e2025ad8f8"
      },
      "outputs": [
        {
          "data": {
            "text/plain": [
              "{4}"
            ]
          },
          "execution_count": 90,
          "metadata": {},
          "output_type": "execute_result"
        }
      ],
      "source": [
        "set1 = {1,2,3,4}\n",
        "set2 = {4,5,6}\n",
        "\n",
        "set3 = set1.intersection(set2)\n",
        "set3"
      ]
    },
    {
      "cell_type": "code",
      "execution_count": null,
      "id": "abd57d19",
      "metadata": {
        "id": "abd57d19",
        "outputId": "3cfa383e-e883-4ed2-e3f5-8e89d4224932"
      },
      "outputs": [
        {
          "data": {
            "text/plain": [
              "{4}"
            ]
          },
          "execution_count": 91,
          "metadata": {},
          "output_type": "execute_result"
        }
      ],
      "source": [
        "set1 = {1,2,3,4}\n",
        "set2 = {4,5,6}\n",
        "\n",
        "set1.intersection_update(set2)\n",
        "set1"
      ]
    },
    {
      "cell_type": "code",
      "execution_count": null,
      "id": "3668d4e2",
      "metadata": {
        "id": "3668d4e2",
        "outputId": "14ca53b5-e9f8-43b5-b02a-1d60236736b0"
      },
      "outputs": [
        {
          "data": {
            "text/plain": [
              "{1, 2, 3, 5, 6}"
            ]
          },
          "execution_count": 92,
          "metadata": {},
          "output_type": "execute_result"
        }
      ],
      "source": [
        "set1 = {1,2,3,4}\n",
        "set2 = {4,5,6}\n",
        "\n",
        "set3 = set1.symmetric_difference(set2)\n",
        "set3"
      ]
    },
    {
      "cell_type": "code",
      "execution_count": null,
      "id": "54253b53",
      "metadata": {
        "id": "54253b53",
        "outputId": "d6e0974f-7240-4688-d6f0-06f1bf7909f6"
      },
      "outputs": [
        {
          "data": {
            "text/plain": [
              "{1, 2, 3, 5, 6}"
            ]
          },
          "execution_count": 93,
          "metadata": {},
          "output_type": "execute_result"
        }
      ],
      "source": [
        "set1 = {1,2,3,4}\n",
        "set2 = {4,5,6}\n",
        "\n",
        "set1.symmetric_difference_update(set2)\n",
        "set1"
      ]
    },
    {
      "cell_type": "code",
      "execution_count": null,
      "id": "bd98cceb",
      "metadata": {
        "id": "bd98cceb",
        "outputId": "318efcda-455b-4548-e6e8-111a6067abe1"
      },
      "outputs": [
        {
          "data": {
            "text/plain": [
              "{1, 2, 3}"
            ]
          },
          "execution_count": 94,
          "metadata": {},
          "output_type": "execute_result"
        }
      ],
      "source": [
        "set1 = {1,2,3,4}\n",
        "set2 = {4,5,6}\n",
        "\n",
        "set3 = set1.difference(set2)\n",
        "set3"
      ]
    },
    {
      "cell_type": "code",
      "execution_count": null,
      "id": "d7fde7bf",
      "metadata": {
        "id": "d7fde7bf",
        "outputId": "b2aae141-b1e4-46aa-8651-9c022b0b9507"
      },
      "outputs": [
        {
          "data": {
            "text/plain": [
              "{1, 2, 3}"
            ]
          },
          "execution_count": 95,
          "metadata": {},
          "output_type": "execute_result"
        }
      ],
      "source": [
        "set1 = {1,2,3,4}\n",
        "set2 = {4,5,6}\n",
        "\n",
        "set1.difference_update(set2)\n",
        "set1"
      ]
    },
    {
      "cell_type": "code",
      "execution_count": null,
      "id": "dc305172",
      "metadata": {
        "id": "dc305172",
        "outputId": "8c7fea2b-43eb-4ae6-e3f6-a9998fb3200f"
      },
      "outputs": [
        {
          "data": {
            "text/plain": [
              "{1, 2, 3}"
            ]
          },
          "execution_count": 96,
          "metadata": {},
          "output_type": "execute_result"
        }
      ],
      "source": [
        "set1 = {1,2,3,4}\n",
        "set2 = {4,5,6}\n",
        "\n",
        "set3 = set1-set2\n",
        "set3"
      ]
    },
    {
      "cell_type": "code",
      "execution_count": null,
      "id": "740434ba",
      "metadata": {
        "id": "740434ba",
        "outputId": "8817a736-bdd6-4ace-c6c7-fe841bd1dd21"
      },
      "outputs": [
        {
          "data": {
            "text/plain": [
              "{5, 6}"
            ]
          },
          "execution_count": 97,
          "metadata": {},
          "output_type": "execute_result"
        }
      ],
      "source": [
        "set1 = {1,2,3,4}\n",
        "set2 = {4,5,6}\n",
        "\n",
        "set3 = set2-set1\n",
        "set3"
      ]
    },
    {
      "cell_type": "code",
      "execution_count": null,
      "id": "a0d5a34b",
      "metadata": {
        "scrolled": true,
        "id": "a0d5a34b",
        "outputId": "2e4338c0-acfa-45f6-e15a-98e7b19d1f2f"
      },
      "outputs": [
        {
          "data": {
            "text/plain": [
              "True"
            ]
          },
          "execution_count": 98,
          "metadata": {},
          "output_type": "execute_result"
        }
      ],
      "source": [
        "set1 = {1,2,3}\n",
        "set2 = {5,6}\n",
        "\n",
        "set3 = set1.isdisjoint(set2)\n",
        "set3"
      ]
    },
    {
      "cell_type": "code",
      "execution_count": null,
      "id": "b68ddc5f",
      "metadata": {
        "id": "b68ddc5f",
        "outputId": "e6d0418d-0891-42f4-953e-fe56a4473b22"
      },
      "outputs": [
        {
          "data": {
            "text/plain": [
              "False"
            ]
          },
          "execution_count": 99,
          "metadata": {},
          "output_type": "execute_result"
        }
      ],
      "source": [
        "set1 = {1,2,3,4}\n",
        "set2 = {5,6,7,3}\n",
        "\n",
        "set3 = set2.isdisjoint(set1)\n",
        "set3"
      ]
    },
    {
      "cell_type": "code",
      "execution_count": null,
      "id": "a16b5825",
      "metadata": {
        "id": "a16b5825",
        "outputId": "663ab542-402a-4621-9a0d-bb21338a06cd"
      },
      "outputs": [
        {
          "data": {
            "text/plain": [
              "True"
            ]
          },
          "execution_count": 100,
          "metadata": {},
          "output_type": "execute_result"
        }
      ],
      "source": [
        "set1 = {1,2,3,4,5,6,7,8,9}\n",
        "set2 = {4,5,6}\n",
        "\n",
        "set3 = set2.issubset(set1)\n",
        "set3"
      ]
    },
    {
      "cell_type": "code",
      "execution_count": null,
      "id": "e5792a7e",
      "metadata": {
        "id": "e5792a7e",
        "outputId": "946b0097-6fb6-440b-c24a-2ff4fdc3e88c"
      },
      "outputs": [
        {
          "data": {
            "text/plain": [
              "True"
            ]
          },
          "execution_count": 101,
          "metadata": {},
          "output_type": "execute_result"
        }
      ],
      "source": [
        "set1 = {1,2,3,4,5,6,7,8,9}\n",
        "set2 = {4,5,6}\n",
        "\n",
        "set3 = set1.issuperset(set2)\n",
        "set3"
      ]
    },
    {
      "cell_type": "markdown",
      "id": "b6d5bfc7",
      "metadata": {
        "id": "b6d5bfc7"
      },
      "source": [
        "# Tasks"
      ]
    },
    {
      "cell_type": "code",
      "execution_count": null,
      "id": "7952ff52",
      "metadata": {
        "id": "7952ff52"
      },
      "outputs": [],
      "source": [
        "student = ['vishnu','merrin','rakesh','suresh','merrin','vishnu']"
      ]
    },
    {
      "cell_type": "code",
      "execution_count": null,
      "id": "1f1c9c7a",
      "metadata": {
        "id": "1f1c9c7a",
        "outputId": "8221852a-97c9-42ff-d067-d85a2ed2394b"
      },
      "outputs": [
        {
          "name": "stdout",
          "output_type": "stream",
          "text": [
            "Duplicates Exist\n"
          ]
        }
      ],
      "source": [
        "if len(student) == len(set(student)):\n",
        "    print (\"No Duplicates\")\n",
        "else:\n",
        "    print(\"Duplicates Exist\")"
      ]
    },
    {
      "cell_type": "code",
      "execution_count": null,
      "id": "1048bb7e",
      "metadata": {
        "id": "1048bb7e"
      },
      "outputs": [],
      "source": [
        "set1 = { 10,29,30,40,50}\n",
        "set2 = {30,40,50,60,70 }\n",
        "\n",
        "# Return a new set of identical items from 2 sets"
      ]
    },
    {
      "cell_type": "code",
      "execution_count": null,
      "id": "2fa422bc",
      "metadata": {
        "id": "2fa422bc"
      },
      "outputs": [],
      "source": [
        "set1 = { 10,29,30,40,50}\n",
        "set2 = {30,40,50,60,70 }\n",
        "\n",
        "# get only unique items from 2 sets"
      ]
    },
    {
      "cell_type": "code",
      "execution_count": null,
      "id": "016d8736",
      "metadata": {
        "id": "016d8736"
      },
      "outputs": [],
      "source": [
        "set1 = {10,20,30}\n",
        "set2 = {20,40,50}\n",
        "\n",
        "# set1 = { 10,30 }"
      ]
    },
    {
      "cell_type": "code",
      "execution_count": null,
      "id": "5f7ef3bf",
      "metadata": {
        "id": "5f7ef3bf"
      },
      "outputs": [],
      "source": [
        "set1 = {10,20,30,40,50}\n",
        "\n",
        "# set1 = {40,50}"
      ]
    },
    {
      "cell_type": "code",
      "execution_count": null,
      "id": "8e95ece5",
      "metadata": {
        "id": "8e95ece5"
      },
      "outputs": [],
      "source": [
        "set1 = {10,20,30,40,50}\n",
        "set2 = {30,40,50,60,70}\n",
        "\n",
        "# {20,70,20,60}"
      ]
    },
    {
      "cell_type": "markdown",
      "source": [
        "**Strings**"
      ],
      "metadata": {
        "id": "ttP63MiIAubC"
      },
      "id": "ttP63MiIAubC"
    },
    {
      "cell_type": "code",
      "execution_count": null,
      "metadata": {
        "id": "3686cb70",
        "outputId": "bbcf0073-8357-404b-dfd0-134922785981",
        "colab": {
          "base_uri": "https://localhost:8080/"
        }
      },
      "outputs": [
        {
          "output_type": "stream",
          "name": "stdout",
          "text": [
            "Awesome\n"
          ]
        }
      ],
      "source": [
        "word = 'Awesome'\n",
        "print(word)"
      ],
      "id": "3686cb70"
    },
    {
      "cell_type": "code",
      "execution_count": null,
      "metadata": {
        "id": "a5863d75",
        "outputId": "3f93ff24-fc97-424a-8fb5-67099f6ac5b0",
        "colab": {
          "base_uri": "https://localhost:8080/"
        }
      },
      "outputs": [
        {
          "output_type": "stream",
          "name": "stdout",
          "text": [
            "A string is a sequence of characters within quotations\n"
          ]
        }
      ],
      "source": [
        "sentence = \"A string is a sequence of characters within quotations\"\n",
        "print(sentence)"
      ],
      "id": "a5863d75"
    },
    {
      "cell_type": "code",
      "execution_count": null,
      "metadata": {
        "id": "57e0a4c6",
        "outputId": "2a6cba3a-2149-4697-b564-40d1fa8258f1",
        "colab": {
          "base_uri": "https://localhost:8080/"
        }
      },
      "outputs": [
        {
          "output_type": "stream",
          "name": "stdout",
          "text": [
            "\n",
            "            Strings can be created by enclosing characters\n",
            "            inside a single quote or double quote, Even triple\n",
            "            quote(single,double) used to represent multilinr strings\n",
            "            and docstring\n",
            "    \n"
          ]
        }
      ],
      "source": [
        "paragraph = \"\"\"\n",
        "            Strings can be created by enclosing characters\n",
        "            inside a single quote or double quote, Even triple\n",
        "            quote(single,double) used to represent multilinr strings\n",
        "            and docstring\n",
        "    \"\"\"\n",
        "print(paragraph)"
      ],
      "id": "57e0a4c6"
    },
    {
      "cell_type": "code",
      "execution_count": null,
      "metadata": {
        "id": "1b8310de",
        "outputId": "57330185-1ad5-4d26-ba9a-af8c62146bb3",
        "colab": {
          "base_uri": "https://localhost:8080/",
          "height": 36
        }
      },
      "outputs": [
        {
          "output_type": "execute_result",
          "data": {
            "text/plain": [
              "'Besant'"
            ],
            "application/vnd.google.colaboratory.intrinsic+json": {
              "type": "string"
            }
          },
          "metadata": {},
          "execution_count": 4
        }
      ],
      "source": [
        "str1 = 'Besant'\n",
        "str1"
      ],
      "id": "1b8310de"
    },
    {
      "cell_type": "code",
      "execution_count": null,
      "metadata": {
        "id": "93ba06a0",
        "outputId": "a7df74fe-4fb5-4970-cdaf-267990ded952",
        "colab": {
          "base_uri": "https://localhost:8080/",
          "height": 36
        }
      },
      "outputs": [
        {
          "output_type": "execute_result",
          "data": {
            "text/plain": [
              "'B'"
            ],
            "application/vnd.google.colaboratory.intrinsic+json": {
              "type": "string"
            }
          },
          "metadata": {},
          "execution_count": 5
        }
      ],
      "source": [
        "str1[0]"
      ],
      "id": "93ba06a0"
    },
    {
      "cell_type": "code",
      "execution_count": null,
      "metadata": {
        "id": "661e9c20",
        "outputId": "86484c8b-b67b-417d-fb91-69916017683b",
        "colab": {
          "base_uri": "https://localhost:8080/",
          "height": 36
        }
      },
      "outputs": [
        {
          "output_type": "execute_result",
          "data": {
            "text/plain": [
              "'t'"
            ],
            "application/vnd.google.colaboratory.intrinsic+json": {
              "type": "string"
            }
          },
          "metadata": {},
          "execution_count": 6
        }
      ],
      "source": [
        "str1[-1]"
      ],
      "id": "661e9c20"
    },
    {
      "cell_type": "code",
      "execution_count": null,
      "metadata": {
        "id": "c720a544",
        "outputId": "d06c90de-ec3d-4955-8d28-a698a5d7e22e",
        "colab": {
          "base_uri": "https://localhost:8080/",
          "height": 36
        }
      },
      "outputs": [
        {
          "output_type": "execute_result",
          "data": {
            "text/plain": [
              "'Bes'"
            ],
            "application/vnd.google.colaboratory.intrinsic+json": {
              "type": "string"
            }
          },
          "metadata": {},
          "execution_count": 7
        }
      ],
      "source": [
        "str1[0:3]"
      ],
      "id": "c720a544"
    },
    {
      "cell_type": "code",
      "execution_count": null,
      "metadata": {
        "id": "88fc43d6",
        "outputId": "033bc6d7-3075-4195-fbb3-5837df872b33",
        "colab": {
          "base_uri": "https://localhost:8080/",
          "height": 36
        }
      },
      "outputs": [
        {
          "output_type": "execute_result",
          "data": {
            "text/plain": [
              "'tnaseB'"
            ],
            "application/vnd.google.colaboratory.intrinsic+json": {
              "type": "string"
            }
          },
          "metadata": {},
          "execution_count": 8
        }
      ],
      "source": [
        "str1[::-1] # Besant"
      ],
      "id": "88fc43d6"
    },
    {
      "cell_type": "code",
      "execution_count": null,
      "metadata": {
        "id": "98463bda",
        "outputId": "7ab0ea1b-2a3c-4b98-f6c0-5826ffbc4992",
        "colab": {
          "base_uri": "https://localhost:8080/",
          "height": 36
        }
      },
      "outputs": [
        {
          "output_type": "execute_result",
          "data": {
            "text/plain": [
              "'esan'"
            ],
            "application/vnd.google.colaboratory.intrinsic+json": {
              "type": "string"
            }
          },
          "metadata": {},
          "execution_count": 9
        }
      ],
      "source": [
        "str1[-5:-1] # Besant  ==> "
      ],
      "id": "98463bda"
    },
    {
      "cell_type": "code",
      "execution_count": null,
      "metadata": {
        "id": "bd3abe6e",
        "outputId": "d4313e30-3cb2-4ac4-c825-9da279cdf476",
        "colab": {
          "base_uri": "https://localhost:8080/",
          "height": 171
        }
      },
      "outputs": [
        {
          "output_type": "error",
          "ename": "IndexError",
          "evalue": "ignored",
          "traceback": [
            "\u001b[0;31m---------------------------------------------------------------------------\u001b[0m",
            "\u001b[0;31mIndexError\u001b[0m                                Traceback (most recent call last)",
            "\u001b[0;32m<ipython-input-10-66554262c03d>\u001b[0m in \u001b[0;36m<cell line: 1>\u001b[0;34m()\u001b[0m\n\u001b[0;32m----> 1\u001b[0;31m \u001b[0mstr1\u001b[0m\u001b[0;34m[\u001b[0m\u001b[0;36m9\u001b[0m\u001b[0;34m]\u001b[0m\u001b[0;34m\u001b[0m\u001b[0;34m\u001b[0m\u001b[0m\n\u001b[0m",
            "\u001b[0;31mIndexError\u001b[0m: string index out of range"
          ]
        }
      ],
      "source": [
        "str1[9]"
      ],
      "id": "bd3abe6e"
    },
    {
      "cell_type": "code",
      "execution_count": null,
      "metadata": {
        "id": "afde4651",
        "outputId": "5a8ea369-da6b-4254-8773-6f3fe78971cd",
        "colab": {
          "base_uri": "https://localhost:8080/",
          "height": 171
        }
      },
      "outputs": [
        {
          "output_type": "error",
          "ename": "TypeError",
          "evalue": "ignored",
          "traceback": [
            "\u001b[0;31m---------------------------------------------------------------------------\u001b[0m",
            "\u001b[0;31mTypeError\u001b[0m                                 Traceback (most recent call last)",
            "\u001b[0;32m<ipython-input-11-27974f1096f9>\u001b[0m in \u001b[0;36m<cell line: 1>\u001b[0;34m()\u001b[0m\n\u001b[0;32m----> 1\u001b[0;31m \u001b[0mstr1\u001b[0m\u001b[0;34m[\u001b[0m\u001b[0;36m1.5\u001b[0m\u001b[0;34m]\u001b[0m\u001b[0;34m\u001b[0m\u001b[0;34m\u001b[0m\u001b[0m\n\u001b[0m",
            "\u001b[0;31mTypeError\u001b[0m: string indices must be integers"
          ]
        }
      ],
      "source": [
        "str1[1.5]"
      ],
      "id": "afde4651"
    },
    {
      "cell_type": "code",
      "execution_count": null,
      "metadata": {
        "id": "8d14a023",
        "outputId": "e0f66c01-dc55-4272-f88f-ef89e7e0ec89",
        "colab": {
          "base_uri": "https://localhost:8080/",
          "height": 36
        }
      },
      "outputs": [
        {
          "output_type": "execute_result",
          "data": {
            "text/plain": [
              "'Besant'"
            ],
            "application/vnd.google.colaboratory.intrinsic+json": {
              "type": "string"
            }
          },
          "metadata": {},
          "execution_count": 12
        }
      ],
      "source": [
        "str1"
      ],
      "id": "8d14a023"
    },
    {
      "cell_type": "code",
      "execution_count": null,
      "metadata": {
        "id": "95ccd4e7",
        "outputId": "f2b1ce59-34b8-456f-f97f-e5749fff0c1f",
        "colab": {
          "base_uri": "https://localhost:8080/",
          "height": 171
        }
      },
      "outputs": [
        {
          "output_type": "error",
          "ename": "TypeError",
          "evalue": "ignored",
          "traceback": [
            "\u001b[0;31m---------------------------------------------------------------------------\u001b[0m",
            "\u001b[0;31mTypeError\u001b[0m                                 Traceback (most recent call last)",
            "\u001b[0;32m<ipython-input-13-f631729cac25>\u001b[0m in \u001b[0;36m<cell line: 1>\u001b[0;34m()\u001b[0m\n\u001b[0;32m----> 1\u001b[0;31m \u001b[0mstr1\u001b[0m\u001b[0;34m[\u001b[0m\u001b[0;36m0\u001b[0m\u001b[0;34m]\u001b[0m \u001b[0;34m=\u001b[0m \u001b[0;34m'b'\u001b[0m\u001b[0;34m\u001b[0m\u001b[0;34m\u001b[0m\u001b[0m\n\u001b[0m",
            "\u001b[0;31mTypeError\u001b[0m: 'str' object does not support item assignment"
          ]
        }
      ],
      "source": [
        "str1[0] = 'b'"
      ],
      "id": "95ccd4e7"
    },
    {
      "cell_type": "code",
      "execution_count": null,
      "metadata": {
        "id": "777d678d",
        "outputId": "77da134f-e20e-452d-dd46-4f8d8870170e",
        "colab": {
          "base_uri": "https://localhost:8080/",
          "height": 171
        }
      },
      "outputs": [
        {
          "output_type": "error",
          "ename": "TypeError",
          "evalue": "ignored",
          "traceback": [
            "\u001b[0;31m---------------------------------------------------------------------------\u001b[0m",
            "\u001b[0;31mTypeError\u001b[0m                                 Traceback (most recent call last)",
            "\u001b[0;32m<ipython-input-14-ab47103d6d3b>\u001b[0m in \u001b[0;36m<cell line: 1>\u001b[0;34m()\u001b[0m\n\u001b[0;32m----> 1\u001b[0;31m \u001b[0;32mdel\u001b[0m \u001b[0mstr1\u001b[0m\u001b[0;34m[\u001b[0m\u001b[0;36m0\u001b[0m\u001b[0;34m]\u001b[0m\u001b[0;34m\u001b[0m\u001b[0;34m\u001b[0m\u001b[0m\n\u001b[0m",
            "\u001b[0;31mTypeError\u001b[0m: 'str' object doesn't support item deletion"
          ]
        }
      ],
      "source": [
        "del str1[0]"
      ],
      "id": "777d678d"
    },
    {
      "cell_type": "code",
      "execution_count": null,
      "metadata": {
        "id": "8166c712"
      },
      "outputs": [],
      "source": [
        "del str1"
      ],
      "id": "8166c712"
    },
    {
      "cell_type": "code",
      "execution_count": null,
      "metadata": {
        "id": "71835ae2",
        "outputId": "2f914987-a3f9-4483-a10d-59901f57203c",
        "colab": {
          "base_uri": "https://localhost:8080/",
          "height": 171
        }
      },
      "outputs": [
        {
          "output_type": "error",
          "ename": "NameError",
          "evalue": "ignored",
          "traceback": [
            "\u001b[0;31m---------------------------------------------------------------------------\u001b[0m",
            "\u001b[0;31mNameError\u001b[0m                                 Traceback (most recent call last)",
            "\u001b[0;32m<ipython-input-16-3a5be569e6ba>\u001b[0m in \u001b[0;36m<cell line: 1>\u001b[0;34m()\u001b[0m\n\u001b[0;32m----> 1\u001b[0;31m \u001b[0mstr1\u001b[0m\u001b[0;34m\u001b[0m\u001b[0;34m\u001b[0m\u001b[0m\n\u001b[0m",
            "\u001b[0;31mNameError\u001b[0m: name 'str1' is not defined"
          ]
        }
      ],
      "source": [
        "str1"
      ],
      "id": "71835ae2"
    },
    {
      "cell_type": "code",
      "execution_count": null,
      "metadata": {
        "id": "ce9825b1",
        "outputId": "3e8d0cdd-dcee-4c8f-8d00-434cd9165f7f",
        "colab": {
          "base_uri": "https://localhost:8080/",
          "height": 36
        }
      },
      "outputs": [
        {
          "output_type": "execute_result",
          "data": {
            "text/plain": [
              "'Besant Technologies'"
            ],
            "application/vnd.google.colaboratory.intrinsic+json": {
              "type": "string"
            }
          },
          "metadata": {},
          "execution_count": 17
        }
      ],
      "source": [
        "s1 = \"Besant\"\n",
        "s2 = \" Technologies\"\n",
        "s1+s2"
      ],
      "id": "ce9825b1"
    },
    {
      "cell_type": "code",
      "execution_count": null,
      "metadata": {
        "id": "6dc99de5",
        "outputId": "2550eee6-892e-40cf-c263-41f28e790e4f",
        "colab": {
          "base_uri": "https://localhost:8080/",
          "height": 36
        }
      },
      "outputs": [
        {
          "output_type": "execute_result",
          "data": {
            "text/plain": [
              "'$ $ $ $ $ $ $ $ $ $ '"
            ],
            "application/vnd.google.colaboratory.intrinsic+json": {
              "type": "string"
            }
          },
          "metadata": {},
          "execution_count": 18
        }
      ],
      "source": [
        "dollar = \"$ \"\n",
        "10*dollar"
      ],
      "id": "6dc99de5"
    },
    {
      "cell_type": "code",
      "execution_count": null,
      "metadata": {
        "id": "b25702c8",
        "outputId": "d1a86e52-bedd-475a-d896-41ff7456f62d",
        "colab": {
          "base_uri": "https://localhost:8080/",
          "height": 36
        }
      },
      "outputs": [
        {
          "output_type": "execute_result",
          "data": {
            "text/plain": [
              "'Hello World'"
            ],
            "application/vnd.google.colaboratory.intrinsic+json": {
              "type": "string"
            }
          },
          "metadata": {},
          "execution_count": 19
        }
      ],
      "source": [
        "'Hello ''World'"
      ],
      "id": "b25702c8"
    },
    {
      "cell_type": "code",
      "execution_count": null,
      "metadata": {
        "id": "36145093",
        "outputId": "3705fe74-22cb-4cea-fd65-f230b51e664d",
        "colab": {
          "base_uri": "https://localhost:8080/",
          "height": 36
        }
      },
      "outputs": [
        {
          "output_type": "execute_result",
          "data": {
            "text/plain": [
              "'hello world'"
            ],
            "application/vnd.google.colaboratory.intrinsic+json": {
              "type": "string"
            }
          },
          "metadata": {},
          "execution_count": 20
        }
      ],
      "source": [
        "s = ( 'hello' ' world')\n",
        "s"
      ],
      "id": "36145093"
    },
    {
      "cell_type": "code",
      "execution_count": null,
      "metadata": {
        "id": "7198489c",
        "outputId": "a2ccba56-f99a-425a-cdf0-03393ae1ef5d",
        "colab": {
          "base_uri": "https://localhost:8080/",
          "height": 36
        }
      },
      "outputs": [
        {
          "output_type": "execute_result",
          "data": {
            "text/plain": [
              "'Demo strings'"
            ],
            "application/vnd.google.colaboratory.intrinsic+json": {
              "type": "string"
            }
          },
          "metadata": {},
          "execution_count": 21
        }
      ],
      "source": [
        "\"Demo \" \"strings\""
      ],
      "id": "7198489c"
    },
    {
      "cell_type": "code",
      "execution_count": null,
      "metadata": {
        "id": "20ab36f7",
        "outputId": "864704f9-63be-474a-c404-99f09ac6b5ce",
        "colab": {
          "base_uri": "https://localhost:8080/"
        }
      },
      "outputs": [
        {
          "output_type": "stream",
          "name": "stdout",
          "text": [
            "HELLO , WORLD !!!\n"
          ]
        }
      ],
      "source": [
        "x = \"Hello , World !!!\"\n",
        "print(x.upper())"
      ],
      "id": "20ab36f7"
    },
    {
      "cell_type": "code",
      "execution_count": null,
      "metadata": {
        "id": "85f77036",
        "outputId": "d6e5efba-dd57-4e93-a7a3-c9ee94a215f8",
        "colab": {
          "base_uri": "https://localhost:8080/"
        }
      },
      "outputs": [
        {
          "output_type": "stream",
          "name": "stdout",
          "text": [
            "hello , world !!!\n"
          ]
        }
      ],
      "source": [
        "x = \"Hello , World !!!\"\n",
        "print(x.lower())"
      ],
      "id": "85f77036"
    },
    {
      "cell_type": "code",
      "execution_count": null,
      "metadata": {
        "id": "31fba093",
        "outputId": "3ae91b2a-f47b-4404-f7c9-d0ca51996bd9",
        "colab": {
          "base_uri": "https://localhost:8080/"
        }
      },
      "outputs": [
        {
          "output_type": "stream",
          "name": "stdout",
          "text": [
            "Hello , World !!!\n"
          ]
        }
      ],
      "source": [
        "x = \"   Hello , World !!!   \"\n",
        "print(x.strip())"
      ],
      "id": "31fba093"
    },
    {
      "cell_type": "code",
      "execution_count": null,
      "metadata": {
        "id": "315e2883",
        "outputId": "554cddb0-c398-4d63-8b22-4dde862f815b",
        "colab": {
          "base_uri": "https://localhost:8080/"
        }
      },
      "outputs": [
        {
          "output_type": "stream",
          "name": "stdout",
          "text": [
            "Fello , World !!!\n"
          ]
        }
      ],
      "source": [
        "x = \"Hello , World !!!\"\n",
        "print(x.replace('H','F'))"
      ],
      "id": "315e2883"
    },
    {
      "cell_type": "code",
      "execution_count": null,
      "metadata": {
        "id": "e832bdc2",
        "outputId": "8ff05178-71fc-4fe9-fd05-ea3fa15c6417",
        "colab": {
          "base_uri": "https://localhost:8080/",
          "height": 36
        }
      },
      "outputs": [
        {
          "output_type": "execute_result",
          "data": {
            "text/plain": [
              "'Hello , World !!!'"
            ],
            "application/vnd.google.colaboratory.intrinsic+json": {
              "type": "string"
            }
          },
          "metadata": {},
          "execution_count": 26
        }
      ],
      "source": [
        "x"
      ],
      "id": "e832bdc2"
    },
    {
      "cell_type": "code",
      "execution_count": null,
      "metadata": {
        "id": "f039e1aa",
        "outputId": "b9f67c0a-4beb-4844-f155-b82663093e63",
        "colab": {
          "base_uri": "https://localhost:8080/"
        }
      },
      "outputs": [
        {
          "output_type": "stream",
          "name": "stdout",
          "text": [
            "['', 'Hello', 'World ! !!']\n"
          ]
        }
      ],
      "source": [
        "a = \" Hello World ! !!\"\n",
        "print(a.split(' ',2))"
      ],
      "id": "f039e1aa"
    },
    {
      "cell_type": "code",
      "execution_count": null,
      "metadata": {
        "id": "c7968450",
        "outputId": "adfc2818-f9c1-489f-e7d6-2e6f1077c053",
        "colab": {
          "base_uri": "https://localhost:8080/",
          "height": 36
        }
      },
      "outputs": [
        {
          "output_type": "execute_result",
          "data": {
            "text/plain": [
              "'BesantTechnologies'"
            ],
            "application/vnd.google.colaboratory.intrinsic+json": {
              "type": "string"
            }
          },
          "metadata": {},
          "execution_count": 32
        }
      ],
      "source": [
        "a = \"Besant\"\n",
        "b = \"Technologies\"\n",
        "a+b"
      ],
      "id": "c7968450"
    },
    {
      "cell_type": "code",
      "execution_count": null,
      "metadata": {
        "id": "e951e429",
        "outputId": "3dceffe3-85c3-485a-b821-7ab13ec33069",
        "colab": {
          "base_uri": "https://localhost:8080/",
          "height": 36
        }
      },
      "outputs": [
        {
          "output_type": "execute_result",
          "data": {
            "text/plain": [
              "'Besant Technologies'"
            ],
            "application/vnd.google.colaboratory.intrinsic+json": {
              "type": "string"
            }
          },
          "metadata": {},
          "execution_count": 33
        }
      ],
      "source": [
        "a = \"Besant\"\n",
        "b = \" Technologies\"\n",
        "a+b"
      ],
      "id": "e951e429"
    },
    {
      "cell_type": "code",
      "execution_count": null,
      "metadata": {
        "id": "23a89fa0",
        "outputId": "7e6d5865-e64d-4899-f55f-bfba5851323c",
        "colab": {
          "base_uri": "https://localhost:8080/",
          "height": 36
        }
      },
      "outputs": [
        {
          "output_type": "execute_result",
          "data": {
            "text/plain": [
              "'Besant Technologies'"
            ],
            "application/vnd.google.colaboratory.intrinsic+json": {
              "type": "string"
            }
          },
          "metadata": {},
          "execution_count": 34
        }
      ],
      "source": [
        "a = \"Besant\"\n",
        "b = \"Technologies\"\n",
        "a+\" \" +b"
      ],
      "id": "23a89fa0"
    },
    {
      "cell_type": "markdown",
      "metadata": {
        "id": "a2f5aca3"
      },
      "source": [
        "# string Format"
      ],
      "id": "a2f5aca3"
    },
    {
      "cell_type": "code",
      "execution_count": null,
      "metadata": {
        "id": "5770a02a",
        "outputId": "d82f101c-e3b7-44db-f7a3-4f6eef49cea8",
        "colab": {
          "base_uri": "https://localhost:8080/",
          "height": 208
        }
      },
      "outputs": [
        {
          "output_type": "error",
          "ename": "TypeError",
          "evalue": "ignored",
          "traceback": [
            "\u001b[0;31m---------------------------------------------------------------------------\u001b[0m",
            "\u001b[0;31mTypeError\u001b[0m                                 Traceback (most recent call last)",
            "\u001b[0;32m<ipython-input-35-430b4cf0e801>\u001b[0m in \u001b[0;36m<cell line: 3>\u001b[0;34m()\u001b[0m\n\u001b[1;32m      1\u001b[0m \u001b[0mage\u001b[0m \u001b[0;34m=\u001b[0m \u001b[0;36m12\u001b[0m\u001b[0;34m\u001b[0m\u001b[0;34m\u001b[0m\u001b[0m\n\u001b[1;32m      2\u001b[0m \u001b[0mname\u001b[0m \u001b[0;34m=\u001b[0m \u001b[0;34m\" Zara\"\u001b[0m\u001b[0;34m\u001b[0m\u001b[0;34m\u001b[0m\u001b[0m\n\u001b[0;32m----> 3\u001b[0;31m \u001b[0mtxt\u001b[0m \u001b[0;34m=\u001b[0m \u001b[0;34m\"My name is \"\u001b[0m \u001b[0;34m+\u001b[0m \u001b[0mname\u001b[0m \u001b[0;34m+\u001b[0m \u001b[0;34m\", I am \"\u001b[0m \u001b[0;34m+\u001b[0m \u001b[0mage\u001b[0m\u001b[0;34m\u001b[0m\u001b[0;34m\u001b[0m\u001b[0m\n\u001b[0m",
            "\u001b[0;31mTypeError\u001b[0m: can only concatenate str (not \"int\") to str"
          ]
        }
      ],
      "source": [
        "age = 12\n",
        "name = \" Zara\"\n",
        "txt = \"My name is \" + name + \", I am \" + age"
      ],
      "id": "5770a02a"
    },
    {
      "cell_type": "code",
      "execution_count": null,
      "metadata": {
        "id": "89235033",
        "outputId": "67cb40b8-b50e-4dd9-c920-a4fb2ef5ac9e",
        "colab": {
          "base_uri": "https://localhost:8080/"
        }
      },
      "outputs": [
        {
          "output_type": "stream",
          "name": "stdout",
          "text": [
            "('My name is  Zara, I am ', 12)\n"
          ]
        }
      ],
      "source": [
        "age = 12\n",
        "name = \" Zara\"\n",
        "txt = \"My name is \" + name + \", I am \" , age\n",
        "print(txt)"
      ],
      "id": "89235033"
    },
    {
      "cell_type": "code",
      "execution_count": null,
      "metadata": {
        "colab": {
          "base_uri": "https://localhost:8080/"
        },
        "id": "6bd353f0",
        "outputId": "1275aada-2c2e-40b5-b2f0-e440e94c5969"
      },
      "outputs": [
        {
          "output_type": "stream",
          "name": "stdout",
          "text": [
            "My name is  Zara, I am 12\n"
          ]
        }
      ],
      "source": [
        "age = 12\n",
        "name = \" Zara\"\n",
        "txt = \"My name is \" + name + \", I am \" + str(age)\n",
        "print(txt)"
      ],
      "id": "6bd353f0"
    },
    {
      "cell_type": "code",
      "execution_count": null,
      "metadata": {
        "colab": {
          "base_uri": "https://localhost:8080/"
        },
        "id": "7fd930f4",
        "outputId": "8401c01b-8589-4afa-ead3-9f9485dc1c55"
      },
      "outputs": [
        {
          "output_type": "stream",
          "name": "stdout",
          "text": [
            "My name is  Zara I am 12  year old\n"
          ]
        }
      ],
      "source": [
        "age = 12\n",
        "name = \" Zara\"\n",
        "txt = \"My name is {} I am {}  year old\"\n",
        "print(txt.format(name,age))"
      ],
      "id": "7fd930f4"
    },
    {
      "cell_type": "code",
      "execution_count": null,
      "metadata": {
        "colab": {
          "base_uri": "https://localhost:8080/"
        },
        "id": "a66c77cb",
        "outputId": "fa405f7c-2148-4f5a-c205-7dd4f7349f11"
      },
      "outputs": [
        {
          "output_type": "stream",
          "name": "stdout",
          "text": [
            " I want 3 pieces of item 567 for 49.95 dollars .\n"
          ]
        }
      ],
      "source": [
        "quantity = 3\n",
        "itemno = 567\n",
        "price = 49.95\n",
        "myorder = \" I want {} pieces of item {} for {} dollars .\"\n",
        "print(myorder.format(quantity,itemno,price))"
      ],
      "id": "a66c77cb"
    },
    {
      "cell_type": "code",
      "execution_count": null,
      "metadata": {
        "colab": {
          "base_uri": "https://localhost:8080/"
        },
        "id": "471f637c",
        "outputId": "b49cf27d-5de0-4a4a-bbd8-36ca4983172f"
      },
      "outputs": [
        {
          "output_type": "stream",
          "name": "stdout",
          "text": [
            " I want 3 pieces of item 567 for 49.95 dollars .\n"
          ]
        }
      ],
      "source": [
        "quantity = 3\n",
        "itemno = 567\n",
        "price = 49.95\n",
        "myorder = \" I want {0} pieces of item {2} for {1} dollars .\"\n",
        "print(myorder.format(quantity,price,itemno))"
      ],
      "id": "471f637c"
    },
    {
      "cell_type": "code",
      "execution_count": null,
      "metadata": {
        "colab": {
          "base_uri": "https://localhost:8080/"
        },
        "id": "aef791b8",
        "outputId": "9c2d7d86-12df-44da-f164-969b0aad0c3d"
      },
      "outputs": [
        {
          "output_type": "stream",
          "name": "stdout",
          "text": [
            " I want 3 pieces of item 567 for 49.95 dollars .\n"
          ]
        }
      ],
      "source": [
        "quantity = 3\n",
        "itemno = 567\n",
        "price = 49.95\n",
        "myorder = \" I want {q} pieces of item {i} for {p} dollars .\"\n",
        "print(myorder.format(q = quantity,p=price,i = itemno))"
      ],
      "id": "aef791b8"
    },
    {
      "cell_type": "code",
      "execution_count": null,
      "metadata": {
        "colab": {
          "base_uri": "https://localhost:8080/"
        },
        "id": "1c812b54",
        "outputId": "1ab8a52e-0741-4783-f919-f41dbddad36f"
      },
      "outputs": [
        {
          "output_type": "stream",
          "name": "stdout",
          "text": [
            "\n",
            "\n",
            "\t\t********\n",
            "\n",
            "\n"
          ]
        }
      ],
      "source": [
        "sym = \"\\n\\n\\t\\t********\\n\\n\"\n",
        "print(sym)"
      ],
      "id": "1c812b54"
    },
    {
      "cell_type": "code",
      "execution_count": null,
      "metadata": {
        "colab": {
          "base_uri": "https://localhost:8080/",
          "height": 135
        },
        "id": "595708b5",
        "outputId": "5ce5d277-9c7d-4ef6-f4c8-928b65095b85"
      },
      "outputs": [
        {
          "output_type": "error",
          "ename": "SyntaxError",
          "evalue": "ignored",
          "traceback": [
            "\u001b[0;36m  File \u001b[0;32m\"<ipython-input-43-2ddd4fda88e0>\"\u001b[0;36m, line \u001b[0;32m1\u001b[0m\n\u001b[0;31m    txt = \"We are the so-called \"vikings\" from the north\"\u001b[0m\n\u001b[0m                                 ^\u001b[0m\n\u001b[0;31mSyntaxError\u001b[0m\u001b[0;31m:\u001b[0m invalid syntax\n"
          ]
        }
      ],
      "source": [
        "txt = \"We are the so-called \"vikings\" from the north\"\n",
        "txt"
      ],
      "id": "595708b5"
    },
    {
      "cell_type": "code",
      "execution_count": null,
      "metadata": {
        "colab": {
          "base_uri": "https://localhost:8080/",
          "height": 135
        },
        "id": "15e5a3f5",
        "outputId": "9f6a0282-5f0b-44dd-f378-813bc97f8793"
      },
      "outputs": [
        {
          "output_type": "error",
          "ename": "SyntaxError",
          "evalue": "ignored",
          "traceback": [
            "\u001b[0;36m  File \u001b[0;32m\"<ipython-input-44-eaac87876c3b>\"\u001b[0;36m, line \u001b[0;32m1\u001b[0m\n\u001b[0;31m    print('\\')\u001b[0m\n\u001b[0m              ^\u001b[0m\n\u001b[0;31mSyntaxError\u001b[0m\u001b[0;31m:\u001b[0m EOL while scanning string literal\n"
          ]
        }
      ],
      "source": [
        "print('\\')"
      ],
      "id": "15e5a3f5"
    },
    {
      "cell_type": "code",
      "execution_count": null,
      "metadata": {
        "colab": {
          "base_uri": "https://localhost:8080/"
        },
        "id": "b106529a",
        "outputId": "d0729a52-bacd-4be6-feec-0ab45d885488"
      },
      "outputs": [
        {
          "output_type": "stream",
          "name": "stdout",
          "text": [
            "\\\n"
          ]
        }
      ],
      "source": [
        "print('\\\\')"
      ],
      "id": "b106529a"
    },
    {
      "cell_type": "code",
      "source": [
        "print(\"\\\" ************** \\\"\")"
      ],
      "metadata": {
        "colab": {
          "base_uri": "https://localhost:8080/"
        },
        "id": "QqNCCtWgM-VT",
        "outputId": "6f82d379-0f16-4fa6-d8ad-a543c74c74cc"
      },
      "execution_count": null,
      "outputs": [
        {
          "output_type": "stream",
          "name": "stdout",
          "text": [
            "\" ************** \"\n"
          ]
        }
      ],
      "id": "QqNCCtWgM-VT"
    },
    {
      "cell_type": "code",
      "execution_count": null,
      "metadata": {
        "colab": {
          "base_uri": "https://localhost:8080/",
          "height": 36
        },
        "id": "c8bd0aa8",
        "outputId": "e0eedf87-a991-4ae4-b377-be9308c4dc39"
      },
      "outputs": [
        {
          "output_type": "execute_result",
          "data": {
            "text/plain": [
              "'We are the so-called \"vikings\" from the north'"
            ],
            "application/vnd.google.colaboratory.intrinsic+json": {
              "type": "string"
            }
          },
          "metadata": {},
          "execution_count": 47
        }
      ],
      "source": [
        "txt = \"We are the so-called \\\"vikings\\\" from the north\"\n",
        "txt"
      ],
      "id": "c8bd0aa8"
    },
    {
      "cell_type": "code",
      "execution_count": null,
      "metadata": {
        "colab": {
          "base_uri": "https://localhost:8080/",
          "height": 36
        },
        "id": "5f672763",
        "outputId": "a59eb9cb-ac0a-4682-a4fc-2b54f463d850"
      },
      "outputs": [
        {
          "output_type": "execute_result",
          "data": {
            "text/plain": [
              "'We are the so-called \"vikings\" from the north'"
            ],
            "application/vnd.google.colaboratory.intrinsic+json": {
              "type": "string"
            }
          },
          "metadata": {},
          "execution_count": 48
        }
      ],
      "source": [
        "txt = 'We are the so-called \"vikings\" from the north'\n",
        "txt"
      ],
      "id": "5f672763"
    },
    {
      "cell_type": "code",
      "source": [
        "print('\\'***********\\'')"
      ],
      "metadata": {
        "colab": {
          "base_uri": "https://localhost:8080/"
        },
        "id": "Zw0udaZkNjEu",
        "outputId": "99892189-359c-4b7a-b988-0603cc2f69f6"
      },
      "execution_count": null,
      "outputs": [
        {
          "output_type": "stream",
          "name": "stdout",
          "text": [
            "'***********'\n"
          ]
        }
      ],
      "id": "Zw0udaZkNjEu"
    },
    {
      "cell_type": "code",
      "execution_count": null,
      "metadata": {
        "colab": {
          "base_uri": "https://localhost:8080/",
          "height": 36
        },
        "id": "c1c2ca10",
        "outputId": "4fe25015-122e-40cf-9b6e-bac1f3c7b611"
      },
      "outputs": [
        {
          "output_type": "execute_result",
          "data": {
            "text/plain": [
              "\"it's alright\""
            ],
            "application/vnd.google.colaboratory.intrinsic+json": {
              "type": "string"
            }
          },
          "metadata": {},
          "execution_count": 50
        }
      ],
      "source": [
        "txt = 'it\\'s alright'\n",
        "txt"
      ],
      "id": "c1c2ca10"
    },
    {
      "cell_type": "code",
      "source": [
        "txt = \"it's alright\"\n",
        "txt"
      ],
      "metadata": {
        "colab": {
          "base_uri": "https://localhost:8080/",
          "height": 36
        },
        "id": "m5-9u5_hNs9U",
        "outputId": "71ef06de-9b2a-4782-8331-e05195244152"
      },
      "execution_count": null,
      "outputs": [
        {
          "output_type": "execute_result",
          "data": {
            "text/plain": [
              "\"it's alright\""
            ],
            "application/vnd.google.colaboratory.intrinsic+json": {
              "type": "string"
            }
          },
          "metadata": {},
          "execution_count": 51
        }
      ],
      "id": "m5-9u5_hNs9U"
    },
    {
      "cell_type": "code",
      "execution_count": null,
      "metadata": {
        "colab": {
          "base_uri": "https://localhost:8080/"
        },
        "id": "5e1732f0",
        "outputId": "ff5df6e5-fd1b-471d-dace-c80263909167"
      },
      "outputs": [
        {
          "output_type": "stream",
          "name": "stdout",
          "text": [
            "this is \\\n"
          ]
        }
      ],
      "source": [
        "txt = \"this is \\\\\"\n",
        "print(txt)"
      ],
      "id": "5e1732f0"
    },
    {
      "cell_type": "code",
      "execution_count": null,
      "metadata": {
        "colab": {
          "base_uri": "https://localhost:8080/"
        },
        "id": "b3b474e0",
        "outputId": "5d48ef65-81d4-4742-ae00-45b46883d657"
      },
      "outputs": [
        {
          "output_type": "stream",
          "name": "stdout",
          "text": [
            "hello \n",
            "World \n"
          ]
        }
      ],
      "source": [
        "txt = \"hello \\nWorld \"\n",
        "print(txt)"
      ],
      "id": "b3b474e0"
    },
    {
      "cell_type": "code",
      "execution_count": null,
      "metadata": {
        "colab": {
          "base_uri": "https://localhost:8080/"
        },
        "id": "f318d1e6",
        "outputId": "d55307ff-f61e-4ddf-f730-1628a045877a"
      },
      "outputs": [
        {
          "output_type": "stream",
          "name": "stdout",
          "text": [
            "Hello \bWorld\n"
          ]
        }
      ],
      "source": [
        "txt = \"Hello \\bWorld\"\n",
        "print(txt)"
      ],
      "id": "f318d1e6"
    },
    {
      "cell_type": "markdown",
      "source": [
        "**Boolean**"
      ],
      "metadata": {
        "id": "1zOzXATDjkOZ"
      },
      "id": "1zOzXATDjkOZ"
    },
    {
      "cell_type": "code",
      "source": [
        "'h' in 'Jhon'"
      ],
      "metadata": {
        "colab": {
          "base_uri": "https://localhost:8080/"
        },
        "id": "QhJJHaVUjmMW",
        "outputId": "4f659f83-ec4a-4df9-cd14-485297dc7d9f"
      },
      "execution_count": null,
      "outputs": [
        {
          "output_type": "execute_result",
          "data": {
            "text/plain": [
              "True"
            ]
          },
          "metadata": {},
          "execution_count": 97
        }
      ],
      "id": "QhJJHaVUjmMW"
    },
    {
      "cell_type": "code",
      "source": [
        "raining = True\n",
        "if raining: print(\"Take the cloths\")"
      ],
      "metadata": {
        "colab": {
          "base_uri": "https://localhost:8080/"
        },
        "id": "EIptubADjvW8",
        "outputId": "7602629d-2c3a-49bf-d3f9-f816552a6efa"
      },
      "execution_count": null,
      "outputs": [
        {
          "output_type": "stream",
          "name": "stdout",
          "text": [
            "Take the cloths\n"
          ]
        }
      ],
      "id": "EIptubADjvW8"
    },
    {
      "cell_type": "code",
      "source": [
        "bool('Hiranya')"
      ],
      "metadata": {
        "colab": {
          "base_uri": "https://localhost:8080/"
        },
        "id": "7KbwWhvpj9CC",
        "outputId": "e931d3ba-03d3-4553-cce6-5f1bb4c95993"
      },
      "execution_count": null,
      "outputs": [
        {
          "output_type": "execute_result",
          "data": {
            "text/plain": [
              "True"
            ]
          },
          "metadata": {},
          "execution_count": 99
        }
      ],
      "id": "7KbwWhvpj9CC"
    },
    {
      "cell_type": "code",
      "source": [
        "bool()"
      ],
      "metadata": {
        "colab": {
          "base_uri": "https://localhost:8080/"
        },
        "id": "bbC3etbTkD3s",
        "outputId": "98dc1eaa-3c57-4f9e-927d-ae89f115fb5a"
      },
      "execution_count": null,
      "outputs": [
        {
          "output_type": "execute_result",
          "data": {
            "text/plain": [
              "False"
            ]
          },
          "metadata": {},
          "execution_count": 100
        }
      ],
      "id": "bbC3etbTkD3s"
    },
    {
      "cell_type": "code",
      "source": [
        "bool('')"
      ],
      "metadata": {
        "colab": {
          "base_uri": "https://localhost:8080/"
        },
        "id": "fgmdc995NToR",
        "outputId": "b84b1807-5cf9-477a-8224-44a1b8b29cfc"
      },
      "execution_count": null,
      "outputs": [
        {
          "output_type": "execute_result",
          "data": {
            "text/plain": [
              "False"
            ]
          },
          "metadata": {},
          "execution_count": 103
        }
      ],
      "id": "fgmdc995NToR"
    },
    {
      "cell_type": "code",
      "source": [
        "bool(0)"
      ],
      "metadata": {
        "colab": {
          "base_uri": "https://localhost:8080/"
        },
        "id": "GklpeJUkkGNl",
        "outputId": "91ba96e7-2f6c-44a1-d4ec-5d149cd28011"
      },
      "execution_count": null,
      "outputs": [
        {
          "output_type": "execute_result",
          "data": {
            "text/plain": [
              "False"
            ]
          },
          "metadata": {},
          "execution_count": 18
        }
      ],
      "id": "GklpeJUkkGNl"
    },
    {
      "cell_type": "code",
      "source": [
        "bool(False)"
      ],
      "metadata": {
        "colab": {
          "base_uri": "https://localhost:8080/"
        },
        "id": "vItuiMxakIgS",
        "outputId": "a2e07464-8fc6-4c1a-ad97-99e0aa8efe0e"
      },
      "execution_count": null,
      "outputs": [
        {
          "output_type": "execute_result",
          "data": {
            "text/plain": [
              "False"
            ]
          },
          "metadata": {},
          "execution_count": 104
        }
      ],
      "id": "vItuiMxakIgS"
    },
    {
      "cell_type": "code",
      "source": [
        "fruits=['apple']"
      ],
      "metadata": {
        "id": "UvRn9IpeND1P"
      },
      "execution_count": null,
      "outputs": [],
      "id": "UvRn9IpeND1P"
    },
    {
      "cell_type": "code",
      "source": [
        "bool(fruits)"
      ],
      "metadata": {
        "colab": {
          "base_uri": "https://localhost:8080/"
        },
        "id": "Ns_kEE5QkM4N",
        "outputId": "61315f7e-481a-4987-efd8-99c5ff290c39"
      },
      "execution_count": null,
      "outputs": [
        {
          "output_type": "execute_result",
          "data": {
            "text/plain": [
              "True"
            ]
          },
          "metadata": {},
          "execution_count": 106
        }
      ],
      "id": "Ns_kEE5QkM4N"
    },
    {
      "cell_type": "code",
      "source": [
        "bool([])"
      ],
      "metadata": {
        "colab": {
          "base_uri": "https://localhost:8080/"
        },
        "id": "PSJj2sIwkVho",
        "outputId": "f35e01cb-5f87-4738-e7f8-f5801003d3cc"
      },
      "execution_count": null,
      "outputs": [
        {
          "output_type": "execute_result",
          "data": {
            "text/plain": [
              "False"
            ]
          },
          "metadata": {},
          "execution_count": 107
        }
      ],
      "id": "PSJj2sIwkVho"
    },
    {
      "cell_type": "code",
      "source": [
        "def greet():\n",
        "  print(\"Have a  nice day !!!\")\n",
        "  #return( \"Have a  nice day !!!\")"
      ],
      "metadata": {
        "id": "ORKPAEQnkYrq"
      },
      "execution_count": null,
      "outputs": [],
      "id": "ORKPAEQnkYrq"
    },
    {
      "cell_type": "code",
      "source": [
        "r = greet()\n",
        "y = greet()\n",
        "print(\"Done\")"
      ],
      "metadata": {
        "colab": {
          "base_uri": "https://localhost:8080/"
        },
        "id": "C9pasdIqkg1o",
        "outputId": "04e172b2-5f83-4b4d-e628-3189d669c5ed"
      },
      "execution_count": null,
      "outputs": [
        {
          "output_type": "stream",
          "name": "stdout",
          "text": [
            "Have a  nice day !!!\n",
            "Have a  nice day !!!\n",
            "Done\n"
          ]
        }
      ],
      "id": "C9pasdIqkg1o"
    },
    {
      "cell_type": "code",
      "source": [
        "print(r)"
      ],
      "metadata": {
        "colab": {
          "base_uri": "https://localhost:8080/"
        },
        "id": "orvOj6IJkoGF",
        "outputId": "65d03b7a-24b2-4504-dc18-72704d18731d"
      },
      "execution_count": null,
      "outputs": [
        {
          "output_type": "stream",
          "name": "stdout",
          "text": [
            "None\n"
          ]
        }
      ],
      "id": "orvOj6IJkoGF"
    },
    {
      "cell_type": "code",
      "source": [
        "print(y)"
      ],
      "metadata": {
        "colab": {
          "base_uri": "https://localhost:8080/"
        },
        "id": "AXoatd7EQe4J",
        "outputId": "224f1fc5-d1fd-4085-a9d1-4039ab2b90ee"
      },
      "execution_count": null,
      "outputs": [
        {
          "output_type": "stream",
          "name": "stdout",
          "text": [
            "None\n"
          ]
        }
      ],
      "id": "AXoatd7EQe4J"
    },
    {
      "cell_type": "code",
      "source": [
        "bool(greet())"
      ],
      "metadata": {
        "colab": {
          "base_uri": "https://localhost:8080/"
        },
        "id": "OBzLkUZlOZLM",
        "outputId": "2be975a1-9852-4a53-948f-321a4424e75d"
      },
      "execution_count": null,
      "outputs": [
        {
          "output_type": "stream",
          "name": "stdout",
          "text": [
            "Have a  nice day !!!\n"
          ]
        },
        {
          "output_type": "execute_result",
          "data": {
            "text/plain": [
              "False"
            ]
          },
          "metadata": {},
          "execution_count": 117
        }
      ],
      "id": "OBzLkUZlOZLM"
    },
    {
      "cell_type": "code",
      "source": [
        "help(None)"
      ],
      "metadata": {
        "colab": {
          "base_uri": "https://localhost:8080/"
        },
        "id": "t4PWlIzDmREb",
        "outputId": "78d1d556-4983-43c1-e622-13ad259d53c3"
      },
      "execution_count": null,
      "outputs": [
        {
          "output_type": "stream",
          "name": "stdout",
          "text": [
            "Help on NoneType object:\n",
            "\n",
            "class NoneType(object)\n",
            " |  Methods defined here:\n",
            " |  \n",
            " |  __bool__(self, /)\n",
            " |      True if self else False\n",
            " |  \n",
            " |  __repr__(self, /)\n",
            " |      Return repr(self).\n",
            " |  \n",
            " |  ----------------------------------------------------------------------\n",
            " |  Static methods defined here:\n",
            " |  \n",
            " |  __new__(*args, **kwargs) from builtins.type\n",
            " |      Create and return a new object.  See help(type) for accurate signature.\n",
            "\n"
          ]
        }
      ],
      "id": "t4PWlIzDmREb"
    },
    {
      "cell_type": "code",
      "source": [
        "bool(r)"
      ],
      "metadata": {
        "colab": {
          "base_uri": "https://localhost:8080/"
        },
        "id": "ExAKNINYkjyq",
        "outputId": "6832a59f-552e-483c-cb4a-f793e1d9efb1"
      },
      "execution_count": null,
      "outputs": [
        {
          "output_type": "execute_result",
          "data": {
            "text/plain": [
              "False"
            ]
          },
          "metadata": {},
          "execution_count": 118
        }
      ],
      "id": "ExAKNINYkjyq"
    },
    {
      "cell_type": "code",
      "source": [
        "def greet_msg():\n",
        "  print(\"Good Morning !!\")\n",
        "  return True"
      ],
      "metadata": {
        "id": "ntjPIGIfk0a1"
      },
      "execution_count": null,
      "outputs": [],
      "id": "ntjPIGIfk0a1"
    },
    {
      "cell_type": "code",
      "source": [
        "r = greet_msg()"
      ],
      "metadata": {
        "colab": {
          "base_uri": "https://localhost:8080/"
        },
        "id": "24FgX4Dxk4eg",
        "outputId": "97350dca-f709-4fd0-c81e-f988f46ee849"
      },
      "execution_count": null,
      "outputs": [
        {
          "output_type": "stream",
          "name": "stdout",
          "text": [
            "Good Morning !!\n"
          ]
        }
      ],
      "id": "24FgX4Dxk4eg"
    },
    {
      "cell_type": "code",
      "source": [
        "bool(r)"
      ],
      "metadata": {
        "colab": {
          "base_uri": "https://localhost:8080/"
        },
        "id": "cLMr06mak8DR",
        "outputId": "947fcb5d-41c6-418b-b6a0-86d2af6efa49"
      },
      "execution_count": null,
      "outputs": [
        {
          "output_type": "execute_result",
          "data": {
            "text/plain": [
              "True"
            ]
          },
          "metadata": {},
          "execution_count": 121
        }
      ],
      "id": "cLMr06mak8DR"
    },
    {
      "cell_type": "code",
      "source": [
        "x=200\n",
        "isinstance(x,int)"
      ],
      "metadata": {
        "colab": {
          "base_uri": "https://localhost:8080/"
        },
        "id": "O9ly9pN9lCX_",
        "outputId": "65b1e0e3-c1a7-4635-9338-433e6b054b6e"
      },
      "execution_count": null,
      "outputs": [
        {
          "output_type": "execute_result",
          "data": {
            "text/plain": [
              "True"
            ]
          },
          "metadata": {},
          "execution_count": 122
        }
      ],
      "id": "O9ly9pN9lCX_"
    },
    {
      "cell_type": "code",
      "source": [
        "x =1\n",
        "isinstance(x,bool)"
      ],
      "metadata": {
        "colab": {
          "base_uri": "https://localhost:8080/"
        },
        "id": "F45zhcrrlISE",
        "outputId": "dac611fa-23eb-40c5-8323-41128e32ca40"
      },
      "execution_count": null,
      "outputs": [
        {
          "output_type": "execute_result",
          "data": {
            "text/plain": [
              "False"
            ]
          },
          "metadata": {},
          "execution_count": 123
        }
      ],
      "id": "F45zhcrrlISE"
    },
    {
      "cell_type": "code",
      "source": [
        "x = True\n",
        "isinstance(x,bool)"
      ],
      "metadata": {
        "colab": {
          "base_uri": "https://localhost:8080/"
        },
        "id": "53jw238ozVmb",
        "outputId": "622f2bac-f787-49bd-a9fe-15cad7b1497c"
      },
      "execution_count": null,
      "outputs": [
        {
          "output_type": "execute_result",
          "data": {
            "text/plain": [
              "True"
            ]
          },
          "metadata": {},
          "execution_count": 124
        }
      ],
      "id": "53jw238ozVmb"
    },
    {
      "cell_type": "code",
      "execution_count": null,
      "metadata": {
        "id": "3de532e4",
        "outputId": "638d1e58-83d0-4ee6-f535-fb565141fae1",
        "colab": {
          "base_uri": "https://localhost:8080/"
        }
      },
      "outputs": [
        {
          "output_type": "execute_result",
          "data": {
            "text/plain": [
              "4"
            ]
          },
          "metadata": {},
          "execution_count": 125
        }
      ],
      "source": [
        "len(data)"
      ],
      "id": "3de532e4"
    }
  ],
  "metadata": {
    "kernelspec": {
      "display_name": "Python 3 (ipykernel)",
      "language": "python",
      "name": "python3"
    },
    "language_info": {
      "codemirror_mode": {
        "name": "ipython",
        "version": 3
      },
      "file_extension": ".py",
      "mimetype": "text/x-python",
      "name": "python",
      "nbconvert_exporter": "python",
      "pygments_lexer": "ipython3",
      "version": "3.9.2"
    },
    "colab": {
      "provenance": []
    }
  },
  "nbformat": 4,
  "nbformat_minor": 5
}