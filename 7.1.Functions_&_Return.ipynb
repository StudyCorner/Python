{
  "cells": [
    {
      "cell_type": "markdown",
      "metadata": {
        "id": "23627a31"
      },
      "source": [
        "# Assert statement"
      ],
      "id": "23627a31"
    },
    {
      "cell_type": "code",
      "execution_count": null,
      "metadata": {
        "colab": {
          "base_uri": "https://localhost:8080/"
        },
        "id": "d4d5ce9a",
        "outputId": "8f9ec6aa-48c8-4d4c-dd9b-11f7778937de"
      },
      "outputs": [
        {
          "name": "stdout",
          "output_type": "stream",
          "text": [
            "10\n"
          ]
        }
      ],
      "source": [
        "x = 10\n",
        "assert x == 10\n",
        "print(x)"
      ],
      "id": "d4d5ce9a"
    },
    {
      "cell_type": "code",
      "execution_count": null,
      "metadata": {
        "colab": {
          "base_uri": "https://localhost:8080/",
          "height": 190
        },
        "id": "56b2c78a",
        "outputId": "e39caa52-d482-4621-efef-75f312e94e4d"
      },
      "outputs": [
        {
          "ename": "AssertionError",
          "evalue": "ignored",
          "output_type": "error",
          "traceback": [
            "\u001b[0;31m---------------------------------------------------------------------------\u001b[0m",
            "\u001b[0;31mAssertionError\u001b[0m                            Traceback (most recent call last)",
            "\u001b[0;32m<ipython-input-2-52f8625f1490>\u001b[0m in \u001b[0;36m<module>\u001b[0;34m\u001b[0m\n\u001b[0;32m----> 1\u001b[0;31m \u001b[0;32massert\u001b[0m \u001b[0mx\u001b[0m\u001b[0;34m%\u001b[0m\u001b[0;36m2\u001b[0m\u001b[0;34m!=\u001b[0m\u001b[0;36m0\u001b[0m\u001b[0;34m\u001b[0m\u001b[0;34m\u001b[0m\u001b[0m\n\u001b[0m\u001b[1;32m      2\u001b[0m \u001b[0mprint\u001b[0m\u001b[0;34m(\u001b[0m\u001b[0mx\u001b[0m\u001b[0;34m)\u001b[0m\u001b[0;34m\u001b[0m\u001b[0;34m\u001b[0m\u001b[0m\n",
            "\u001b[0;31mAssertionError\u001b[0m: "
          ]
        }
      ],
      "source": [
        "assert x%2!=0\n",
        "print(x)"
      ],
      "id": "56b2c78a"
    },
    {
      "cell_type": "markdown",
      "metadata": {
        "id": "IHxmnn3BysIG"
      },
      "source": [
        "**Procedural Style of programming**"
      ],
      "id": "IHxmnn3BysIG"
    },
    {
      "cell_type": "code",
      "execution_count": null,
      "metadata": {
        "colab": {
          "base_uri": "https://localhost:8080/"
        },
        "id": "K5EAP7KXyx1j",
        "outputId": "16cf4e81-551a-4a1e-95cc-881a32c12449"
      },
      "outputs": [
        {
          "data": {
            "text/plain": [
              "30"
            ]
          },
          "execution_count": 1,
          "metadata": {},
          "output_type": "execute_result"
        }
      ],
      "source": [
        "a = 10\n",
        "b = 20\n",
        "c = a+b\n",
        "c"
      ],
      "id": "K5EAP7KXyx1j"
    },
    {
      "cell_type": "code",
      "execution_count": null,
      "metadata": {
        "id": "HCx8uLMWzI9Q"
      },
      "outputs": [],
      "source": [
        "def add(a,b):\n",
        "  return(a+b)\n",
        "  # dont repeat yourself (DRY)"
      ],
      "id": "HCx8uLMWzI9Q"
    },
    {
      "cell_type": "code",
      "execution_count": null,
      "metadata": {
        "colab": {
          "base_uri": "https://localhost:8080/"
        },
        "id": "2d8Zz6pozQpg",
        "outputId": "c2c5f200-91c9-4221-8e69-404999bc8532"
      },
      "outputs": [
        {
          "data": {
            "text/plain": [
              "9"
            ]
          },
          "execution_count": 3,
          "metadata": {},
          "output_type": "execute_result"
        }
      ],
      "source": [
        "add(4,5)"
      ],
      "id": "2d8Zz6pozQpg"
    },
    {
      "cell_type": "code",
      "execution_count": null,
      "metadata": {
        "colab": {
          "base_uri": "https://localhost:8080/"
        },
        "id": "s0_nSfz1zV6V",
        "outputId": "ca66e5ab-51ca-420d-a050-ace4eb5cd493"
      },
      "outputs": [
        {
          "data": {
            "text/plain": [
              "12"
            ]
          },
          "execution_count": 4,
          "metadata": {},
          "output_type": "execute_result"
        }
      ],
      "source": [
        "add(9,3)"
      ],
      "id": "s0_nSfz1zV6V"
    },
    {
      "cell_type": "markdown",
      "metadata": {
        "id": "ddab3b46"
      },
      "source": [
        "# Functions"
      ],
      "id": "ddab3b46"
    },
    {
      "cell_type": "markdown",
      "metadata": {
        "id": "AQCvM75T0JAi"
      },
      "source": [
        "block of code that performs some  specific task"
      ],
      "id": "AQCvM75T0JAi"
    },
    {
      "cell_type": "markdown",
      "metadata": {
        "id": "zM2wZt2n0PnN"
      },
      "source": [
        "dividing a complex problem into smaller chuncks makes our program easy to understand and reuse and debug"
      ],
      "id": "zM2wZt2n0PnN"
    },
    {
      "cell_type": "raw",
      "metadata": {
        "id": "ada5c8a2"
      },
      "source": [
        "# WORM ---. write once read many\n",
        "# code reusability (avoids code repetation)\n",
        "# easy debugging\n",
        "# organizing , manageable , maintainability"
      ],
      "id": "ada5c8a2"
    },
    {
      "cell_type": "code",
      "execution_count": null,
      "metadata": {
        "id": "f83f6c6a"
      },
      "outputs": [],
      "source": [
        "# syntax\n",
        "\n",
        "# function names ---> camelCase\n",
        "\n",
        "# def --> keyword \n",
        "# doAdd ---> identifier function name\n",
        "# (arguments)  ---> data passed at function call\n",
        "# colon : ----> denotes function header\n",
        "# doc string   ----> multi line string describes about what function is doing\n",
        "# code block   ---> body of function\n",
        "# return      ----> end of the function return address where function has to return\n",
        "\n",
        "def doAdd(a,b):     # -----> Function Header\n",
        "    \"\"\" this fuction\n",
        "    adds two numbers \n",
        "    that comes in argument\n",
        "    \"\"\"\n",
        "    print('Sum : \\t' ,a+b)\n",
        "    #return"
      ],
      "id": "f83f6c6a"
    },
    {
      "cell_type": "markdown",
      "metadata": {
        "id": "cdMHxPfeqmmz"
      },
      "source": [
        "mandatory:\n",
        "          def keyword\n",
        "\n",
        "*   def keyword\n",
        "*   indentation\n",
        "\n",
        "\n",
        "          function name\n",
        "          colon \n",
        "          atleast one statment\n",
        "          indentaion\n",
        "\n",
        "\n",
        "\n"
      ],
      "id": "cdMHxPfeqmmz"
    },
    {
      "cell_type": "markdown",
      "metadata": {
        "id": "3mm5GgbirRAI"
      },
      "source": [
        "optional \n",
        "\n",
        "\n",
        "\n",
        "*   parameters\n",
        "*   doc string\n",
        "\n",
        "\n",
        "*   return\n",
        "\n",
        "\n",
        "\n",
        "\n"
      ],
      "id": "3mm5GgbirRAI"
    },
    {
      "cell_type": "code",
      "execution_count": null,
      "metadata": {
        "colab": {
          "base_uri": "https://localhost:8080/"
        },
        "id": "d38630ef",
        "outputId": "90d04a39-29f7-48f8-e146-65b1f4399f70"
      },
      "outputs": [
        {
          "name": "stdout",
          "output_type": "stream",
          "text": [
            "Sum : \t 9\n"
          ]
        }
      ],
      "source": [
        "doAdd(4,5)"
      ],
      "id": "d38630ef"
    },
    {
      "cell_type": "code",
      "execution_count": null,
      "metadata": {
        "colab": {
          "base_uri": "https://localhost:8080/"
        },
        "id": "13a7f512",
        "outputId": "ed7cb798-e4cb-41cf-8b0a-b2960dc3c1f1"
      },
      "outputs": [
        {
          "name": "stdout",
          "output_type": "stream",
          "text": [
            " this fuction\n",
            "    adds two numbers \n",
            "    that comes in argument\n",
            "    \n"
          ]
        }
      ],
      "source": [
        "print(doAdd.__doc__)"
      ],
      "id": "13a7f512"
    },
    {
      "cell_type": "code",
      "execution_count": null,
      "metadata": {
        "colab": {
          "base_uri": "https://localhost:8080/"
        },
        "id": "Bjp__eNM97mR",
        "outputId": "e0d7570a-473d-470a-ebe7-10ef1fa9bd6e"
      },
      "outputs": [
        {
          "data": {
            "text/plain": [
              "120"
            ]
          },
          "execution_count": 8,
          "metadata": {},
          "output_type": "execute_result"
        }
      ],
      "source": [
        "import math\n",
        "\n",
        "math.factorial(5)"
      ],
      "id": "Bjp__eNM97mR"
    },
    {
      "cell_type": "code",
      "execution_count": null,
      "metadata": {
        "colab": {
          "base_uri": "https://localhost:8080/"
        },
        "id": "6XwJAo0W-B2Z",
        "outputId": "3ee4b547-4c83-4be8-f29c-3e1ac71517c1"
      },
      "outputs": [
        {
          "name": "stdout",
          "output_type": "stream",
          "text": [
            "Find x!.\n",
            "\n",
            "Raise a ValueError if x is negative or non-integral.\n"
          ]
        }
      ],
      "source": [
        "print(math.factorial.__doc__)"
      ],
      "id": "6XwJAo0W-B2Z"
    },
    {
      "cell_type": "code",
      "execution_count": null,
      "metadata": {
        "colab": {
          "base_uri": "https://localhost:8080/",
          "height": 166
        },
        "id": "DVyWWmOx-LaM",
        "outputId": "5d689c7d-448c-4b5c-e945-4609a7b47a0e"
      },
      "outputs": [
        {
          "ename": "ValueError",
          "evalue": "ignored",
          "output_type": "error",
          "traceback": [
            "\u001b[0;31m---------------------------------------------------------------------------\u001b[0m",
            "\u001b[0;31mValueError\u001b[0m                                Traceback (most recent call last)",
            "\u001b[0;32m<ipython-input-53-8f05d4f1138b>\u001b[0m in \u001b[0;36m<module>\u001b[0;34m\u001b[0m\n\u001b[0;32m----> 1\u001b[0;31m \u001b[0mmath\u001b[0m\u001b[0;34m.\u001b[0m\u001b[0mfactorial\u001b[0m\u001b[0;34m(\u001b[0m\u001b[0;34m-\u001b[0m\u001b[0;36m3\u001b[0m\u001b[0;34m)\u001b[0m\u001b[0;34m\u001b[0m\u001b[0;34m\u001b[0m\u001b[0m\n\u001b[0m",
            "\u001b[0;31mValueError\u001b[0m: factorial() not defined for negative values"
          ]
        }
      ],
      "source": [
        "math.factorial(-3)"
      ],
      "id": "DVyWWmOx-LaM"
    },
    {
      "cell_type": "code",
      "execution_count": null,
      "metadata": {
        "colab": {
          "background_save": true,
          "base_uri": "https://localhost:8080/",
          "height": 166
        },
        "id": "_b_G2zj6-Vxy",
        "outputId": "32e80f8b-aa04-470b-e41f-247801c5b6de"
      },
      "outputs": [
        {
          "name": "stderr",
          "output_type": "stream",
          "text": [
            "<ipython-input-11-9885360a2e8a>:1: DeprecationWarning: Using factorial() with floats is deprecated\n",
            "  math.factorial(9.5)\n"
          ]
        },
        {
          "ename": "ValueError",
          "evalue": "ignored",
          "output_type": "error",
          "traceback": [
            "\u001b[0;31m---------------------------------------------------------------------------\u001b[0m",
            "\u001b[0;31mValueError\u001b[0m                                Traceback (most recent call last)",
            "\u001b[0;32m<ipython-input-11-9885360a2e8a>\u001b[0m in \u001b[0;36m<cell line: 1>\u001b[0;34m()\u001b[0m\n\u001b[0;32m----> 1\u001b[0;31m \u001b[0mmath\u001b[0m\u001b[0;34m.\u001b[0m\u001b[0mfactorial\u001b[0m\u001b[0;34m(\u001b[0m\u001b[0;36m9.5\u001b[0m\u001b[0;34m)\u001b[0m\u001b[0;34m\u001b[0m\u001b[0;34m\u001b[0m\u001b[0m\n\u001b[0m",
            "\u001b[0;31mValueError\u001b[0m: factorial() only accepts integral values"
          ]
        }
      ],
      "source": [
        "math.factorial(9.5)"
      ],
      "id": "_b_G2zj6-Vxy"
    },
    {
      "cell_type": "code",
      "execution_count": null,
      "metadata": {
        "colab": {
          "base_uri": "https://localhost:8080/"
        },
        "id": "52182d3d",
        "outputId": "6e3d78d4-3159-4902-ddc8-f4c73f3564c7"
      },
      "outputs": [
        {
          "name": "stdout",
          "output_type": "stream",
          "text": [
            "\tDeepak\n"
          ]
        }
      ],
      "source": [
        "name = \"\\tDeepak\"\n",
        "print(name)"
      ],
      "id": "52182d3d"
    },
    {
      "cell_type": "code",
      "execution_count": null,
      "metadata": {
        "id": "eE8_Sl_Q39PJ"
      },
      "outputs": [],
      "source": [
        "def sayHello():\n",
        "  print(\"Hello\")\n",
        "  return(\"Done\")\n"
      ],
      "id": "eE8_Sl_Q39PJ"
    },
    {
      "cell_type": "code",
      "execution_count": null,
      "metadata": {
        "colab": {
          "base_uri": "https://localhost:8080/"
        },
        "id": "k3pFTz7n4DyT",
        "outputId": "1a4658c9-d057-4b1f-f9d0-206ab6ed7f6e"
      },
      "outputs": [
        {
          "name": "stdout",
          "output_type": "stream",
          "text": [
            "Hello\n"
          ]
        }
      ],
      "source": [
        "my_return = sayHello()"
      ],
      "id": "k3pFTz7n4DyT"
    },
    {
      "cell_type": "code",
      "execution_count": null,
      "metadata": {
        "colab": {
          "base_uri": "https://localhost:8080/"
        },
        "id": "R2_HAabp527F",
        "outputId": "5bf6cc54-d82e-4072-a1d9-0b15c2cf3b72"
      },
      "outputs": [
        {
          "name": "stdout",
          "output_type": "stream",
          "text": [
            "Done\n"
          ]
        }
      ],
      "source": [
        "print(my_return)"
      ],
      "id": "R2_HAabp527F"
    },
    {
      "cell_type": "code",
      "execution_count": null,
      "metadata": {
        "id": "fff3a051"
      },
      "outputs": [],
      "source": [
        "def sum(a,b):\n",
        "    print(\"Sum : \\t \",a+b)\n",
        "    return (a+b)"
      ],
      "id": "fff3a051"
    },
    {
      "cell_type": "code",
      "execution_count": null,
      "metadata": {
        "colab": {
          "base_uri": "https://localhost:8080/"
        },
        "id": "23130dd5",
        "outputId": "d3e23dec-be2c-456b-962a-451f7ee2ad69"
      },
      "outputs": [
        {
          "name": "stdout",
          "output_type": "stream",
          "text": [
            "Sum : \t  5\n"
          ]
        }
      ],
      "source": [
        "my_return = sum(3,2)"
      ],
      "id": "23130dd5"
    },
    {
      "cell_type": "code",
      "execution_count": null,
      "metadata": {
        "colab": {
          "base_uri": "https://localhost:8080/"
        },
        "id": "b614bcbe",
        "outputId": "6638bac5-00ca-4bf8-90d0-0d4df07be9ff"
      },
      "outputs": [
        {
          "name": "stdout",
          "output_type": "stream",
          "text": [
            "5\n"
          ]
        }
      ],
      "source": [
        "print(my_return)"
      ],
      "id": "b614bcbe"
    },
    {
      "cell_type": "code",
      "execution_count": null,
      "metadata": {
        "id": "130c8a64"
      },
      "outputs": [],
      "source": [
        "def sayHi():\n",
        "  return (\"HI\")\n",
        "  print(\"bye\")\n",
        "    "
      ],
      "id": "130c8a64"
    },
    {
      "cell_type": "code",
      "execution_count": null,
      "metadata": {
        "id": "79850972"
      },
      "outputs": [],
      "source": [
        "rm = sayHi()"
      ],
      "id": "79850972"
    },
    {
      "cell_type": "code",
      "execution_count": null,
      "metadata": {
        "colab": {
          "base_uri": "https://localhost:8080/"
        },
        "id": "c63d8447",
        "outputId": "cf309a38-6796-4fff-c109-6d4dd8e0ce1a"
      },
      "outputs": [
        {
          "name": "stdout",
          "output_type": "stream",
          "text": [
            "HI\n"
          ]
        }
      ],
      "source": [
        "print(rm)"
      ],
      "id": "c63d8447"
    },
    {
      "cell_type": "markdown",
      "metadata": {
        "id": "F_65mzkF87z9"
      },
      "source": [
        "is it possible for a function to have multiple returns ?"
      ],
      "id": "F_65mzkF87z9"
    },
    {
      "cell_type": "code",
      "execution_count": null,
      "metadata": {
        "id": "dWEE5wrOuz9z"
      },
      "outputs": [],
      "source": [
        "def task():\n",
        "  print(\"Task Done\")\n",
        "  return \"home\"\n",
        "  return \"hotel\""
      ],
      "id": "dWEE5wrOuz9z"
    },
    {
      "cell_type": "code",
      "execution_count": null,
      "metadata": {
        "colab": {
          "base_uri": "https://localhost:8080/"
        },
        "id": "X5PYDLdVu1x1",
        "outputId": "7f0fb738-661b-43ce-b22d-56266b0bb38c"
      },
      "outputs": [
        {
          "name": "stdout",
          "output_type": "stream",
          "text": [
            "Task Done\n",
            "Returned  home\n"
          ]
        }
      ],
      "source": [
        "r =task()\n",
        "\n",
        "print(\"Returned \",r)"
      ],
      "id": "X5PYDLdVu1x1"
    },
    {
      "cell_type": "code",
      "execution_count": null,
      "metadata": {
        "id": "a84960e4"
      },
      "outputs": [],
      "source": [
        "def even_odd(num):\n",
        "    if (num%2)==0:\n",
        "        return (\"Even\")\n",
        "    else:\n",
        "        return (\"Odd\")"
      ],
      "id": "a84960e4"
    },
    {
      "cell_type": "code",
      "execution_count": null,
      "metadata": {
        "colab": {
          "base_uri": "https://localhost:8080/",
          "height": 35
        },
        "id": "ab387d64",
        "outputId": "0f0111e5-aef5-40ff-91f1-597daa4b58fc"
      },
      "outputs": [
        {
          "data": {
            "application/vnd.google.colaboratory.intrinsic+json": {
              "type": "string"
            },
            "text/plain": [
              "'Even'"
            ]
          },
          "execution_count": 41,
          "metadata": {},
          "output_type": "execute_result"
        }
      ],
      "source": [
        "even_odd(2)"
      ],
      "id": "ab387d64"
    },
    {
      "cell_type": "markdown",
      "metadata": {
        "id": "GNy7EBn58z0M"
      },
      "source": [
        "return function returns multiple values"
      ],
      "id": "GNy7EBn58z0M"
    },
    {
      "cell_type": "code",
      "execution_count": null,
      "metadata": {
        "id": "5SNN0ln_7a8C"
      },
      "outputs": [],
      "source": [
        "def printNames():\n",
        "  return(\"Anu\",\"Tanu\")"
      ],
      "id": "5SNN0ln_7a8C"
    },
    {
      "cell_type": "code",
      "execution_count": null,
      "metadata": {
        "id": "MXuXI90Z7lNC"
      },
      "outputs": [],
      "source": [
        "return_data =  printNames()"
      ],
      "id": "MXuXI90Z7lNC"
    },
    {
      "cell_type": "code",
      "execution_count": null,
      "metadata": {
        "colab": {
          "base_uri": "https://localhost:8080/"
        },
        "id": "8Ik90uV07xv5",
        "outputId": "e0dadd2c-8f7e-4da6-9a6f-00a8b265a676"
      },
      "outputs": [
        {
          "data": {
            "text/plain": [
              "tuple"
            ]
          },
          "execution_count": 44,
          "metadata": {},
          "output_type": "execute_result"
        }
      ],
      "source": [
        "type(return_data)"
      ],
      "id": "8Ik90uV07xv5"
    },
    {
      "cell_type": "code",
      "execution_count": null,
      "metadata": {
        "colab": {
          "base_uri": "https://localhost:8080/"
        },
        "id": "rpYcZZsR78Le",
        "outputId": "cd5a611b-8da1-4980-f0b7-12fc6846a470"
      },
      "outputs": [
        {
          "data": {
            "text/plain": [
              "('Anu', 'Tanu')"
            ]
          },
          "execution_count": 45,
          "metadata": {},
          "output_type": "execute_result"
        }
      ],
      "source": [
        "return_data"
      ],
      "id": "rpYcZZsR78Le"
    },
    {
      "cell_type": "markdown",
      "metadata": {
        "id": "bqqfLOnj8jGD"
      },
      "source": [
        "Return Statement can be passed as an argument to another function"
      ],
      "id": "bqqfLOnj8jGD"
    },
    {
      "cell_type": "code",
      "execution_count": null,
      "metadata": {
        "id": "fHFtX-H28G0X"
      },
      "outputs": [],
      "source": [
        "def sub(a,b):\n",
        "  return(a-b)\n",
        "\n",
        "def sqr(a):\n",
        "  return(a*a)"
      ],
      "id": "fHFtX-H28G0X"
    },
    {
      "cell_type": "code",
      "execution_count": null,
      "metadata": {
        "colab": {
          "base_uri": "https://localhost:8080/"
        },
        "id": "7S8Rz2Jd8R4t",
        "outputId": "907438c8-d750-444a-9e59-b7dfe73cba8f"
      },
      "outputs": [
        {
          "data": {
            "text/plain": [
              "16"
            ]
          },
          "execution_count": 47,
          "metadata": {},
          "output_type": "execute_result"
        }
      ],
      "source": [
        "sqr(sub(9,5))"
      ],
      "id": "7S8Rz2Jd8R4t"
    }
  ],
  "metadata": {
    "colab": {
      "provenance": []
    },
    "kernelspec": {
      "display_name": "Python 3 (ipykernel)",
      "language": "python",
      "name": "python3"
    },
    "language_info": {
      "codemirror_mode": {
        "name": "ipython",
        "version": 3
      },
      "file_extension": ".py",
      "mimetype": "text/x-python",
      "name": "python",
      "nbconvert_exporter": "python",
      "pygments_lexer": "ipython3",
      "version": "3.9.2"
    }
  },
  "nbformat": 4,
  "nbformat_minor": 5
}