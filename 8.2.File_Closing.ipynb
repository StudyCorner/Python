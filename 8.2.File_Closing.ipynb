{
  "nbformat": 4,
  "nbformat_minor": 0,
  "metadata": {
    "colab": {
      "provenance": []
    },
    "kernelspec": {
      "name": "python3",
      "display_name": "Python 3"
    },
    "language_info": {
      "name": "python"
    }
  },
  "cells": [
    {
      "cell_type": "code",
      "execution_count": null,
      "metadata": {
        "id": "x0Ra1kWWgpd3"
      },
      "outputs": [],
      "source": [
        "f = open('new_file.txt','w')\n",
        "\n",
        "f.write(\"Hello\")\n",
        "\n",
        "f.close()"
      ]
    },
    {
      "cell_type": "code",
      "source": [
        "with open('test_file.txt','w') as file:\n",
        "    file.write('Hello one and all')\n",
        "    file.write(\"\\nHave a nice day !!!\")\n",
        "    print(\"is file got closed ? \", file.closed)\n",
        "\n",
        "\n",
        "print(\"is file got closed ? \", file.closed)"
      ],
      "metadata": {
        "id": "njKf-aXUg38s"
      },
      "execution_count": null,
      "outputs": []
    },
    {
      "cell_type": "code",
      "source": [
        "try:\n",
        "    # code\n",
        "    f = open('name.txt','w')\n",
        "   # name = 'syed '\n",
        "    f.write(name)\n",
        "except:\n",
        "    print(\"Exception raised\")\n",
        "finally:\n",
        "    # Always executed\n",
        "    print(\"Always welcomes you !!!\")\n",
        "    print(\"File closed !!! \")\n",
        "    f.close()\n",
        "\n",
        "print(\"File closed ---> \",f.closed)\n"
      ],
      "metadata": {
        "id": "h2GRUP1cg_Nz"
      },
      "execution_count": null,
      "outputs": []
    }
  ]
}