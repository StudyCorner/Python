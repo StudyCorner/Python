{
  "nbformat": 4,
  "nbformat_minor": 0,
  "metadata": {
    "colab": {
      "provenance": []
    },
    "kernelspec": {
      "name": "python3",
      "display_name": "Python 3"
    },
    "language_info": {
      "name": "python"
    }
  },
  "cells": [
    {
      "cell_type": "code",
      "execution_count": null,
      "metadata": {
        "id": "9aHlYXVDgMjb"
      },
      "outputs": [],
      "source": [
        "f = open('new.txt','w')\n",
        "\n",
        "if f.writable():\n",
        "    f.write(\"I am able to write\\n\") # f.write(str)\n",
        "    lines = [\n",
        "        'Good Morning\\n',\n",
        "        'Have a Nice Day !!!\\n',\n",
        "        'Take care'\n",
        "    ]\n",
        "    f.writelines(lines) # f.writelines(iterable)\n",
        "\n",
        "else:\n",
        "    print(\"Un able to write\")\n",
        "    print(\"Will try to read\\n\\n\")\n",
        "    print(f.read())"
      ]
    },
    {
      "cell_type": "code",
      "source": [
        "f = open('new.txt')\n",
        "\n",
        "if f.readable():\n",
        "    print(f.read(5)) # f.read() # default -1 char as its arg\n",
        "    print(\"Cursor blinks at \",f.tell())\n",
        "    f.seek(0)\n",
        "    print(\"Cursor blinks at \",f.tell())\n",
        "    print(f.readline())\n",
        "    f.seek(0)\n",
        "    print(\"Cursor blinks at \",f.tell())\n",
        "    print(\"Reads all lines\")\n",
        "    print(f.readlines())\n",
        "\n",
        "\n",
        "f.close()"
      ],
      "metadata": {
        "id": "HrGt4-QigT0-"
      },
      "execution_count": null,
      "outputs": []
    }
  ]
}